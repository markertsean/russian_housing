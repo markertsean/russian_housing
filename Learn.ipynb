{
 "cells": [
  {
   "cell_type": "code",
   "execution_count": 1,
   "metadata": {
    "collapsed": true
   },
   "outputs": [],
   "source": [
    "import numpy  as np\n",
    "import pandas as pd\n",
    "\n",
    "import matplotlib.pyplot as plt\n",
    "\n",
    "import remap_values      as rv\n",
    "import df_visualizations as dv"
   ]
  },
  {
   "cell_type": "code",
   "execution_count": 2,
   "metadata": {
    "collapsed": false
   },
   "outputs": [],
   "source": [
    "train_df = pd.read_csv( 'train_mod.csv' )\n",
    "test_df  = pd.read_csv(  'test_mod.csv' )\n",
    "target   = pd.read_csv(     'price.csv' )"
   ]
  },
  {
   "cell_type": "code",
   "execution_count": 3,
   "metadata": {
    "collapsed": true
   },
   "outputs": [
    {
     "data": {
      "text/html": [
       "<div>\n",
       "<table border=\"1\" class=\"dataframe\">\n",
       "  <thead>\n",
       "    <tr style=\"text-align: right;\">\n",
       "      <th></th>\n",
       "      <th>full_sq</th>\n",
       "      <th>life_sq</th>\n",
       "      <th>floor</th>\n",
       "      <th>max_floor</th>\n",
       "      <th>build_year</th>\n",
       "      <th>num_room</th>\n",
       "      <th>kitch_sq</th>\n",
       "      <th>product_type</th>\n",
       "      <th>state</th>\n",
       "      <th>area_m</th>\n",
       "      <th>...</th>\n",
       "      <th>sub_area_142</th>\n",
       "      <th>sub_area_143</th>\n",
       "      <th>sub_area_144</th>\n",
       "      <th>sub_area_145</th>\n",
       "      <th>economy_pca_0</th>\n",
       "      <th>economy_pca_1</th>\n",
       "      <th>economy_pca_2</th>\n",
       "      <th>economy_pca_3</th>\n",
       "      <th>economy_pca_4</th>\n",
       "      <th>economy_pca_5</th>\n",
       "    </tr>\n",
       "  </thead>\n",
       "  <tbody>\n",
       "    <tr>\n",
       "      <th>0</th>\n",
       "      <td>-0.478974</td>\n",
       "      <td>-0.230602</td>\n",
       "      <td>3.0</td>\n",
       "      <td>3.0</td>\n",
       "      <td>1890.542762</td>\n",
       "      <td>2.0</td>\n",
       "      <td>0.262875</td>\n",
       "      <td>0.0</td>\n",
       "      <td>0.0</td>\n",
       "      <td>-0.778320</td>\n",
       "      <td>...</td>\n",
       "      <td>0</td>\n",
       "      <td>0</td>\n",
       "      <td>0</td>\n",
       "      <td>0</td>\n",
       "      <td>4.339423</td>\n",
       "      <td>-2.483083</td>\n",
       "      <td>-2.359179</td>\n",
       "      <td>2.115526</td>\n",
       "      <td>0.497562</td>\n",
       "      <td>-0.504460</td>\n",
       "    </tr>\n",
       "    <tr>\n",
       "      <th>1</th>\n",
       "      <td>-1.164398</td>\n",
       "      <td>-1.019313</td>\n",
       "      <td>3.0</td>\n",
       "      <td>3.0</td>\n",
       "      <td>1890.542762</td>\n",
       "      <td>2.0</td>\n",
       "      <td>0.262875</td>\n",
       "      <td>0.0</td>\n",
       "      <td>0.0</td>\n",
       "      <td>-0.273679</td>\n",
       "      <td>...</td>\n",
       "      <td>0</td>\n",
       "      <td>0</td>\n",
       "      <td>0</td>\n",
       "      <td>0</td>\n",
       "      <td>4.340430</td>\n",
       "      <td>-2.478756</td>\n",
       "      <td>-2.371841</td>\n",
       "      <td>2.120667</td>\n",
       "      <td>0.498366</td>\n",
       "      <td>-0.498004</td>\n",
       "    </tr>\n",
       "    <tr>\n",
       "      <th>2</th>\n",
       "      <td>-0.478974</td>\n",
       "      <td>-0.068879</td>\n",
       "      <td>2.0</td>\n",
       "      <td>2.0</td>\n",
       "      <td>1890.542762</td>\n",
       "      <td>2.0</td>\n",
       "      <td>0.262875</td>\n",
       "      <td>0.0</td>\n",
       "      <td>0.0</td>\n",
       "      <td>-1.137734</td>\n",
       "      <td>...</td>\n",
       "      <td>0</td>\n",
       "      <td>0</td>\n",
       "      <td>0</td>\n",
       "      <td>0</td>\n",
       "      <td>4.332142</td>\n",
       "      <td>-2.467574</td>\n",
       "      <td>-2.363300</td>\n",
       "      <td>2.139086</td>\n",
       "      <td>0.501655</td>\n",
       "      <td>-0.518096</td>\n",
       "    </tr>\n",
       "    <tr>\n",
       "      <th>3</th>\n",
       "      <td>1.664444</td>\n",
       "      <td>1.174946</td>\n",
       "      <td>4.0</td>\n",
       "      <td>4.0</td>\n",
       "      <td>1890.542762</td>\n",
       "      <td>2.0</td>\n",
       "      <td>0.262875</td>\n",
       "      <td>0.0</td>\n",
       "      <td>0.0</td>\n",
       "      <td>0.066451</td>\n",
       "      <td>...</td>\n",
       "      <td>0</td>\n",
       "      <td>0</td>\n",
       "      <td>0</td>\n",
       "      <td>0</td>\n",
       "      <td>3.715622</td>\n",
       "      <td>-2.715521</td>\n",
       "      <td>-1.499621</td>\n",
       "      <td>1.731055</td>\n",
       "      <td>0.450541</td>\n",
       "      <td>-1.242619</td>\n",
       "    </tr>\n",
       "    <tr>\n",
       "      <th>4</th>\n",
       "      <td>1.235829</td>\n",
       "      <td>2.170898</td>\n",
       "      <td>3.0</td>\n",
       "      <td>3.0</td>\n",
       "      <td>1890.542762</td>\n",
       "      <td>2.0</td>\n",
       "      <td>0.262875</td>\n",
       "      <td>0.0</td>\n",
       "      <td>0.0</td>\n",
       "      <td>-0.439656</td>\n",
       "      <td>...</td>\n",
       "      <td>0</td>\n",
       "      <td>0</td>\n",
       "      <td>0</td>\n",
       "      <td>0</td>\n",
       "      <td>3.788533</td>\n",
       "      <td>-2.763121</td>\n",
       "      <td>-1.416298</td>\n",
       "      <td>1.832458</td>\n",
       "      <td>-0.280432</td>\n",
       "      <td>-1.107219</td>\n",
       "    </tr>\n",
       "  </tbody>\n",
       "</table>\n",
       "<p>5 rows × 180 columns</p>\n",
       "</div>"
      ],
      "text/plain": [
       "    full_sq   life_sq  floor  max_floor   build_year  num_room  kitch_sq  \\\n",
       "0 -0.478974 -0.230602    3.0        3.0  1890.542762       2.0  0.262875   \n",
       "1 -1.164398 -1.019313    3.0        3.0  1890.542762       2.0  0.262875   \n",
       "2 -0.478974 -0.068879    2.0        2.0  1890.542762       2.0  0.262875   \n",
       "3  1.664444  1.174946    4.0        4.0  1890.542762       2.0  0.262875   \n",
       "4  1.235829  2.170898    3.0        3.0  1890.542762       2.0  0.262875   \n",
       "\n",
       "   product_type  state    area_m      ...        sub_area_142  sub_area_143  \\\n",
       "0           0.0    0.0 -0.778320      ...                   0             0   \n",
       "1           0.0    0.0 -0.273679      ...                   0             0   \n",
       "2           0.0    0.0 -1.137734      ...                   0             0   \n",
       "3           0.0    0.0  0.066451      ...                   0             0   \n",
       "4           0.0    0.0 -0.439656      ...                   0             0   \n",
       "\n",
       "   sub_area_144  sub_area_145  economy_pca_0  economy_pca_1  economy_pca_2  \\\n",
       "0             0             0       4.339423      -2.483083      -2.359179   \n",
       "1             0             0       4.340430      -2.478756      -2.371841   \n",
       "2             0             0       4.332142      -2.467574      -2.363300   \n",
       "3             0             0       3.715622      -2.715521      -1.499621   \n",
       "4             0             0       3.788533      -2.763121      -1.416298   \n",
       "\n",
       "   economy_pca_3  economy_pca_4  economy_pca_5  \n",
       "0       2.115526       0.497562      -0.504460  \n",
       "1       2.120667       0.498366      -0.498004  \n",
       "2       2.139086       0.501655      -0.518096  \n",
       "3       1.731055       0.450541      -1.242619  \n",
       "4       1.832458      -0.280432      -1.107219  \n",
       "\n",
       "[5 rows x 180 columns]"
      ]
     },
     "execution_count": 3,
     "metadata": {},
     "output_type": "execute_result"
    }
   ],
   "source": [
    "train_df.head()"
   ]
  },
  {
   "cell_type": "code",
   "execution_count": 4,
   "metadata": {
    "collapsed": true
   },
   "outputs": [
    {
     "data": {
      "text/html": [
       "<div>\n",
       "<table border=\"1\" class=\"dataframe\">\n",
       "  <thead>\n",
       "    <tr style=\"text-align: right;\">\n",
       "      <th></th>\n",
       "      <th>full_sq</th>\n",
       "      <th>life_sq</th>\n",
       "      <th>floor</th>\n",
       "      <th>max_floor</th>\n",
       "      <th>build_year</th>\n",
       "      <th>num_room</th>\n",
       "      <th>kitch_sq</th>\n",
       "      <th>product_type</th>\n",
       "      <th>state</th>\n",
       "      <th>area_m</th>\n",
       "      <th>...</th>\n",
       "      <th>sub_area_142</th>\n",
       "      <th>sub_area_143</th>\n",
       "      <th>sub_area_144</th>\n",
       "      <th>sub_area_145</th>\n",
       "      <th>economy_pca_0</th>\n",
       "      <th>economy_pca_1</th>\n",
       "      <th>economy_pca_2</th>\n",
       "      <th>economy_pca_3</th>\n",
       "      <th>economy_pca_4</th>\n",
       "      <th>economy_pca_5</th>\n",
       "    </tr>\n",
       "  </thead>\n",
       "  <tbody>\n",
       "    <tr>\n",
       "      <th>0</th>\n",
       "      <td>-0.764446</td>\n",
       "      <td>-0.828085</td>\n",
       "      <td>2.0</td>\n",
       "      <td>4.0</td>\n",
       "      <td>1998.000000</td>\n",
       "      <td>1.0</td>\n",
       "      <td>0.762264</td>\n",
       "      <td>0.0</td>\n",
       "      <td>3.0</td>\n",
       "      <td>0.982253</td>\n",
       "      <td>...</td>\n",
       "      <td>0</td>\n",
       "      <td>0</td>\n",
       "      <td>0</td>\n",
       "      <td>0</td>\n",
       "      <td>-6.540834</td>\n",
       "      <td>1.907622</td>\n",
       "      <td>3.036728</td>\n",
       "      <td>1.287959</td>\n",
       "      <td>-0.809556</td>\n",
       "      <td>-0.117246</td>\n",
       "    </tr>\n",
       "    <tr>\n",
       "      <th>1</th>\n",
       "      <td>1.319140</td>\n",
       "      <td>0.007983</td>\n",
       "      <td>4.0</td>\n",
       "      <td>5.0</td>\n",
       "      <td>1862.829848</td>\n",
       "      <td>3.0</td>\n",
       "      <td>-1.542006</td>\n",
       "      <td>1.0</td>\n",
       "      <td>1.0</td>\n",
       "      <td>0.952282</td>\n",
       "      <td>...</td>\n",
       "      <td>0</td>\n",
       "      <td>0</td>\n",
       "      <td>0</td>\n",
       "      <td>0</td>\n",
       "      <td>-6.540834</td>\n",
       "      <td>1.907622</td>\n",
       "      <td>3.036728</td>\n",
       "      <td>1.287959</td>\n",
       "      <td>-0.809556</td>\n",
       "      <td>-0.117246</td>\n",
       "    </tr>\n",
       "    <tr>\n",
       "      <th>2</th>\n",
       "      <td>-0.654182</td>\n",
       "      <td>-0.395317</td>\n",
       "      <td>3.0</td>\n",
       "      <td>3.0</td>\n",
       "      <td>1960.000000</td>\n",
       "      <td>2.0</td>\n",
       "      <td>-0.008056</td>\n",
       "      <td>0.0</td>\n",
       "      <td>2.0</td>\n",
       "      <td>-0.227927</td>\n",
       "      <td>...</td>\n",
       "      <td>0</td>\n",
       "      <td>0</td>\n",
       "      <td>0</td>\n",
       "      <td>0</td>\n",
       "      <td>-6.540834</td>\n",
       "      <td>1.907622</td>\n",
       "      <td>3.036728</td>\n",
       "      <td>1.287959</td>\n",
       "      <td>-0.809556</td>\n",
       "      <td>-0.117246</td>\n",
       "    </tr>\n",
       "    <tr>\n",
       "      <th>3</th>\n",
       "      <td>0.633929</td>\n",
       "      <td>0.422719</td>\n",
       "      <td>5.0</td>\n",
       "      <td>5.0</td>\n",
       "      <td>2016.000000</td>\n",
       "      <td>2.0</td>\n",
       "      <td>1.845668</td>\n",
       "      <td>1.0</td>\n",
       "      <td>3.0</td>\n",
       "      <td>0.736588</td>\n",
       "      <td>...</td>\n",
       "      <td>0</td>\n",
       "      <td>0</td>\n",
       "      <td>0</td>\n",
       "      <td>0</td>\n",
       "      <td>-6.540834</td>\n",
       "      <td>1.907622</td>\n",
       "      <td>3.036728</td>\n",
       "      <td>1.287959</td>\n",
       "      <td>-0.809556</td>\n",
       "      <td>-0.117246</td>\n",
       "    </tr>\n",
       "    <tr>\n",
       "      <th>4</th>\n",
       "      <td>-0.690487</td>\n",
       "      <td>0.663347</td>\n",
       "      <td>5.0</td>\n",
       "      <td>5.0</td>\n",
       "      <td>1862.829848</td>\n",
       "      <td>1.0</td>\n",
       "      <td>-1.542006</td>\n",
       "      <td>1.0</td>\n",
       "      <td>1.0</td>\n",
       "      <td>0.952282</td>\n",
       "      <td>...</td>\n",
       "      <td>0</td>\n",
       "      <td>0</td>\n",
       "      <td>0</td>\n",
       "      <td>0</td>\n",
       "      <td>-6.540834</td>\n",
       "      <td>1.907622</td>\n",
       "      <td>3.036728</td>\n",
       "      <td>1.287959</td>\n",
       "      <td>-0.809556</td>\n",
       "      <td>-0.117246</td>\n",
       "    </tr>\n",
       "  </tbody>\n",
       "</table>\n",
       "<p>5 rows × 180 columns</p>\n",
       "</div>"
      ],
      "text/plain": [
       "    full_sq   life_sq  floor  max_floor   build_year  num_room  kitch_sq  \\\n",
       "0 -0.764446 -0.828085    2.0        4.0  1998.000000       1.0  0.762264   \n",
       "1  1.319140  0.007983    4.0        5.0  1862.829848       3.0 -1.542006   \n",
       "2 -0.654182 -0.395317    3.0        3.0  1960.000000       2.0 -0.008056   \n",
       "3  0.633929  0.422719    5.0        5.0  2016.000000       2.0  1.845668   \n",
       "4 -0.690487  0.663347    5.0        5.0  1862.829848       1.0 -1.542006   \n",
       "\n",
       "   product_type  state    area_m      ...        sub_area_142  sub_area_143  \\\n",
       "0           0.0    3.0  0.982253      ...                   0             0   \n",
       "1           1.0    1.0  0.952282      ...                   0             0   \n",
       "2           0.0    2.0 -0.227927      ...                   0             0   \n",
       "3           1.0    3.0  0.736588      ...                   0             0   \n",
       "4           1.0    1.0  0.952282      ...                   0             0   \n",
       "\n",
       "   sub_area_144  sub_area_145  economy_pca_0  economy_pca_1  economy_pca_2  \\\n",
       "0             0             0      -6.540834       1.907622       3.036728   \n",
       "1             0             0      -6.540834       1.907622       3.036728   \n",
       "2             0             0      -6.540834       1.907622       3.036728   \n",
       "3             0             0      -6.540834       1.907622       3.036728   \n",
       "4             0             0      -6.540834       1.907622       3.036728   \n",
       "\n",
       "   economy_pca_3  economy_pca_4  economy_pca_5  \n",
       "0       1.287959      -0.809556      -0.117246  \n",
       "1       1.287959      -0.809556      -0.117246  \n",
       "2       1.287959      -0.809556      -0.117246  \n",
       "3       1.287959      -0.809556      -0.117246  \n",
       "4       1.287959      -0.809556      -0.117246  \n",
       "\n",
       "[5 rows x 180 columns]"
      ]
     },
     "execution_count": 4,
     "metadata": {},
     "output_type": "execute_result"
    }
   ],
   "source": [
    "test_df.head()"
   ]
  },
  {
   "cell_type": "code",
   "execution_count": 5,
   "metadata": {
    "collapsed": true
   },
   "outputs": [
    {
     "data": {
      "text/html": [
       "<div>\n",
       "<table border=\"1\" class=\"dataframe\">\n",
       "  <thead>\n",
       "    <tr style=\"text-align: right;\">\n",
       "      <th></th>\n",
       "      <th>price_doc</th>\n",
       "    </tr>\n",
       "  </thead>\n",
       "  <tbody>\n",
       "    <tr>\n",
       "      <th>0</th>\n",
       "      <td>6.767156</td>\n",
       "    </tr>\n",
       "    <tr>\n",
       "      <th>1</th>\n",
       "      <td>6.778151</td>\n",
       "    </tr>\n",
       "    <tr>\n",
       "      <th>2</th>\n",
       "      <td>6.755875</td>\n",
       "    </tr>\n",
       "    <tr>\n",
       "      <th>3</th>\n",
       "      <td>7.117271</td>\n",
       "    </tr>\n",
       "    <tr>\n",
       "      <th>4</th>\n",
       "      <td>7.213025</td>\n",
       "    </tr>\n",
       "  </tbody>\n",
       "</table>\n",
       "</div>"
      ],
      "text/plain": [
       "   price_doc\n",
       "0   6.767156\n",
       "1   6.778151\n",
       "2   6.755875\n",
       "3   7.117271\n",
       "4   7.213025"
      ]
     },
     "execution_count": 5,
     "metadata": {},
     "output_type": "execute_result"
    }
   ],
   "source": [
    "target.head()"
   ]
  },
  {
   "cell_type": "code",
   "execution_count": 6,
   "metadata": {
    "collapsed": true
   },
   "outputs": [
    {
     "data": {
      "text/plain": [
       "array(['full_sq', 'life_sq', 'floor', 'max_floor', 'build_year',\n",
       "       'num_room', 'kitch_sq', 'product_type', 'state', 'area_m',\n",
       "       'children_school', 'culture_objects_top_25', 'N_build',\n",
       "       'Good_build', 'raion_pca_0', 'km_pca_0', 'count_pca_0',\n",
       "       'material_0.0', 'material_1.0', 'material_2.0', 'material_3.0',\n",
       "       'material_4.0', 'material_5.0', 'ecology_0', 'ecology_1',\n",
       "       'ecology_2', 'ecology_3', 'ecology_4', 'sub_area_0', 'sub_area_1',\n",
       "       'sub_area_2', 'sub_area_3', 'sub_area_4', 'sub_area_5',\n",
       "       'sub_area_6', 'sub_area_7', 'sub_area_8', 'sub_area_9',\n",
       "       'sub_area_10', 'sub_area_11', 'sub_area_12', 'sub_area_13',\n",
       "       'sub_area_14', 'sub_area_15', 'sub_area_16', 'sub_area_17',\n",
       "       'sub_area_18', 'sub_area_19', 'sub_area_20', 'sub_area_21',\n",
       "       'sub_area_22', 'sub_area_23', 'sub_area_24', 'sub_area_25',\n",
       "       'sub_area_26', 'sub_area_27', 'sub_area_28', 'sub_area_29',\n",
       "       'sub_area_30', 'sub_area_31', 'sub_area_32', 'sub_area_33',\n",
       "       'sub_area_34', 'sub_area_35', 'sub_area_36', 'sub_area_37',\n",
       "       'sub_area_38', 'sub_area_39', 'sub_area_40', 'sub_area_41',\n",
       "       'sub_area_42', 'sub_area_43', 'sub_area_44', 'sub_area_45',\n",
       "       'sub_area_46', 'sub_area_47', 'sub_area_48', 'sub_area_49',\n",
       "       'sub_area_50', 'sub_area_51', 'sub_area_52', 'sub_area_53',\n",
       "       'sub_area_54', 'sub_area_55', 'sub_area_56', 'sub_area_57',\n",
       "       'sub_area_58', 'sub_area_59', 'sub_area_60', 'sub_area_61',\n",
       "       'sub_area_62', 'sub_area_63', 'sub_area_64', 'sub_area_65',\n",
       "       'sub_area_66', 'sub_area_67', 'sub_area_68', 'sub_area_69',\n",
       "       'sub_area_70', 'sub_area_71', 'sub_area_72', 'sub_area_73',\n",
       "       'sub_area_74', 'sub_area_75', 'sub_area_76', 'sub_area_77',\n",
       "       'sub_area_78', 'sub_area_79', 'sub_area_80', 'sub_area_81',\n",
       "       'sub_area_82', 'sub_area_83', 'sub_area_84', 'sub_area_85',\n",
       "       'sub_area_86', 'sub_area_87', 'sub_area_88', 'sub_area_89',\n",
       "       'sub_area_90', 'sub_area_91', 'sub_area_92', 'sub_area_93',\n",
       "       'sub_area_94', 'sub_area_95', 'sub_area_96', 'sub_area_97',\n",
       "       'sub_area_98', 'sub_area_99', 'sub_area_100', 'sub_area_101',\n",
       "       'sub_area_102', 'sub_area_103', 'sub_area_104', 'sub_area_105',\n",
       "       'sub_area_106', 'sub_area_107', 'sub_area_108', 'sub_area_109',\n",
       "       'sub_area_110', 'sub_area_111', 'sub_area_112', 'sub_area_113',\n",
       "       'sub_area_114', 'sub_area_115', 'sub_area_116', 'sub_area_117',\n",
       "       'sub_area_118', 'sub_area_119', 'sub_area_120', 'sub_area_121',\n",
       "       'sub_area_122', 'sub_area_123', 'sub_area_124', 'sub_area_125',\n",
       "       'sub_area_126', 'sub_area_127', 'sub_area_128', 'sub_area_129',\n",
       "       'sub_area_130', 'sub_area_131', 'sub_area_132', 'sub_area_133',\n",
       "       'sub_area_134', 'sub_area_135', 'sub_area_136', 'sub_area_137',\n",
       "       'sub_area_138', 'sub_area_139', 'sub_area_140', 'sub_area_141',\n",
       "       'sub_area_142', 'sub_area_143', 'sub_area_144', 'sub_area_145',\n",
       "       'economy_pca_0', 'economy_pca_1', 'economy_pca_2', 'economy_pca_3',\n",
       "       'economy_pca_4', 'economy_pca_5'], dtype=object)"
      ]
     },
     "execution_count": 6,
     "metadata": {},
     "output_type": "execute_result"
    }
   ],
   "source": [
    "train_df.columns.values"
   ]
  },
  {
   "cell_type": "code",
   "execution_count": 20,
   "metadata": {
    "collapsed": false
   },
   "outputs": [],
   "source": [
    "omit_list = train_df.columns.values[ train_df.columns.str.contains('sub_area') ]\n",
    "omit_list = np.append( omit_list, train_df.columns.values[ train_df.columns.str.contains('ecology_') ] )\n",
    "omit_list = np.append( omit_list, train_df.columns.values[ train_df.columns.str.contains('material_') ] )"
   ]
  },
  {
   "cell_type": "code",
   "execution_count": 8,
   "metadata": {
    "collapsed": true
   },
   "outputs": [],
   "source": [
    "foo = train_df.drop( omit_list, axis=1 ).copy()"
   ]
  },
  {
   "cell_type": "code",
   "execution_count": null,
   "metadata": {
    "collapsed": true
   },
   "outputs": [],
   "source": []
  },
  {
   "cell_type": "code",
   "execution_count": 3,
   "metadata": {
    "collapsed": true
   },
   "outputs": [],
   "source": [
    "from sklearn.utils           import shuffle\n",
    "from sklearn.model_selection import KFold\n",
    "from sklearn.metrics         import r2_score\n",
    "from sklearn.decomposition   import PCA\n",
    "from sklearn.model_selection import GridSearchCV\n",
    "from sklearn.base            import clone"
   ]
  },
  {
   "cell_type": "code",
   "execution_count": 4,
   "metadata": {
    "collapsed": true
   },
   "outputs": [],
   "source": [
    "from sklearn.linear_model import Ridge # alpha 1\n",
    "from sklearn.linear_model import Lasso # alpha 1\n",
    "from sklearn.linear_model import BayesianRidge # alpha_1, alpha_2, lambda_1, lambda_2, both def 1e-6\n",
    "from sklearn.linear_model import SGDRegressor\n",
    "from sklearn.kernel_ridge import KernelRidge # alpha , kernel, gamma\n",
    "from sklearn.svm          import SVR\n",
    "\n",
    "\n",
    "from sklearn.ensemble     import RandomForestRegressor\n",
    "from sklearn.ensemble     import GradientBoostingRegressor\n",
    "from sklearn.ensemble     import AdaBoostRegressor\n",
    "from sklearn.ensemble     import BaggingRegressor"
   ]
  },
  {
   "cell_type": "code",
   "execution_count": 5,
   "metadata": {
    "collapsed": true
   },
   "outputs": [],
   "source": [
    "import cPickle"
   ]
  },
  {
   "cell_type": "code",
   "execution_count": 6,
   "metadata": {
    "collapsed": false
   },
   "outputs": [],
   "source": [
    "x_train, y_train = shuffle( train_df.values, target.values, random_state=0 )"
   ]
  },
  {
   "cell_type": "code",
   "execution_count": 7,
   "metadata": {
    "collapsed": false
   },
   "outputs": [],
   "source": [
    "y_train = y_train[:,0]"
   ]
  },
  {
   "cell_type": "code",
   "execution_count": 20,
   "metadata": {
    "collapsed": true
   },
   "outputs": [
    {
     "name": "stdout",
     "output_type": "stream",
     "text": [
      "Fold  1 accuracy: 0.3706  ,  0.3869  {'alpha': 10.0}\n",
      "Fold  2 accuracy: 0.3941  ,  0.3838  {'alpha': 15.0}\n",
      "Fold  3 accuracy: 0.4130  ,  0.3825  {'alpha': 15.0}\n",
      "Fold  4 accuracy: 0.3923  ,  0.3845  {'alpha': 15.0}\n",
      "Fold  5 accuracy: 0.4058  ,  0.3833  {'alpha': 20.0}\n",
      "Fold  6 accuracy: 0.3848  ,  0.3862  {'alpha': 15.0}\n",
      "Fold  7 accuracy: 0.3719  ,  0.3871  {'alpha': 15.0}\n",
      "Fold  8 accuracy: 0.3743  ,  0.3861  {'alpha': 20.0}\n",
      "Fold  9 accuracy: 0.3930  ,  0.3841  {'alpha': 20.0}\n",
      "Fold 10 accuracy: 0.3697  ,  0.3870  {'alpha': 20.0}\n",
      " \n",
      "Found  4  unique parameter combinations\n",
      " \n",
      "Clf  0 Mean Accuracy: 0.3870 +/- 0.0148\n",
      "Clf  1 Mean Accuracy: 0.3871 +/- 0.0146\n",
      "Clf  2 Mean Accuracy: 0.3870 +/- 0.0144\n",
      "Clf  3 Mean Accuracy: 0.3870 +/- 0.0144\n",
      " \n",
      "Using CLF with accuracy:   0.387053\n",
      "CLF params:  {'normalize': False, 'fit_intercept': True, 'max_iter': None, 'random_state': None, 'tol': 0.001, 'copy_X': True, 'alpha': 15.0, 'solver': 'auto'}\n"
     ]
    }
   ],
   "source": [
    "gen_params = { 'alpha':[10.,15.,20.,25.] }\n",
    "ridge_reg = rv.optimize_fit( Ridge(), x_train, y_train, gen_params )"
   ]
  },
  {
   "cell_type": "code",
   "execution_count": 21,
   "metadata": {
    "collapsed": true
   },
   "outputs": [],
   "source": [
    "with open('ridge_1.pkl', 'wb') as fid:\n",
    "    cPickle.dump(ridge_reg, fid)"
   ]
  },
  {
   "cell_type": "code",
   "execution_count": 12,
   "metadata": {
    "collapsed": false
   },
   "outputs": [
    {
     "data": {
      "text/plain": [
       "(30471, 180)"
      ]
     },
     "execution_count": 12,
     "metadata": {},
     "output_type": "execute_result"
    }
   ],
   "source": [
    "x_train.shape"
   ]
  },
  {
   "cell_type": "code",
   "execution_count": 8,
   "metadata": {
    "collapsed": false
   },
   "outputs": [],
   "source": [
    "train_short_x = x_train[:5000]\n",
    "train_short_y = y_train[:5000]"
   ]
  },
  {
   "cell_type": "code",
   "execution_count": 11,
   "metadata": {
    "collapsed": true
   },
   "outputs": [
    {
     "name": "stdout",
     "output_type": "stream",
     "text": [
      "Fold  1 accuracy: 0.4484  ,  0.2409  {'kernel': 'rbf', 'C': 7.0, 'gamma': 0.0001}\n",
      "Fold  2 accuracy: 0.3756  ,  0.2572  {'kernel': 'rbf', 'C': 7.0, 'gamma': 0.0001}\n",
      "Fold  3 accuracy: 0.2386  ,  0.2897  {'kernel': 'rbf', 'C': 7.0, 'gamma': 0.0001}\n",
      "Fold  4 accuracy: 0.2183  ,  0.2844  {'kernel': 'rbf', 'C': 7.0, 'gamma': 0.0001}\n",
      "Fold  5 accuracy: 0.1631  ,  0.2935  {'kernel': 'rbf', 'C': 3.0, 'gamma': 0.001}\n",
      " \n",
      "Found  2  unique parameter combinations\n",
      " \n",
      "Clf  0 Mean Accuracy: 0.2901 +/- 0.1046\n",
      "Clf  1 Mean Accuracy: 0.2908 +/- 0.0949\n",
      " \n",
      "Using CLF with accuracy:   0.290805\n",
      "CLF params:  {'kernel': 'rbf', 'C': 3.0, 'verbose': False, 'degree': 3, 'epsilon': 0.1, 'shrinking': True, 'max_iter': -1, 'tol': 0.001, 'cache_size': 200, 'coef0': 0.0, 'gamma': 0.001}\n"
     ]
    }
   ],
   "source": [
    "gen_params = { \n",
    "                'kernel':['rbf'],\n",
    "                'C':[3.0,5.0,7.0],\n",
    "                'gamma':[1.e-4,5.e-3,1.e-3,5.e-3]\n",
    "             }\n",
    "#svr_reg = rv.optimize_fit( SVR(), x_train, y_train, gen_params, nf = 5 )\n",
    "svr_reg = rv.optimize_fit( SVR(), train_short_x, train_short_y, gen_params, nf = 5 )"
   ]
  },
  {
   "cell_type": "code",
   "execution_count": 19,
   "metadata": {
    "collapsed": false
   },
   "outputs": [
    {
     "name": "stdout",
     "output_type": "stream",
     "text": [
      "0.404142414211\n"
     ]
    }
   ],
   "source": [
    "svr_reg = SVR( kernel='rbf', C=3.0, gamma=1.e-3 )\n",
    "svr_reg.fit( x_train, y_train )\n",
    "predictions = svr_reg.predict( x_train )\n",
    "print r2_score( y_train, predictions )"
   ]
  },
  {
   "cell_type": "code",
   "execution_count": 22,
   "metadata": {
    "collapsed": true
   },
   "outputs": [],
   "source": [
    "with open('svr_1.pkl', 'wb') as fid:\n",
    "    cPickle.dump(svr_reg, fid)"
   ]
  },
  {
   "cell_type": "code",
   "execution_count": 8,
   "metadata": {
    "collapsed": true
   },
   "outputs": [
    {
     "name": "stdout",
     "output_type": "stream",
     "text": [
      "Fold  1 accuracy: 0.4149  ,  0.3318  {'min_samples_split': 8, 'n_estimators': 35, 'max_depth': None}\n",
      "Fold  2 accuracy: 0.2327  ,  0.3480  {'min_samples_split': 10, 'n_estimators': 40, 'max_depth': 50}\n",
      "Fold  3 accuracy: 0.2974  ,  0.3435  {'min_samples_split': 5, 'n_estimators': 30, 'max_depth': 70}\n",
      "Fold  4 accuracy: 0.3846  ,  0.3304  {'min_samples_split': 10, 'n_estimators': 40, 'max_depth': 70}\n",
      "Fold  5 accuracy: 0.3770  ,  0.3291  {'min_samples_split': 10, 'n_estimators': 40, 'max_depth': 50}\n",
      "Fold  6 accuracy: 0.3715  ,  0.3283  {'min_samples_split': 10, 'n_estimators': 40, 'max_depth': 50}\n",
      "Fold  7 accuracy: 0.3092  ,  0.3284  {'min_samples_split': 10, 'n_estimators': 35, 'max_depth': None}\n",
      "Fold  8 accuracy: 0.4260  ,  0.3223  {'min_samples_split': 5, 'n_estimators': 35, 'max_depth': 70}\n",
      "Fold  9 accuracy: 0.3470  ,  0.3313  {'min_samples_split': 8, 'n_estimators': 35, 'max_depth': 50}\n",
      "Fold 10 accuracy: 0.2880  ,  0.3358  {'min_samples_split': 5, 'n_estimators': 40, 'max_depth': None}\n",
      " \n",
      "Found  8  unique parameter combinations\n",
      " \n",
      "Clf  0 Mean Accuracy: 0.3492 +/- 0.0522\n",
      "Clf  1 Mean Accuracy: 0.3501 +/- 0.0651\n",
      "Clf  2 Mean Accuracy: 0.3394 +/- 0.0644\n",
      "Clf  3 Mean Accuracy: 0.3481 +/- 0.0676\n",
      "Clf  4 Mean Accuracy: 0.3456 +/- 0.0637\n",
      "Clf  5 Mean Accuracy: 0.3431 +/- 0.0653\n",
      "Clf  6 Mean Accuracy: 0.3501 +/- 0.0621\n",
      "Clf  7 Mean Accuracy: 0.3456 +/- 0.0674\n",
      " \n",
      "Using CLF with accuracy:   0.350118\n",
      "CLF params:  {'warm_start': False, 'oob_score': False, 'n_jobs': 1, 'verbose': 0, 'max_leaf_nodes': None, 'bootstrap': True, 'min_samples_leaf': 1, 'n_estimators': 35, 'min_samples_split': 8, 'min_weight_fraction_leaf': 0.0, 'criterion': 'mse', 'random_state': None, 'min_impurity_split': 1e-07, 'max_features': 'auto', 'max_depth': 50}\n"
     ]
    }
   ],
   "source": [
    "gen_params = { \n",
    "                'n_estimators':[30,35,40],\n",
    "                'max_depth':[None,50,70],\n",
    "                'min_samples_split':[5,8,10]\n",
    "             }\n",
    "#forest_reg = rv.optimize_fit( RandomForestRegressor(), x_train, y_train, gen_params )\n",
    "forest_reg = rv.optimize_fit( RandomForestRegressor(), train_short_x, train_short_y, gen_params )"
   ]
  },
  {
   "cell_type": "code",
   "execution_count": 9,
   "metadata": {
    "collapsed": false
   },
   "outputs": [
    {
     "name": "stdout",
     "output_type": "stream",
     "text": [
      "0.819657746985\n"
     ]
    }
   ],
   "source": [
    "forest_reg = RandomForestRegressor( min_samples_split=8, n_estimators=35, max_depth=None )\n",
    "forest_reg.fit( x_train, y_train )\n",
    "predictions = forest_reg.predict( x_train )\n",
    "print r2_score( y_train, predictions )"
   ]
  },
  {
   "cell_type": "code",
   "execution_count": 12,
   "metadata": {
    "collapsed": true
   },
   "outputs": [],
   "source": [
    "# save the classifier\n",
    "with open('forest_1.pkl', 'wb') as fid:\n",
    "    cPickle.dump(forest_reg, fid)    \n",
    "\n",
    "# load it again\n",
    "#with open('my_dumped_classifier.pkl', 'rb') as fid:\n",
    "#    gnb_loaded = cPickle.load(fid)"
   ]
  },
  {
   "cell_type": "code",
   "execution_count": 10,
   "metadata": {
    "collapsed": true
   },
   "outputs": [
    {
     "name": "stdout",
     "output_type": "stream",
     "text": [
      "Fold  1 accuracy: 0.4611  ,  0.3501  {'n_estimators': 20, 'base_estimator': RandomForestRegressor(bootstrap=True, criterion='mse', max_depth=None,\n",
      "           max_features='auto', max_leaf_nodes=None,\n",
      "           min_impurity_split=1e-07, min_samples_leaf=1,\n",
      "           min_samples_split=2, min_weight_fraction_leaf=0.0,\n",
      "           n_estimators=10, n_jobs=1, oob_score=False, random_state=None,\n",
      "           verbose=0, warm_start=False)}\n",
      "Fold  2 accuracy: 0.2532  ,  0.3671  {'n_estimators': 20, 'base_estimator': RandomForestRegressor(bootstrap=True, criterion='mse', max_depth=None,\n",
      "           max_features='auto', max_leaf_nodes=None,\n",
      "           min_impurity_split=1e-07, min_samples_leaf=1,\n",
      "           min_samples_split=2, min_weight_fraction_leaf=0.0,\n",
      "           n_estimators=10, n_jobs=1, oob_score=False, random_state=None,\n",
      "           verbose=0, warm_start=False)}\n",
      "Fold  3 accuracy: 0.3171  ,  0.3648  {'n_estimators': 20, 'base_estimator': RandomForestRegressor(bootstrap=True, criterion='mse', max_depth=None,\n",
      "           max_features='auto', max_leaf_nodes=None,\n",
      "           min_impurity_split=1e-07, min_samples_leaf=1,\n",
      "           min_samples_split=2, min_weight_fraction_leaf=0.0,\n",
      "           n_estimators=10, n_jobs=1, oob_score=False, random_state=None,\n",
      "           verbose=0, warm_start=False)}\n",
      "Fold  4 accuracy: 0.4209  ,  0.3491  {'n_estimators': 20, 'base_estimator': Ridge(alpha=1.0, copy_X=True, fit_intercept=True, max_iter=None,\n",
      "   normalize=False, random_state=None, solver='auto', tol=0.001)}\n",
      "Fold  5 accuracy: 0.3275  ,  0.3609  {'n_estimators': 20, 'base_estimator': Ridge(alpha=1.0, copy_X=True, fit_intercept=True, max_iter=None,\n",
      "   normalize=False, random_state=None, solver='auto', tol=0.001)}\n",
      "Fold  6 accuracy: 0.3541  ,  0.3601  {'n_estimators': 15, 'base_estimator': Ridge(alpha=1.0, copy_X=True, fit_intercept=True, max_iter=None,\n",
      "   normalize=False, random_state=None, solver='auto', tol=0.001)}\n",
      "Fold  7 accuracy: 0.3463  ,  0.3569  {'n_estimators': 15, 'base_estimator': RandomForestRegressor(bootstrap=True, criterion='mse', max_depth=None,\n",
      "           max_features='auto', max_leaf_nodes=None,\n",
      "           min_impurity_split=1e-07, min_samples_leaf=1,\n",
      "           min_samples_split=2, min_weight_fraction_leaf=0.0,\n",
      "           n_estimators=10, n_jobs=1, oob_score=False, random_state=None,\n",
      "           verbose=0, warm_start=False)}\n",
      "Fold  8 accuracy: 0.4941  ,  0.3451  {'n_estimators': 20, 'base_estimator': Ridge(alpha=1.0, copy_X=True, fit_intercept=True, max_iter=None,\n",
      "   normalize=False, random_state=None, solver='auto', tol=0.001)}\n",
      "Fold  9 accuracy: 0.3887  ,  0.3552  {'n_estimators': 20, 'base_estimator': Ridge(alpha=1.0, copy_X=True, fit_intercept=True, max_iter=None,\n",
      "   normalize=False, random_state=None, solver='auto', tol=0.001)}\n",
      "Fold 10 accuracy: 0.3146  ,  0.3629  {'n_estimators': 20, 'base_estimator': RandomForestRegressor(bootstrap=True, criterion='mse', max_depth=None,\n",
      "           max_features='auto', max_leaf_nodes=None,\n",
      "           min_impurity_split=1e-07, min_samples_leaf=1,\n",
      "           min_samples_split=2, min_weight_fraction_leaf=0.0,\n",
      "           n_estimators=10, n_jobs=1, oob_score=False, random_state=None,\n",
      "           verbose=0, warm_start=False)}\n",
      " \n",
      "Found  10  unique parameter combinations\n",
      " \n",
      "Clf  0 Mean Accuracy: 0.3701 +/- 0.0643\n",
      "Clf  1 Mean Accuracy: 0.3741 +/- 0.0642\n",
      "Clf  2 Mean Accuracy: 0.3725 +/- 0.0639\n",
      "Clf  3 Mean Accuracy: 0.3652 +/- 0.0649\n",
      "Clf  4 Mean Accuracy: 0.3665 +/- 0.0674\n",
      "Clf  5 Mean Accuracy: 0.3659 +/- 0.0686\n",
      "Clf  6 Mean Accuracy: 0.3737 +/- 0.0662\n",
      "Clf  7 Mean Accuracy: 0.3666 +/- 0.0682\n",
      "Clf  8 Mean Accuracy: 0.3653 +/- 0.0671\n",
      "Clf  9 Mean Accuracy: 0.3740 +/- 0.0647\n",
      " \n",
      "Using CLF with accuracy:   0.374071\n",
      "CLF params:  {'warm_start': False, 'max_samples': 1.0, 'base_estimator': RandomForestRegressor(bootstrap=True, criterion='mse', max_depth=None,\n",
      "           max_features='auto', max_leaf_nodes=None,\n",
      "           min_impurity_split=1e-07, min_samples_leaf=1,\n",
      "           min_samples_split=2, min_weight_fraction_leaf=0.0,\n",
      "           n_estimators=10, n_jobs=1, oob_score=False, random_state=None,\n",
      "           verbose=0, warm_start=False), 'n_jobs': 1, 'verbose': 0, 'bootstrap': True, 'oob_score': False, 'n_estimators': 20, 'random_state': None, 'max_features': 1.0, 'bootstrap_features': False}\n"
     ]
    }
   ],
   "source": [
    "gen_params = { \n",
    "                'base_estimator':[None,SVR(),Ridge(),RandomForestRegressor()],\n",
    "                'n_estimators':[10,15,20]\n",
    "             }\n",
    "#bag_reg = rv.optimize_fit( BaggingRegressor(), x_train, y_train, gen_params )\n",
    "bag_reg = rv.optimize_fit( BaggingRegressor(), train_short_x, train_short_y, gen_params )"
   ]
  },
  {
   "cell_type": "code",
   "execution_count": 13,
   "metadata": {
    "collapsed": false
   },
   "outputs": [
    {
     "name": "stdout",
     "output_type": "stream",
     "text": [
      "0.783901231542\n"
     ]
    }
   ],
   "source": [
    "bag_reg = BaggingRegressor( base_estimator=RandomForestRegressor(), n_estimators=30 )\n",
    "bag_reg.fit( x_train, y_train )\n",
    "predictions = bag_reg.predict( x_train )\n",
    "print r2_score( y_train, predictions )"
   ]
  },
  {
   "cell_type": "code",
   "execution_count": 15,
   "metadata": {
    "collapsed": true
   },
   "outputs": [],
   "source": [
    "with open('bag_1.pkl', 'wb') as fid:\n",
    "    cPickle.dump(forest_reg, fid)    "
   ]
  },
  {
   "cell_type": "code",
   "execution_count": 9,
   "metadata": {
    "collapsed": true
   },
   "outputs": [
    {
     "name": "stdout",
     "output_type": "stream",
     "text": [
      "Fold  1 accuracy: 0.3920  ,  0.4058  {'n_estimators': 250, 'loss': 'ls'}\n",
      "Fold  2 accuracy: 0.4125  ,  0.4028  {'n_estimators': 250, 'loss': 'ls'}\n",
      "Fold  3 accuracy: 0.4328  ,  0.4030  {'n_estimators': 250, 'loss': 'ls'}\n",
      "Fold  4 accuracy: 0.4193  ,  0.4026  {'n_estimators': 250, 'loss': 'ls'}\n",
      "Fold  5 accuracy: 0.4180  ,  0.4016  {'n_estimators': 250, 'loss': 'ls'}\n",
      "Fold  6 accuracy: 0.4107  ,  0.4065  {'n_estimators': 300, 'loss': 'ls'}\n",
      "Fold  7 accuracy: 0.3900  ,  0.4047  {'n_estimators': 300, 'loss': 'ls'}\n",
      "Fold  8 accuracy: 0.3946  ,  0.4042  {'n_estimators': 250, 'loss': 'ls'}\n",
      "Fold  9 accuracy: 0.4170  ,  0.4025  {'n_estimators': 300, 'loss': 'ls'}\n",
      "Fold 10 accuracy: 0.3985  ,  0.4024  {'n_estimators': 250, 'loss': 'ls'}\n",
      " \n",
      "Found  3  unique parameter combinations\n",
      " \n",
      "Clf  0 Mean Accuracy: 0.4084 +/- 0.0132\n",
      "Clf  1 Mean Accuracy: 0.4094 +/- 0.0129\n",
      "Clf  2 Mean Accuracy: 0.4091 +/- 0.0131\n",
      " \n",
      "Using CLF with accuracy:   0.409365\n",
      "CLF params:  {'presort': 'auto', 'loss': 'ls', 'verbose': 0, 'subsample': 1.0, 'max_leaf_nodes': None, 'learning_rate': 0.1, 'warm_start': False, 'min_samples_leaf': 1, 'n_estimators': 300, 'min_samples_split': 2, 'init': None, 'min_weight_fraction_leaf': 0.0, 'criterion': 'friedman_mse', 'random_state': None, 'min_impurity_split': 1e-07, 'max_features': None, 'alpha': 0.9, 'max_depth': 3}\n"
     ]
    }
   ],
   "source": [
    "gen_params = {\n",
    "                'loss':['ls'],\n",
    "                'n_estimators':[250,300]\n",
    "             }\n",
    "gbr_reg = rv.optimize_fit( GradientBoostingRegressor(), x_train, y_train, gen_params )"
   ]
  },
  {
   "cell_type": "code",
   "execution_count": 10,
   "metadata": {
    "collapsed": true
   },
   "outputs": [],
   "source": [
    "with open('gbr_1.pkl', 'wb') as fid:\n",
    "    cPickle.dump(gbr_reg, fid)    "
   ]
  },
  {
   "cell_type": "code",
   "execution_count": 15,
   "metadata": {
    "collapsed": false
   },
   "outputs": [],
   "source": [
    "train_short_x = x_train[:3000]\n",
    "train_short_y = y_train[:3000]"
   ]
  },
  {
   "cell_type": "code",
   "execution_count": 16,
   "metadata": {
    "collapsed": true
   },
   "outputs": [
    {
     "name": "stdout",
     "output_type": "stream",
     "text": [
      "Fold  1 accuracy: 0.3414  ,  0.3102  {'n_estimators': 75, 'base_estimator': RandomForestRegressor(bootstrap=True, criterion='mse', max_depth=None,\n",
      "           max_features='auto', max_leaf_nodes=None,\n",
      "           min_impurity_split=1e-07, min_samples_leaf=1,\n",
      "           min_samples_split=2, min_weight_fraction_leaf=0.0,\n",
      "           n_estimators=10, n_jobs=1, oob_score=False, random_state=None,\n",
      "           verbose=0, warm_start=False)}\n",
      "Fold  2 accuracy: 0.3191  ,  0.3100  {'n_estimators': 75, 'base_estimator': RandomForestRegressor(bootstrap=True, criterion='mse', max_depth=None,\n",
      "           max_features='auto', max_leaf_nodes=None,\n",
      "           min_impurity_split=1e-07, min_samples_leaf=1,\n",
      "           min_samples_split=2, min_weight_fraction_leaf=0.0,\n",
      "           n_estimators=10, n_jobs=1, oob_score=False, random_state=None,\n",
      "           verbose=0, warm_start=False)}\n",
      "Fold  3 accuracy: 0.3117  ,  0.3225  {'n_estimators': 50, 'base_estimator': RandomForestRegressor(bootstrap=True, criterion='mse', max_depth=None,\n",
      "           max_features='auto', max_leaf_nodes=None,\n",
      "           min_impurity_split=1e-07, min_samples_leaf=1,\n",
      "           min_samples_split=2, min_weight_fraction_leaf=0.0,\n",
      "           n_estimators=10, n_jobs=1, oob_score=False, random_state=None,\n",
      "           verbose=0, warm_start=False)}\n",
      "Fold  4 accuracy: 0.2866  ,  0.3187  {'n_estimators': 75, 'base_estimator': RandomForestRegressor(bootstrap=True, criterion='mse', max_depth=None,\n",
      "           max_features='auto', max_leaf_nodes=None,\n",
      "           min_impurity_split=1e-07, min_samples_leaf=1,\n",
      "           min_samples_split=2, min_weight_fraction_leaf=0.0,\n",
      "           n_estimators=10, n_jobs=1, oob_score=False, random_state=None,\n",
      "           verbose=0, warm_start=False)}\n",
      "Fold  5 accuracy: 0.2629  ,  0.3290  {'n_estimators': 50, 'base_estimator': RandomForestRegressor(bootstrap=True, criterion='mse', max_depth=None,\n",
      "           max_features='auto', max_leaf_nodes=None,\n",
      "           min_impurity_split=1e-07, min_samples_leaf=1,\n",
      "           min_samples_split=2, min_weight_fraction_leaf=0.0,\n",
      "           n_estimators=10, n_jobs=1, oob_score=False, random_state=None,\n",
      "           verbose=0, warm_start=False)}\n",
      "Fold  6 accuracy: 0.4237  ,  0.3123  {'n_estimators': 50, 'base_estimator': RandomForestRegressor(bootstrap=True, criterion='mse', max_depth=None,\n",
      "           max_features='auto', max_leaf_nodes=None,\n",
      "           min_impurity_split=1e-07, min_samples_leaf=1,\n",
      "           min_samples_split=2, min_weight_fraction_leaf=0.0,\n",
      "           n_estimators=10, n_jobs=1, oob_score=False, random_state=None,\n",
      "           verbose=0, warm_start=False)}\n",
      "Fold  7 accuracy: 0.3097  ,  0.3244  {'n_estimators': 50, 'base_estimator': RandomForestRegressor(bootstrap=True, criterion='mse', max_depth=None,\n",
      "           max_features='auto', max_leaf_nodes=None,\n",
      "           min_impurity_split=1e-07, min_samples_leaf=1,\n",
      "           min_samples_split=2, min_weight_fraction_leaf=0.0,\n",
      "           n_estimators=10, n_jobs=1, oob_score=False, random_state=None,\n",
      "           verbose=0, warm_start=False)}\n",
      "Fold  8 accuracy: 0.3345  ,  0.3194  {'n_estimators': 50, 'base_estimator': RandomForestRegressor(bootstrap=True, criterion='mse', max_depth=None,\n",
      "           max_features='auto', max_leaf_nodes=None,\n",
      "           min_impurity_split=1e-07, min_samples_leaf=1,\n",
      "           min_samples_split=2, min_weight_fraction_leaf=0.0,\n",
      "           n_estimators=10, n_jobs=1, oob_score=False, random_state=None,\n",
      "           verbose=0, warm_start=False)}\n",
      "Fold  9 accuracy: 0.3983  ,  0.3162  {'n_estimators': 50, 'base_estimator': RandomForestRegressor(bootstrap=True, criterion='mse', max_depth=None,\n",
      "           max_features='auto', max_leaf_nodes=None,\n",
      "           min_impurity_split=1e-07, min_samples_leaf=1,\n",
      "           min_samples_split=2, min_weight_fraction_leaf=0.0,\n",
      "           n_estimators=10, n_jobs=1, oob_score=False, random_state=None,\n",
      "           verbose=0, warm_start=False)}\n",
      "Fold 10 accuracy: 0.2839  ,  0.3332  {'n_estimators': 75, 'base_estimator': RandomForestRegressor(bootstrap=True, criterion='mse', max_depth=None,\n",
      "           max_features='auto', max_leaf_nodes=None,\n",
      "           min_impurity_split=1e-07, min_samples_leaf=1,\n",
      "           min_samples_split=2, min_weight_fraction_leaf=0.0,\n",
      "           n_estimators=10, n_jobs=1, oob_score=False, random_state=None,\n",
      "           verbose=0, warm_start=False)}\n",
      " \n",
      "Found  10  unique parameter combinations\n",
      " \n",
      "Clf  0 Mean Accuracy: 0.3269 +/- 0.0469\n",
      "Clf  1 Mean Accuracy: 0.3318 +/- 0.0453\n",
      "Clf  2 Mean Accuracy: 0.3250 +/- 0.0466\n",
      "Clf  3 Mean Accuracy: 0.3296 +/- 0.0439\n",
      "Clf  4 Mean Accuracy: 0.3284 +/- 0.0463\n",
      "Clf  5 Mean Accuracy: 0.3306 +/- 0.0404\n",
      "Clf  6 Mean Accuracy: 0.3257 +/- 0.0439\n",
      "Clf  7 Mean Accuracy: 0.3297 +/- 0.0474\n",
      "Clf  8 Mean Accuracy: 0.3319 +/- 0.0496\n",
      "Clf  9 Mean Accuracy: 0.3277 +/- 0.0464\n",
      " \n",
      "Using CLF with accuracy:   0.331881\n",
      "CLF params:  {'n_estimators': 50, 'loss': 'linear', 'base_estimator': RandomForestRegressor(bootstrap=True, criterion='mse', max_depth=None,\n",
      "           max_features='auto', max_leaf_nodes=None,\n",
      "           min_impurity_split=1e-07, min_samples_leaf=1,\n",
      "           min_samples_split=2, min_weight_fraction_leaf=0.0,\n",
      "           n_estimators=10, n_jobs=1, oob_score=False, random_state=None,\n",
      "           verbose=0, warm_start=False), 'random_state': None, 'learning_rate': 1.0}\n"
     ]
    }
   ],
   "source": [
    "gen_params = { \n",
    "                'base_estimator':[RandomForestRegressor()],\n",
    "                'n_estimators':[50,75]\n",
    "             }\n",
    "#ada_reg = rv.optimize_fit( AdaBoostRegressor(), x_train, y_train, gen_params )\n",
    "ada_reg = rv.optimize_fit( AdaBoostRegressor(), train_short_x, train_short_y, gen_params )"
   ]
  },
  {
   "cell_type": "code",
   "execution_count": 17,
   "metadata": {
    "collapsed": false
   },
   "outputs": [
    {
     "name": "stdout",
     "output_type": "stream",
     "text": [
      "0.975482473294\n"
     ]
    }
   ],
   "source": [
    "ada_reg = AdaBoostRegressor( base_estimator=RandomForestRegressor(), n_estimators=50 )\n",
    "ada_reg.fit( x_train, y_train )\n",
    "predictions = ada_reg.predict( x_train )\n",
    "print r2_score( y_train, predictions )"
   ]
  },
  {
   "cell_type": "code",
   "execution_count": 18,
   "metadata": {
    "collapsed": true
   },
   "outputs": [],
   "source": [
    "with open('ada_1.pkl', 'wb') as fid:\n",
    "    cPickle.dump(ada_reg, fid)   "
   ]
  },
  {
   "cell_type": "code",
   "execution_count": null,
   "metadata": {
    "collapsed": true
   },
   "outputs": [],
   "source": []
  },
  {
   "cell_type": "code",
   "execution_count": 23,
   "metadata": {
    "collapsed": true
   },
   "outputs": [],
   "source": [
    "# Have ridge, svr, forest, bag, gbr, ada\n",
    "# Read pickles\n",
    "# Loop over each\n",
    "#   Plot ordered based on target, predictions\n",
    "# Determine if want to do averaging"
   ]
  },
  {
   "cell_type": "code",
   "execution_count": 40,
   "metadata": {
    "collapsed": true
   },
   "outputs": [],
   "source": [
    "import matplotlib.pyplot as plt"
   ]
  },
  {
   "cell_type": "code",
   "execution_count": 51,
   "metadata": {
    "collapsed": false,
    "scrolled": true
   },
   "outputs": [
    {
     "name": "stdout",
     "output_type": "stream",
     "text": [
      "svr_1.pkl\n",
      "forest_1.pkl\n",
      "bag_1.pkl\n",
      "gbr_1.pkl\n",
      "ada_1.pkl\n"
     ]
    }
   ],
   "source": [
    "reg_list = ['svr','forest','bag','gbr','ada']\n",
    "colorz   = ['k','r','b','g','c']\n",
    "markerz  = ['o','^','.','v','*']\n",
    "max_comp = 1000\n",
    "\n",
    "c = 0\n",
    "for reg in reg_list:\n",
    "    reg_name = reg+'_1.pkl'\n",
    "    print reg_name\n",
    "    \n",
    "    regressor = cPickle.load( open( reg_name, 'rb' ) )\n",
    "    \n",
    "    pred = regressor.predict( x_train[:max_comp] )\n",
    "    yp = zip( y_train[:max_comp], pred )\n",
    "    yp.sort()\n",
    "    \n",
    "    pred_sorted = [ x for y,x in yp ]\n",
    "    y_sorted    = [ y for y,x in yp ]\n",
    "    \n",
    "    plt.plot( y_sorted, pred_sorted, color=colorz[c], linestyle='none', marker=markerz[c], label=reg )\n",
    "    c = c+1\n",
    "\n",
    "plt.plot( [5.0,8.0],[5.0,8.0], linestyle='-', color='r' )\n",
    "plt.legend( loc=4 )\n",
    "plt.title( reg )\n",
    "plt.show()"
   ]
  },
  {
   "cell_type": "code",
   "execution_count": null,
   "metadata": {
    "collapsed": true
   },
   "outputs": [],
   "source": [
    "#SVR junk\n",
    "#Forest ok\n",
    "#Bag ok\n",
    "#GBR meh\n",
    "#Ada"
   ]
  }
 ],
 "metadata": {
  "kernelspec": {
   "display_name": "Python 2",
   "language": "python",
   "name": "python2"
  },
  "language_info": {
   "codemirror_mode": {
    "name": "ipython",
    "version": 2
   },
   "file_extension": ".py",
   "mimetype": "text/x-python",
   "name": "python",
   "nbconvert_exporter": "python",
   "pygments_lexer": "ipython2",
   "version": "2.7.13"
  }
 },
 "nbformat": 4,
 "nbformat_minor": 2
}
