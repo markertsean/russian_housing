{
 "cells": [
  {
   "cell_type": "code",
   "execution_count": 1,
   "metadata": {
    "collapsed": true
   },
   "outputs": [],
   "source": [
    "import numpy as np\n",
    "import pandas as pd\n",
    "\n",
    "import matplotlib.pyplot as plt\n",
    "\n",
    "import remap_values as rv\n",
    "import df_visualizations as dv"
   ]
  },
  {
   "cell_type": "code",
   "execution_count": 2,
   "metadata": {
    "collapsed": true
   },
   "outputs": [],
   "source": [
    "my_df = pd.read_csv( 'inp_data/macro.csv' )"
   ]
  },
  {
   "cell_type": "code",
   "execution_count": 3,
   "metadata": {
    "collapsed": false
   },
   "outputs": [
    {
     "data": {
      "text/html": [
       "<div>\n",
       "<table border=\"1\" class=\"dataframe\">\n",
       "  <thead>\n",
       "    <tr style=\"text-align: right;\">\n",
       "      <th></th>\n",
       "      <th>timestamp</th>\n",
       "      <th>oil_urals</th>\n",
       "      <th>gdp_quart</th>\n",
       "      <th>gdp_quart_growth</th>\n",
       "      <th>cpi</th>\n",
       "      <th>ppi</th>\n",
       "      <th>gdp_deflator</th>\n",
       "      <th>balance_trade</th>\n",
       "      <th>balance_trade_growth</th>\n",
       "      <th>usdrub</th>\n",
       "      <th>...</th>\n",
       "      <th>provision_retail_space_modern_sqm</th>\n",
       "      <th>turnover_catering_per_cap</th>\n",
       "      <th>theaters_viewers_per_1000_cap</th>\n",
       "      <th>seats_theather_rfmin_per_100000_cap</th>\n",
       "      <th>museum_visitis_per_100_cap</th>\n",
       "      <th>bandwidth_sports</th>\n",
       "      <th>population_reg_sports_share</th>\n",
       "      <th>students_reg_sports_share</th>\n",
       "      <th>apartment_build</th>\n",
       "      <th>apartment_fund_sqm</th>\n",
       "    </tr>\n",
       "  </thead>\n",
       "  <tbody>\n",
       "    <tr>\n",
       "      <th>0</th>\n",
       "      <td>2010-01-01</td>\n",
       "      <td>76.1</td>\n",
       "      <td>NaN</td>\n",
       "      <td>NaN</td>\n",
       "      <td>NaN</td>\n",
       "      <td>NaN</td>\n",
       "      <td>NaN</td>\n",
       "      <td>NaN</td>\n",
       "      <td>NaN</td>\n",
       "      <td>NaN</td>\n",
       "      <td>...</td>\n",
       "      <td>690.0</td>\n",
       "      <td>6221.0</td>\n",
       "      <td>527.0</td>\n",
       "      <td>0.41</td>\n",
       "      <td>993.0</td>\n",
       "      <td>NaN</td>\n",
       "      <td>NaN</td>\n",
       "      <td>63.03</td>\n",
       "      <td>22825.0</td>\n",
       "      <td>NaN</td>\n",
       "    </tr>\n",
       "    <tr>\n",
       "      <th>1</th>\n",
       "      <td>2010-01-02</td>\n",
       "      <td>76.1</td>\n",
       "      <td>NaN</td>\n",
       "      <td>NaN</td>\n",
       "      <td>NaN</td>\n",
       "      <td>NaN</td>\n",
       "      <td>NaN</td>\n",
       "      <td>NaN</td>\n",
       "      <td>NaN</td>\n",
       "      <td>NaN</td>\n",
       "      <td>...</td>\n",
       "      <td>690.0</td>\n",
       "      <td>6221.0</td>\n",
       "      <td>527.0</td>\n",
       "      <td>0.41</td>\n",
       "      <td>993.0</td>\n",
       "      <td>NaN</td>\n",
       "      <td>NaN</td>\n",
       "      <td>63.03</td>\n",
       "      <td>22825.0</td>\n",
       "      <td>NaN</td>\n",
       "    </tr>\n",
       "    <tr>\n",
       "      <th>2</th>\n",
       "      <td>2010-01-03</td>\n",
       "      <td>76.1</td>\n",
       "      <td>NaN</td>\n",
       "      <td>NaN</td>\n",
       "      <td>NaN</td>\n",
       "      <td>NaN</td>\n",
       "      <td>NaN</td>\n",
       "      <td>NaN</td>\n",
       "      <td>NaN</td>\n",
       "      <td>NaN</td>\n",
       "      <td>...</td>\n",
       "      <td>690.0</td>\n",
       "      <td>6221.0</td>\n",
       "      <td>527.0</td>\n",
       "      <td>0.41</td>\n",
       "      <td>993.0</td>\n",
       "      <td>NaN</td>\n",
       "      <td>NaN</td>\n",
       "      <td>63.03</td>\n",
       "      <td>22825.0</td>\n",
       "      <td>NaN</td>\n",
       "    </tr>\n",
       "    <tr>\n",
       "      <th>3</th>\n",
       "      <td>2010-01-04</td>\n",
       "      <td>76.1</td>\n",
       "      <td>NaN</td>\n",
       "      <td>NaN</td>\n",
       "      <td>NaN</td>\n",
       "      <td>NaN</td>\n",
       "      <td>NaN</td>\n",
       "      <td>NaN</td>\n",
       "      <td>NaN</td>\n",
       "      <td>29.905</td>\n",
       "      <td>...</td>\n",
       "      <td>690.0</td>\n",
       "      <td>6221.0</td>\n",
       "      <td>527.0</td>\n",
       "      <td>0.41</td>\n",
       "      <td>993.0</td>\n",
       "      <td>NaN</td>\n",
       "      <td>NaN</td>\n",
       "      <td>63.03</td>\n",
       "      <td>22825.0</td>\n",
       "      <td>NaN</td>\n",
       "    </tr>\n",
       "    <tr>\n",
       "      <th>4</th>\n",
       "      <td>2010-01-05</td>\n",
       "      <td>76.1</td>\n",
       "      <td>NaN</td>\n",
       "      <td>NaN</td>\n",
       "      <td>NaN</td>\n",
       "      <td>NaN</td>\n",
       "      <td>NaN</td>\n",
       "      <td>NaN</td>\n",
       "      <td>NaN</td>\n",
       "      <td>29.836</td>\n",
       "      <td>...</td>\n",
       "      <td>690.0</td>\n",
       "      <td>6221.0</td>\n",
       "      <td>527.0</td>\n",
       "      <td>0.41</td>\n",
       "      <td>993.0</td>\n",
       "      <td>NaN</td>\n",
       "      <td>NaN</td>\n",
       "      <td>63.03</td>\n",
       "      <td>22825.0</td>\n",
       "      <td>NaN</td>\n",
       "    </tr>\n",
       "  </tbody>\n",
       "</table>\n",
       "<p>5 rows × 100 columns</p>\n",
       "</div>"
      ],
      "text/plain": [
       "    timestamp  oil_urals  gdp_quart  gdp_quart_growth  cpi  ppi  gdp_deflator  \\\n",
       "0  2010-01-01       76.1        NaN               NaN  NaN  NaN           NaN   \n",
       "1  2010-01-02       76.1        NaN               NaN  NaN  NaN           NaN   \n",
       "2  2010-01-03       76.1        NaN               NaN  NaN  NaN           NaN   \n",
       "3  2010-01-04       76.1        NaN               NaN  NaN  NaN           NaN   \n",
       "4  2010-01-05       76.1        NaN               NaN  NaN  NaN           NaN   \n",
       "\n",
       "   balance_trade  balance_trade_growth  usdrub         ...          \\\n",
       "0            NaN                   NaN     NaN         ...           \n",
       "1            NaN                   NaN     NaN         ...           \n",
       "2            NaN                   NaN     NaN         ...           \n",
       "3            NaN                   NaN  29.905         ...           \n",
       "4            NaN                   NaN  29.836         ...           \n",
       "\n",
       "   provision_retail_space_modern_sqm  turnover_catering_per_cap  \\\n",
       "0                              690.0                     6221.0   \n",
       "1                              690.0                     6221.0   \n",
       "2                              690.0                     6221.0   \n",
       "3                              690.0                     6221.0   \n",
       "4                              690.0                     6221.0   \n",
       "\n",
       "   theaters_viewers_per_1000_cap  seats_theather_rfmin_per_100000_cap  \\\n",
       "0                          527.0                                 0.41   \n",
       "1                          527.0                                 0.41   \n",
       "2                          527.0                                 0.41   \n",
       "3                          527.0                                 0.41   \n",
       "4                          527.0                                 0.41   \n",
       "\n",
       "   museum_visitis_per_100_cap  bandwidth_sports  population_reg_sports_share  \\\n",
       "0                       993.0               NaN                          NaN   \n",
       "1                       993.0               NaN                          NaN   \n",
       "2                       993.0               NaN                          NaN   \n",
       "3                       993.0               NaN                          NaN   \n",
       "4                       993.0               NaN                          NaN   \n",
       "\n",
       "   students_reg_sports_share  apartment_build  apartment_fund_sqm  \n",
       "0                      63.03          22825.0                 NaN  \n",
       "1                      63.03          22825.0                 NaN  \n",
       "2                      63.03          22825.0                 NaN  \n",
       "3                      63.03          22825.0                 NaN  \n",
       "4                      63.03          22825.0                 NaN  \n",
       "\n",
       "[5 rows x 100 columns]"
      ]
     },
     "execution_count": 3,
     "metadata": {},
     "output_type": "execute_result"
    }
   ],
   "source": [
    "my_df.head()"
   ]
  },
  {
   "cell_type": "code",
   "execution_count": 4,
   "metadata": {
    "collapsed": false
   },
   "outputs": [
    {
     "data": {
      "text/plain": [
       "(2484, 100)"
      ]
     },
     "execution_count": 4,
     "metadata": {},
     "output_type": "execute_result"
    }
   ],
   "source": [
    "my_df.shape"
   ]
  },
  {
   "cell_type": "code",
   "execution_count": 3,
   "metadata": {
    "collapsed": true
   },
   "outputs": [],
   "source": [
    "my_df = my_df.ix[ :, my_df.isnull().sum() < 400 ]"
   ]
  },
  {
   "cell_type": "code",
   "execution_count": 4,
   "metadata": {
    "collapsed": true
   },
   "outputs": [
    {
     "data": {
      "text/plain": [
       "timestamp                                       0\n",
       "oil_urals                                       0\n",
       "fixed_basket                                    0\n",
       "mortgage_rate                                   0\n",
       "mortgage_value                                  0\n",
       "deposits_value                                  0\n",
       "average_provision_of_build_contract             0\n",
       "gdp_annual                                      0\n",
       "gdp_annual_growth                               0\n",
       "micex_cbi_tr                                    1\n",
       "usdrub                                          3\n",
       "eurrub                                          3\n",
       "brent                                           3\n",
       "micex_rgbi_tr                                  10\n",
       "rts                                            10\n",
       "micex                                          10\n",
       "balance_trade                                  31\n",
       "ppi                                            31\n",
       "deposits_growth                                31\n",
       "cpi                                            31\n",
       "balance_trade_growth                           90\n",
       "gdp_quart_growth                               90\n",
       "gdp_quart                                      90\n",
       "rent_price_2room_eco                          273\n",
       "rent_price_1room_eco                          273\n",
       "rent_price_4+room_bus                         273\n",
       "rent_price_3room_eco                          273\n",
       "rent_price_1room_bus                          273\n",
       "rent_price_2room_bus                          273\n",
       "rent_price_3room_bus                          273\n",
       "mortality                                     293\n",
       "average_life_exp                              293\n",
       "load_of_teachers_school_per_teacher           293\n",
       "load_on_doctors                               293\n",
       "childbirth                                    293\n",
       "provision_nurse                               293\n",
       "pop_natural_increase                          293\n",
       "income_per_cap                                293\n",
       "invest_fixed_capital_per_cap                  293\n",
       "employment                                    293\n",
       "unemployment                                  293\n",
       "labor_force                                   293\n",
       "retail_trade_turnover_growth                  293\n",
       "retail_trade_turnover_per_cap                 293\n",
       "retail_trade_turnover                         293\n",
       "salary                                        293\n",
       "turnover_catering_per_cap                     293\n",
       "invest_fixed_assets                           293\n",
       "seats_theather_rfmin_per_100000_cap           293\n",
       "mortgage_growth                               365\n",
       "average_provision_of_build_contract_moscow    365\n",
       "gdp_deflator                                  365\n",
       "net_capital_export                            396\n",
       "dtype: int64"
      ]
     },
     "execution_count": 4,
     "metadata": {},
     "output_type": "execute_result"
    }
   ],
   "source": [
    "my_df.isnull().sum().sort_values()"
   ]
  },
  {
   "cell_type": "code",
   "execution_count": 5,
   "metadata": {
    "collapsed": false,
    "scrolled": true
   },
   "outputs": [
    {
     "data": {
      "text/html": [
       "<div>\n",
       "<table border=\"1\" class=\"dataframe\">\n",
       "  <thead>\n",
       "    <tr style=\"text-align: right;\">\n",
       "      <th></th>\n",
       "      <th>timestamp</th>\n",
       "      <th>oil_urals</th>\n",
       "      <th>gdp_quart</th>\n",
       "      <th>gdp_quart_growth</th>\n",
       "      <th>cpi</th>\n",
       "      <th>ppi</th>\n",
       "      <th>gdp_deflator</th>\n",
       "      <th>balance_trade</th>\n",
       "      <th>balance_trade_growth</th>\n",
       "      <th>usdrub</th>\n",
       "      <th>...</th>\n",
       "      <th>rent_price_2room_bus</th>\n",
       "      <th>rent_price_1room_bus</th>\n",
       "      <th>rent_price_3room_eco</th>\n",
       "      <th>rent_price_2room_eco</th>\n",
       "      <th>rent_price_1room_eco</th>\n",
       "      <th>load_of_teachers_school_per_teacher</th>\n",
       "      <th>provision_nurse</th>\n",
       "      <th>load_on_doctors</th>\n",
       "      <th>turnover_catering_per_cap</th>\n",
       "      <th>seats_theather_rfmin_per_100000_cap</th>\n",
       "    </tr>\n",
       "  </thead>\n",
       "  <tbody>\n",
       "    <tr>\n",
       "      <th>0</th>\n",
       "      <td>2010-01-01</td>\n",
       "      <td>76.1</td>\n",
       "      <td>NaN</td>\n",
       "      <td>NaN</td>\n",
       "      <td>NaN</td>\n",
       "      <td>NaN</td>\n",
       "      <td>NaN</td>\n",
       "      <td>NaN</td>\n",
       "      <td>NaN</td>\n",
       "      <td>NaN</td>\n",
       "      <td>...</td>\n",
       "      <td>NaN</td>\n",
       "      <td>NaN</td>\n",
       "      <td>NaN</td>\n",
       "      <td>NaN</td>\n",
       "      <td>NaN</td>\n",
       "      <td>1356.112607</td>\n",
       "      <td>99.4</td>\n",
       "      <td>7872.848285</td>\n",
       "      <td>6221.0</td>\n",
       "      <td>0.41</td>\n",
       "    </tr>\n",
       "    <tr>\n",
       "      <th>1</th>\n",
       "      <td>2010-01-02</td>\n",
       "      <td>76.1</td>\n",
       "      <td>NaN</td>\n",
       "      <td>NaN</td>\n",
       "      <td>NaN</td>\n",
       "      <td>NaN</td>\n",
       "      <td>NaN</td>\n",
       "      <td>NaN</td>\n",
       "      <td>NaN</td>\n",
       "      <td>NaN</td>\n",
       "      <td>...</td>\n",
       "      <td>NaN</td>\n",
       "      <td>NaN</td>\n",
       "      <td>NaN</td>\n",
       "      <td>NaN</td>\n",
       "      <td>NaN</td>\n",
       "      <td>1356.112607</td>\n",
       "      <td>99.4</td>\n",
       "      <td>7872.848285</td>\n",
       "      <td>6221.0</td>\n",
       "      <td>0.41</td>\n",
       "    </tr>\n",
       "    <tr>\n",
       "      <th>2</th>\n",
       "      <td>2010-01-03</td>\n",
       "      <td>76.1</td>\n",
       "      <td>NaN</td>\n",
       "      <td>NaN</td>\n",
       "      <td>NaN</td>\n",
       "      <td>NaN</td>\n",
       "      <td>NaN</td>\n",
       "      <td>NaN</td>\n",
       "      <td>NaN</td>\n",
       "      <td>NaN</td>\n",
       "      <td>...</td>\n",
       "      <td>NaN</td>\n",
       "      <td>NaN</td>\n",
       "      <td>NaN</td>\n",
       "      <td>NaN</td>\n",
       "      <td>NaN</td>\n",
       "      <td>1356.112607</td>\n",
       "      <td>99.4</td>\n",
       "      <td>7872.848285</td>\n",
       "      <td>6221.0</td>\n",
       "      <td>0.41</td>\n",
       "    </tr>\n",
       "    <tr>\n",
       "      <th>3</th>\n",
       "      <td>2010-01-04</td>\n",
       "      <td>76.1</td>\n",
       "      <td>NaN</td>\n",
       "      <td>NaN</td>\n",
       "      <td>NaN</td>\n",
       "      <td>NaN</td>\n",
       "      <td>NaN</td>\n",
       "      <td>NaN</td>\n",
       "      <td>NaN</td>\n",
       "      <td>29.905</td>\n",
       "      <td>...</td>\n",
       "      <td>NaN</td>\n",
       "      <td>NaN</td>\n",
       "      <td>NaN</td>\n",
       "      <td>NaN</td>\n",
       "      <td>NaN</td>\n",
       "      <td>1356.112607</td>\n",
       "      <td>99.4</td>\n",
       "      <td>7872.848285</td>\n",
       "      <td>6221.0</td>\n",
       "      <td>0.41</td>\n",
       "    </tr>\n",
       "    <tr>\n",
       "      <th>4</th>\n",
       "      <td>2010-01-05</td>\n",
       "      <td>76.1</td>\n",
       "      <td>NaN</td>\n",
       "      <td>NaN</td>\n",
       "      <td>NaN</td>\n",
       "      <td>NaN</td>\n",
       "      <td>NaN</td>\n",
       "      <td>NaN</td>\n",
       "      <td>NaN</td>\n",
       "      <td>29.836</td>\n",
       "      <td>...</td>\n",
       "      <td>NaN</td>\n",
       "      <td>NaN</td>\n",
       "      <td>NaN</td>\n",
       "      <td>NaN</td>\n",
       "      <td>NaN</td>\n",
       "      <td>1356.112607</td>\n",
       "      <td>99.4</td>\n",
       "      <td>7872.848285</td>\n",
       "      <td>6221.0</td>\n",
       "      <td>0.41</td>\n",
       "    </tr>\n",
       "  </tbody>\n",
       "</table>\n",
       "<p>5 rows × 53 columns</p>\n",
       "</div>"
      ],
      "text/plain": [
       "    timestamp  oil_urals  gdp_quart  gdp_quart_growth  cpi  ppi  gdp_deflator  \\\n",
       "0  2010-01-01       76.1        NaN               NaN  NaN  NaN           NaN   \n",
       "1  2010-01-02       76.1        NaN               NaN  NaN  NaN           NaN   \n",
       "2  2010-01-03       76.1        NaN               NaN  NaN  NaN           NaN   \n",
       "3  2010-01-04       76.1        NaN               NaN  NaN  NaN           NaN   \n",
       "4  2010-01-05       76.1        NaN               NaN  NaN  NaN           NaN   \n",
       "\n",
       "   balance_trade  balance_trade_growth  usdrub  \\\n",
       "0            NaN                   NaN     NaN   \n",
       "1            NaN                   NaN     NaN   \n",
       "2            NaN                   NaN     NaN   \n",
       "3            NaN                   NaN  29.905   \n",
       "4            NaN                   NaN  29.836   \n",
       "\n",
       "                  ...                   rent_price_2room_bus  \\\n",
       "0                 ...                                    NaN   \n",
       "1                 ...                                    NaN   \n",
       "2                 ...                                    NaN   \n",
       "3                 ...                                    NaN   \n",
       "4                 ...                                    NaN   \n",
       "\n",
       "   rent_price_1room_bus  rent_price_3room_eco  rent_price_2room_eco  \\\n",
       "0                   NaN                   NaN                   NaN   \n",
       "1                   NaN                   NaN                   NaN   \n",
       "2                   NaN                   NaN                   NaN   \n",
       "3                   NaN                   NaN                   NaN   \n",
       "4                   NaN                   NaN                   NaN   \n",
       "\n",
       "   rent_price_1room_eco  load_of_teachers_school_per_teacher  provision_nurse  \\\n",
       "0                   NaN                          1356.112607             99.4   \n",
       "1                   NaN                          1356.112607             99.4   \n",
       "2                   NaN                          1356.112607             99.4   \n",
       "3                   NaN                          1356.112607             99.4   \n",
       "4                   NaN                          1356.112607             99.4   \n",
       "\n",
       "   load_on_doctors  turnover_catering_per_cap  \\\n",
       "0      7872.848285                     6221.0   \n",
       "1      7872.848285                     6221.0   \n",
       "2      7872.848285                     6221.0   \n",
       "3      7872.848285                     6221.0   \n",
       "4      7872.848285                     6221.0   \n",
       "\n",
       "   seats_theather_rfmin_per_100000_cap  \n",
       "0                                 0.41  \n",
       "1                                 0.41  \n",
       "2                                 0.41  \n",
       "3                                 0.41  \n",
       "4                                 0.41  \n",
       "\n",
       "[5 rows x 53 columns]"
      ]
     },
     "execution_count": 5,
     "metadata": {},
     "output_type": "execute_result"
    }
   ],
   "source": [
    "my_df.head()"
   ]
  },
  {
   "cell_type": "code",
   "execution_count": 4,
   "metadata": {
    "collapsed": false,
    "scrolled": false
   },
   "outputs": [
    {
     "data": {
      "text/plain": [
       "array(['timestamp', 'oil_urals', 'gdp_quart', 'gdp_quart_growth', 'cpi',\n",
       "       'ppi', 'gdp_deflator', 'balance_trade', 'balance_trade_growth',\n",
       "       'usdrub', 'eurrub', 'brent', 'net_capital_export', 'gdp_annual',\n",
       "       'gdp_annual_growth', 'average_provision_of_build_contract',\n",
       "       'average_provision_of_build_contract_moscow', 'rts', 'micex',\n",
       "       'micex_rgbi_tr', 'micex_cbi_tr', 'deposits_value',\n",
       "       'deposits_growth', 'mortgage_value', 'mortgage_growth',\n",
       "       'mortgage_rate', 'income_per_cap', 'salary', 'fixed_basket',\n",
       "       'retail_trade_turnover', 'retail_trade_turnover_per_cap',\n",
       "       'retail_trade_turnover_growth', 'labor_force', 'unemployment',\n",
       "       'employment', 'invest_fixed_capital_per_cap', 'invest_fixed_assets',\n",
       "       'pop_natural_increase', 'childbirth', 'mortality',\n",
       "       'average_life_exp', 'rent_price_4+room_bus', 'rent_price_3room_bus',\n",
       "       'rent_price_2room_bus', 'rent_price_1room_bus',\n",
       "       'rent_price_3room_eco', 'rent_price_2room_eco',\n",
       "       'rent_price_1room_eco', 'load_of_teachers_school_per_teacher',\n",
       "       'provision_nurse', 'load_on_doctors', 'turnover_catering_per_cap',\n",
       "       'seats_theather_rfmin_per_100000_cap'], dtype=object)"
      ]
     },
     "execution_count": 4,
     "metadata": {},
     "output_type": "execute_result"
    }
   ],
   "source": [
    "my_df.columns.values"
   ]
  },
  {
   "cell_type": "code",
   "execution_count": 5,
   "metadata": {
    "collapsed": true
   },
   "outputs": [],
   "source": [
    "my_df.fillna( method='ffill', inplace=True )\n",
    "my_df.fillna( method='bfill', inplace=True )"
   ]
  },
  {
   "cell_type": "code",
   "execution_count": 6,
   "metadata": {
    "collapsed": false
   },
   "outputs": [],
   "source": [
    "# GDP stuff, can group\n",
    "gdp_list = ['gdp_quart','gdp_quart_growth','gdp_deflator','gdp_annual','gdp_annual_growth']\n",
    "\n",
    "# Consumer/producer price index\n",
    "pi_list = ['cpi','ppi']\n",
    "\n",
    "# Trade surpluses, prob can group\n",
    "balance_list = ['balance_trade','balance_trade_growth']\n",
    "\n",
    "\n",
    "\n",
    "eco_list = gdp_list + pi_list + balance_list\n",
    "\n",
    "#dv.corr_plot( my_df[eco_list] )"
   ]
  },
  {
   "cell_type": "code",
   "execution_count": 24,
   "metadata": {
    "collapsed": false
   },
   "outputs": [],
   "source": [
    "foo = my_df[eco_list].copy()\n",
    "for col in eco_list:\n",
    "#    f, ax = plt.subplots(ncols=2)\n",
    "#    foo[col].hist(bins=20,ax=ax[0])\n",
    "    foo[col] = smart_scale( foo, col )\n",
    "#    foo[col].hist(bins=20,ax=ax[1])\n",
    "#    plt.title(col)\n",
    "#    plt.show()"
   ]
  },
  {
   "cell_type": "code",
   "execution_count": 7,
   "metadata": {
    "collapsed": false
   },
   "outputs": [],
   "source": [
    "# Ruble conversion rate, highly correlated\n",
    "rub_list = ['usdrub','eurrub','fixed_basket']\n",
    "\n",
    "# MICEX? Mixed bag, group\n",
    "micex_list = ['micex','micex_rgbi_tr','micex_cbi_tr']\n",
    "\n",
    "# Lots of good correlations\n",
    "banking_list = [ 'deposits_value', 'deposits_growth', \n",
    "                 'mortgage_value', 'mortgage_growth', 'mortgage_rate']\n",
    "\n",
    "# Exactly the same...\n",
    "invest_list = ['invest_fixed_capital_per_cap','invest_fixed_assets']\n",
    "\n",
    "\n",
    "mark_list = rub_list + micex_list + banking_list + invest_list\n",
    "\n",
    "#dv.corr_plot( my_df[mark_list] )"
   ]
  },
  {
   "cell_type": "code",
   "execution_count": 25,
   "metadata": {
    "collapsed": false
   },
   "outputs": [],
   "source": [
    "foo = my_df[mark_list].copy()\n",
    "for col in mark_list:\n",
    "#    f, ax = plt.subplots(ncols=2)\n",
    "#    foo[col].hist(bins=20,ax=ax[0])\n",
    "    foo[col] = rv.smart_scale( foo, col )\n",
    "#    foo[col].hist(bins=20,ax=ax[1])\n",
    "#    plt.title(col)\n",
    "#    plt.show()"
   ]
  },
  {
   "cell_type": "code",
   "execution_count": 8,
   "metadata": {
    "collapsed": false
   },
   "outputs": [
    {
     "name": "stderr",
     "output_type": "stream",
     "text": [
      "/home/sean/anaconda/lib/python2.7/site-packages/matplotlib/collections.py:590: FutureWarning: elementwise comparison failed; returning scalar instead, but in the future will perform elementwise comparison\n",
      "  if self._edgecolors == str('face'):\n"
     ]
    }
   ],
   "source": [
    "# Provision orders to build stuff, not correlated\n",
    "build_list = ['average_provision_of_build_contract','average_provision_of_build_contract_moscow']\n",
    "\n",
    "# Retail\n",
    "retail_list = ['retail_trade_turnover','retail_trade_turnover_per_cap','retail_trade_turnover_growth']\n",
    "\n",
    "# Miscellaneous\n",
    "misc_list = ['oil_urals','turnover_catering_per_cap','seats_theather_rfmin_per_100000_cap']\n",
    "\n",
    "\n",
    "buy_list = build_list + retail_list + misc_list\n",
    "\n",
    "#dv.corr_plot( my_df[buy_list] )"
   ]
  },
  {
   "cell_type": "code",
   "execution_count": 26,
   "metadata": {
    "collapsed": false
   },
   "outputs": [],
   "source": [
    "foo = my_df[buy_list].copy()\n",
    "for col in buy_list:\n",
    "#    f, ax = plt.subplots(ncols=2)\n",
    "#    foo[col].hist(bins=20,ax=ax[0])\n",
    "    foo[col] = rv.smart_scale( foo, col )\n",
    "#    foo[col].hist(bins=20,ax=ax[1])\n",
    "#    plt.title(col)\n",
    "#    plt.show()"
   ]
  },
  {
   "cell_type": "code",
   "execution_count": 9,
   "metadata": {
    "collapsed": true
   },
   "outputs": [],
   "source": [
    "# Great corr\n",
    "personal_list = ['income_per_cap','salary','labor_force','unemployment','employment',\n",
    "                 'pop_natural_increase','childbirth','mortality','average_life_exp',\n",
    "                 'provision_nurse', 'load_on_doctors']\n",
    "\n",
    "# rent\n",
    "rent_list = ['rent_price_4+room_bus', 'rent_price_3room_bus', 'rent_price_2room_bus', 'rent_price_1room_bus',\n",
    "             'rent_price_3room_eco', 'rent_price_2room_eco', 'rent_price_1room_eco']\n",
    "\n",
    "\n",
    "peep_list = personal_list + rent_list\n",
    "\n",
    "#dv.corr_plot( my_df[personal_list] )\n",
    "#dv.corr_plot( my_df[    rent_list] )"
   ]
  },
  {
   "cell_type": "code",
   "execution_count": 28,
   "metadata": {
    "collapsed": false
   },
   "outputs": [
    {
     "name": "stdout",
     "output_type": "stream",
     "text": [
      "income_per_cap\n",
      "salary\n",
      "labor_force\n",
      "unemployment\n",
      "employment\n",
      "pop_natural_increase\n",
      "childbirth\n",
      "mortality\n",
      "average_life_exp\n",
      "provision_nurse\n",
      "load_on_doctors\n",
      "rent_price_4+room_bus\n",
      "rent_price_3room_bus\n",
      "rent_price_2room_bus\n",
      "rent_price_1room_bus\n",
      "rent_price_3room_eco\n",
      "rent_price_2room_eco\n",
      "rent_price_1room_eco\n"
     ]
    }
   ],
   "source": [
    "foo = my_df[peep_list].copy()\n",
    "for col in peep_list:\n",
    "#    f, ax = plt.subplots(ncols=2)\n",
    "#    foo[col].hist(bins=20,ax=ax[0])\n",
    "    print col\n",
    "    foo[col] = rv.smart_scale( foo, col )\n",
    "#    foo[col].hist(bins=20,ax=ax[1])\n",
    "#    plt.title(col)\n",
    "#    plt.show()"
   ]
  },
  {
   "cell_type": "code",
   "execution_count": 10,
   "metadata": {
    "collapsed": true
   },
   "outputs": [],
   "source": [
    "smart = ['gdp_quart','cpi','ppi','balance_trade','balance_trade_growth',\n",
    "         'deposits_growth','mortgage_rate',\n",
    "         'average_provision_of_build_contract',\n",
    "         'seats_theather_rfmin_per_100000_cap',\n",
    "         'income_per_cap','rent_price_4+room_bus','rent_price_3room_bus','rent_price_2room_bus',\n",
    "         'rent_price_1room_bus','rent_price_3room_eco','rent_price_2room_eco','rent_price_1room_eco']\n",
    "\n",
    "\n",
    "scale = ['gdp_quart_growth','gdp_deflator','gdp_annual','gdp_annual_growth',\n",
    "         'usdrub','eurrub','fixed_basket','micex','micex_rgbi_tr','micex_cbi_tr',\n",
    "         'deposits_value','mortgage_value','mortgage_growth','invest_fixed_capital_per_cap','invest_fixed_assets',\n",
    "         'average_provision_of_build_contract_moscow','retail_trade_turnover','retail_trade_turnover_per_cap',\n",
    "         'retail_trade_turnover_growth','oil_urals','turnover_catering_per_cap',\n",
    "         'salary','labor_force','unemployment','employment','pop_natural_increase','childbirth',\n",
    "         'mortality','average_life_exp','provision_nurse','load_on_doctors']"
   ]
  },
  {
   "cell_type": "code",
   "execution_count": 12,
   "metadata": {
    "collapsed": false
   },
   "outputs": [],
   "source": [
    "# resume 27\n",
    "norm_df = my_df[smart].copy()\n",
    "for col in smart:\n",
    "    norm_df[ col ] = rv.smart_scale( my_df, col, show_plot=False )\n",
    "for col in scale:\n",
    "    norm_df[ col ] = rv.scale_column_sigma( my_df, col )"
   ]
  },
  {
   "cell_type": "code",
   "execution_count": 13,
   "metadata": {
    "collapsed": false
   },
   "outputs": [
    {
     "data": {
      "text/plain": [
       "(2484, 48)"
      ]
     },
     "execution_count": 13,
     "metadata": {},
     "output_type": "execute_result"
    }
   ],
   "source": [
    "norm_df.shape"
   ]
  },
  {
   "cell_type": "code",
   "execution_count": 21,
   "metadata": {
    "collapsed": false
   },
   "outputs": [
    {
     "name": "stdout",
     "output_type": "stream",
     "text": [
      "Using columns:\n",
      "Index([u'gdp_quart', u'cpi', u'ppi', u'balance_trade', u'balance_trade_growth',\n",
      "       u'deposits_growth', u'mortgage_rate',\n",
      "       u'average_provision_of_build_contract',\n",
      "       u'seats_theather_rfmin_per_100000_cap', u'income_per_cap',\n",
      "       u'rent_price_4+room_bus', u'rent_price_3room_bus',\n",
      "       u'rent_price_2room_bus', u'rent_price_1room_bus',\n",
      "       u'rent_price_3room_eco', u'rent_price_2room_eco',\n",
      "       u'rent_price_1room_eco', u'gdp_quart_growth', u'gdp_deflator',\n",
      "       u'gdp_annual', u'gdp_annual_growth', u'usdrub', u'eurrub',\n",
      "       u'fixed_basket', u'micex', u'micex_rgbi_tr', u'micex_cbi_tr',\n",
      "       u'deposits_value', u'mortgage_value', u'mortgage_growth',\n",
      "       u'invest_fixed_capital_per_cap', u'invest_fixed_assets',\n",
      "       u'average_provision_of_build_contract_moscow', u'retail_trade_turnover',\n",
      "       u'retail_trade_turnover_per_cap', u'retail_trade_turnover_growth',\n",
      "       u'oil_urals', u'turnover_catering_per_cap', u'salary', u'labor_force',\n",
      "       u'unemployment', u'employment', u'pop_natural_increase', u'childbirth',\n",
      "       u'mortality', u'average_life_exp', u'provision_nurse',\n",
      "       u'load_on_doctors'],\n",
      "      dtype='object')\n",
      "\n",
      "Using  6  components, variance ratio:\n",
      "[ 0.51181077  0.15581016  0.06848566  0.04922456  0.04385443  0.02895799]\n",
      "Total explained variance:  0.858143572906\n",
      "\n",
      "New columns:\n",
      "['economy_pca_0', 'economy_pca_1', 'economy_pca_2', 'economy_pca_3', 'economy_pca_4', 'economy_pca_5']\n"
     ]
    }
   ],
   "source": [
    "economy_pca = rv.generate_reduced_PCA( norm_df,N_c = 6, cols=norm_df.columns, col_names='economy', verbose=True )"
   ]
  },
  {
   "cell_type": "code",
   "execution_count": 22,
   "metadata": {
    "collapsed": false
   },
   "outputs": [
    {
     "data": {
      "text/html": [
       "<div>\n",
       "<table border=\"1\" class=\"dataframe\">\n",
       "  <thead>\n",
       "    <tr style=\"text-align: right;\">\n",
       "      <th></th>\n",
       "      <th>economy_pca_0</th>\n",
       "      <th>economy_pca_1</th>\n",
       "      <th>economy_pca_2</th>\n",
       "      <th>economy_pca_3</th>\n",
       "      <th>economy_pca_4</th>\n",
       "      <th>economy_pca_5</th>\n",
       "    </tr>\n",
       "  </thead>\n",
       "  <tbody>\n",
       "    <tr>\n",
       "      <th>0</th>\n",
       "      <td>11.509154</td>\n",
       "      <td>2.094981</td>\n",
       "      <td>2.707482</td>\n",
       "      <td>-1.691901</td>\n",
       "      <td>1.455286</td>\n",
       "      <td>0.333718</td>\n",
       "    </tr>\n",
       "    <tr>\n",
       "      <th>1</th>\n",
       "      <td>11.509154</td>\n",
       "      <td>2.094981</td>\n",
       "      <td>2.707482</td>\n",
       "      <td>-1.691901</td>\n",
       "      <td>1.455286</td>\n",
       "      <td>0.333718</td>\n",
       "    </tr>\n",
       "    <tr>\n",
       "      <th>2</th>\n",
       "      <td>11.495083</td>\n",
       "      <td>2.104226</td>\n",
       "      <td>2.705919</td>\n",
       "      <td>-1.692394</td>\n",
       "      <td>1.456099</td>\n",
       "      <td>0.339611</td>\n",
       "    </tr>\n",
       "    <tr>\n",
       "      <th>3</th>\n",
       "      <td>11.475922</td>\n",
       "      <td>2.116818</td>\n",
       "      <td>2.703790</td>\n",
       "      <td>-1.693065</td>\n",
       "      <td>1.457207</td>\n",
       "      <td>0.347636</td>\n",
       "    </tr>\n",
       "    <tr>\n",
       "      <th>4</th>\n",
       "      <td>11.480380</td>\n",
       "      <td>2.111180</td>\n",
       "      <td>2.701421</td>\n",
       "      <td>-1.694002</td>\n",
       "      <td>1.457837</td>\n",
       "      <td>0.349619</td>\n",
       "    </tr>\n",
       "  </tbody>\n",
       "</table>\n",
       "</div>"
      ],
      "text/plain": [
       "   economy_pca_0  economy_pca_1  economy_pca_2  economy_pca_3  economy_pca_4  \\\n",
       "0      11.509154       2.094981       2.707482      -1.691901       1.455286   \n",
       "1      11.509154       2.094981       2.707482      -1.691901       1.455286   \n",
       "2      11.495083       2.104226       2.705919      -1.692394       1.456099   \n",
       "3      11.475922       2.116818       2.703790      -1.693065       1.457207   \n",
       "4      11.480380       2.111180       2.701421      -1.694002       1.457837   \n",
       "\n",
       "   economy_pca_5  \n",
       "0       0.333718  \n",
       "1       0.333718  \n",
       "2       0.339611  \n",
       "3       0.347636  \n",
       "4       0.349619  "
      ]
     },
     "execution_count": 22,
     "metadata": {},
     "output_type": "execute_result"
    }
   ],
   "source": [
    "economy_pca.head()"
   ]
  },
  {
   "cell_type": "code",
   "execution_count": 23,
   "metadata": {
    "collapsed": false
   },
   "outputs": [
    {
     "data": {
      "text/plain": [
       "array([[<matplotlib.axes._subplots.AxesSubplot object at 0x7f4237c6ab50>,\n",
       "        <matplotlib.axes._subplots.AxesSubplot object at 0x7f42373b2f50>],\n",
       "       [<matplotlib.axes._subplots.AxesSubplot object at 0x7f4236b8b1d0>,\n",
       "        <matplotlib.axes._subplots.AxesSubplot object at 0x7f4231263210>],\n",
       "       [<matplotlib.axes._subplots.AxesSubplot object at 0x7f42377f5c10>,\n",
       "        <matplotlib.axes._subplots.AxesSubplot object at 0x7f4231af0f50>]], dtype=object)"
      ]
     },
     "execution_count": 23,
     "metadata": {},
     "output_type": "execute_result"
    }
   ],
   "source": [
    "economy_pca.hist()"
   ]
  },
  {
   "cell_type": "code",
   "execution_count": 24,
   "metadata": {
    "collapsed": true
   },
   "outputs": [],
   "source": [
    "plt.show()"
   ]
  },
  {
   "cell_type": "code",
   "execution_count": 25,
   "metadata": {
    "collapsed": false
   },
   "outputs": [
    {
     "name": "stdout",
     "output_type": "stream",
     "text": [
      "(2484, 6)\n",
      "(2484,)\n"
     ]
    }
   ],
   "source": [
    "print economy_pca.shape\n",
    "print my_df['timestamp'].shape"
   ]
  },
  {
   "cell_type": "code",
   "execution_count": 39,
   "metadata": {
    "collapsed": false
   },
   "outputs": [
    {
     "name": "stdout",
     "output_type": "stream",
     "text": [
      "0    2010-01-01\n",
      "1    2010-01-02\n",
      "2    2010-01-03\n",
      "3    2010-01-04\n",
      "4    2010-01-05\n",
      "Name: timestamp, dtype: object\n",
      "   economy_pca_0  economy_pca_1  economy_pca_2  economy_pca_3  economy_pca_4  \\\n",
      "0      11.509154       2.094981       2.707482      -1.691901       1.455286   \n",
      "1      11.509154       2.094981       2.707482      -1.691901       1.455286   \n",
      "2      11.495083       2.104226       2.705919      -1.692394       1.456099   \n",
      "3      11.475922       2.116818       2.703790      -1.693065       1.457207   \n",
      "4      11.480380       2.111180       2.701421      -1.694002       1.457837   \n",
      "\n",
      "   economy_pca_5  \n",
      "0       0.333718  \n",
      "1       0.333718  \n",
      "2       0.339611  \n",
      "3       0.347636  \n",
      "4       0.349619  \n"
     ]
    }
   ],
   "source": [
    "print my_df['timestamp'].head()\n",
    "print economy_pca.head()"
   ]
  },
  {
   "cell_type": "code",
   "execution_count": 49,
   "metadata": {
    "collapsed": false,
    "scrolled": true
   },
   "outputs": [],
   "source": [
    "out_df = my_df['timestamp'].to_frame().merge( economy_pca, how='inner', left_index=True, right_index=True )"
   ]
  },
  {
   "cell_type": "code",
   "execution_count": 50,
   "metadata": {
    "collapsed": false
   },
   "outputs": [
    {
     "data": {
      "text/plain": [
       "(2484, 7)"
      ]
     },
     "execution_count": 50,
     "metadata": {},
     "output_type": "execute_result"
    }
   ],
   "source": [
    "out_df.shape"
   ]
  },
  {
   "cell_type": "code",
   "execution_count": 51,
   "metadata": {
    "collapsed": false
   },
   "outputs": [
    {
     "data": {
      "text/html": [
       "<div>\n",
       "<table border=\"1\" class=\"dataframe\">\n",
       "  <thead>\n",
       "    <tr style=\"text-align: right;\">\n",
       "      <th></th>\n",
       "      <th>timestamp</th>\n",
       "      <th>economy_pca_0</th>\n",
       "      <th>economy_pca_1</th>\n",
       "      <th>economy_pca_2</th>\n",
       "      <th>economy_pca_3</th>\n",
       "      <th>economy_pca_4</th>\n",
       "      <th>economy_pca_5</th>\n",
       "    </tr>\n",
       "  </thead>\n",
       "  <tbody>\n",
       "    <tr>\n",
       "      <th>0</th>\n",
       "      <td>2010-01-01</td>\n",
       "      <td>11.509154</td>\n",
       "      <td>2.094981</td>\n",
       "      <td>2.707482</td>\n",
       "      <td>-1.691901</td>\n",
       "      <td>1.455286</td>\n",
       "      <td>0.333718</td>\n",
       "    </tr>\n",
       "    <tr>\n",
       "      <th>1</th>\n",
       "      <td>2010-01-02</td>\n",
       "      <td>11.509154</td>\n",
       "      <td>2.094981</td>\n",
       "      <td>2.707482</td>\n",
       "      <td>-1.691901</td>\n",
       "      <td>1.455286</td>\n",
       "      <td>0.333718</td>\n",
       "    </tr>\n",
       "    <tr>\n",
       "      <th>2</th>\n",
       "      <td>2010-01-03</td>\n",
       "      <td>11.495083</td>\n",
       "      <td>2.104226</td>\n",
       "      <td>2.705919</td>\n",
       "      <td>-1.692394</td>\n",
       "      <td>1.456099</td>\n",
       "      <td>0.339611</td>\n",
       "    </tr>\n",
       "    <tr>\n",
       "      <th>3</th>\n",
       "      <td>2010-01-04</td>\n",
       "      <td>11.475922</td>\n",
       "      <td>2.116818</td>\n",
       "      <td>2.703790</td>\n",
       "      <td>-1.693065</td>\n",
       "      <td>1.457207</td>\n",
       "      <td>0.347636</td>\n",
       "    </tr>\n",
       "    <tr>\n",
       "      <th>4</th>\n",
       "      <td>2010-01-05</td>\n",
       "      <td>11.480380</td>\n",
       "      <td>2.111180</td>\n",
       "      <td>2.701421</td>\n",
       "      <td>-1.694002</td>\n",
       "      <td>1.457837</td>\n",
       "      <td>0.349619</td>\n",
       "    </tr>\n",
       "  </tbody>\n",
       "</table>\n",
       "</div>"
      ],
      "text/plain": [
       "    timestamp  economy_pca_0  economy_pca_1  economy_pca_2  economy_pca_3  \\\n",
       "0  2010-01-01      11.509154       2.094981       2.707482      -1.691901   \n",
       "1  2010-01-02      11.509154       2.094981       2.707482      -1.691901   \n",
       "2  2010-01-03      11.495083       2.104226       2.705919      -1.692394   \n",
       "3  2010-01-04      11.475922       2.116818       2.703790      -1.693065   \n",
       "4  2010-01-05      11.480380       2.111180       2.701421      -1.694002   \n",
       "\n",
       "   economy_pca_4  economy_pca_5  \n",
       "0       1.455286       0.333718  \n",
       "1       1.455286       0.333718  \n",
       "2       1.456099       0.339611  \n",
       "3       1.457207       0.347636  \n",
       "4       1.457837       0.349619  "
      ]
     },
     "execution_count": 51,
     "metadata": {},
     "output_type": "execute_result"
    }
   ],
   "source": [
    "out_df.head()"
   ]
  },
  {
   "cell_type": "code",
   "execution_count": 52,
   "metadata": {
    "collapsed": true
   },
   "outputs": [],
   "source": [
    "out_df.to_pickle( 'economy.pkl' )"
   ]
  },
  {
   "cell_type": "code",
   "execution_count": null,
   "metadata": {
    "collapsed": true
   },
   "outputs": [],
   "source": []
  }
 ],
 "metadata": {
  "kernelspec": {
   "display_name": "Python 2",
   "language": "python",
   "name": "python2"
  },
  "language_info": {
   "codemirror_mode": {
    "name": "ipython",
    "version": 2
   },
   "file_extension": ".py",
   "mimetype": "text/x-python",
   "name": "python",
   "nbconvert_exporter": "python",
   "pygments_lexer": "ipython2",
   "version": "2.7.13"
  }
 },
 "nbformat": 4,
 "nbformat_minor": 2
}
