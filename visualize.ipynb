{
 "cells": [
  {
   "cell_type": "code",
   "execution_count": 1,
   "metadata": {
    "collapsed": true
   },
   "outputs": [],
   "source": [
    "import numpy  as np\n",
    "import pandas as pd\n",
    "\n",
    "import matplotlib.pyplot as plt\n",
    "\n",
    "import remap_values      as rv\n",
    "import df_visualizations as dv"
   ]
  },
  {
   "cell_type": "code",
   "execution_count": 6,
   "metadata": {
    "collapsed": true
   },
   "outputs": [],
   "source": [
    "# price_doc new sale price"
   ]
  },
  {
   "cell_type": "code",
   "execution_count": 56,
   "metadata": {
    "collapsed": true
   },
   "outputs": [],
   "source": [
    "train_df = pd.read_csv( 'inp_data/train.csv' )\n",
    "test_df  = pd.read_csv( 'inp_data/test.csv'  )\n",
    "\n",
    "target_price = np.log10( train_df       ['price_doc'] .copy() )\n",
    "train_df     =           train_df.drop( ['price_doc'] , axis=1 )\n",
    "\n",
    "big_df = train_df.append( test_df ).copy()"
   ]
  },
  {
   "cell_type": "code",
   "execution_count": null,
   "metadata": {
    "collapsed": true
   },
   "outputs": [],
   "source": []
  },
  {
   "cell_type": "code",
   "execution_count": null,
   "metadata": {
    "collapsed": true
   },
   "outputs": [],
   "source": [
    "foo = big_df.ix[:, big_df.columns.str.contains('build_') ].copy()#/big_df.ix[].copy()\n",
    "\n",
    "foo['Price']      = target_price.copy()\n",
    "foo['N_build']    = foo[build_material].sum( axis=1 )\n",
    "foo['Good_build'] = (foo['build_count_wood'] + foo['build_count_frame'] + foo['build_count_mix'] + \n",
    "                     foo['build_count_slag'] + foo['build_count_foam']) / foo['N_build']\n",
    "foo['Bad_build' ] = (foo['build_count_block']+ foo['build_count_panel'] + foo['build_count_monolith'] + \n",
    "                     foo['build_count_brick'] ) / foo['N_build']\n",
    "\n",
    "foo['culture_objects_top_25'] = foo['culture_objects_top_25'].replace( {'no':0,'yes':1} ).fillna(0)\n"
   ]
  },
  {
   "cell_type": "code",
   "execution_count": 57,
   "metadata": {
    "collapsed": false
   },
   "outputs": [],
   "source": [
    "# This stuff had near 0 correlation to final price\n",
    "drop_list_age = ['0_6_all','0_6_male','0_6_female','7_14_all','7_14_male','7_14_female','0_17_all','0_17_male','0_17_female','16_29_all','16_29_male','16_29_female','0_13_all','0_13_male','0_13_female']\n",
    "drop_list_aGroup = ['young_all', 'young_male', 'young_female', 'work_all', 'work_male', 'work_female', 'ekder_all', 'ekder_male', 'ekder_female']\n",
    "drop_list_pop = ['full_all','male_f','female_f']\n",
    "drop_list_neigh = ['raion_popul']\n",
    "drop_list_green = ['green_part_3000','green_part_2000','green_part_1500','green_part_1000','green_part_500']\n",
    "drop_list_school =['preschool_km','school_education_centers_top_20_raion','school_quota','preschool_quota','school_quota','children_preschool','preschool_education_centers_raion']\n",
    "drop_list_build  = ['build_count_wood','build_count_frame','build_count_mix','build_count_slag','build_count_foam','build_count_block','build_count_panel','build_count_monolith','build_count_brick','build_count_before_1920','build_count_1921-1945','build_count_1946-1970','build_count_1971-1995','build_count_after_1995']\n",
    "drop_list_auto   = ['metro_km_avto','metro_min_walk','metro_km_walk','ID_metro']\n",
    "drop_list_railroad=['railroad_station_avto_km', 'railroad_station_walk_min', 'railroad_station_walk_km', 'ID_railroad_station_avto', 'ID_railroad_station_walk', 'railroad_1line','railroad_terminal_raion','ID_railroad_terminal'] \n",
    "drop_list_metro   =['ID_metro', 'metro_km_avto', 'metro_min_walk', 'metro_km_walk']\n",
    "drop_list_sport   =['sport_objects_raion', 'public_transport_station_min_walk', 'sport_count_500', 'sport_count_1000', 'sport_count_1500', 'sport_count_2000', 'sport_count_3000']\n",
    "drop_list_office  =['office_raion',  'office_count_500', 'office_count_5000', 'office_sqm_500', 'office_count_1000', 'office_sqm_1000', 'office_count_1500', 'office_sqm_1500', 'office_count_2000', 'office_sqm_2000', 'office_count_3000', 'office_sqm_3000' ]\n",
    "\n",
    "\n",
    "drop_list_misc    =['hospital_beds_raion','university_top_20_raion','public_transport_station_min_walk','additional_education_raion',\n",
    "                    'culture_objects_top_25_raion','shopping_centers_raion']\n",
    "\n",
    "big_df = big_df.drop( drop_list_age+drop_list_aGroup+drop_list_pop+drop_list_neigh+drop_list_green+\\\n",
    "                      drop_list_school+drop_list_build+drop_list_auto+drop_list_railroad+drop_list_metro+\\\n",
    "                      drop_list_sport+drop_list_office+\\\n",
    "                      drop_list_misc, axis=1 )\n",
    "\n",
    "# First to do:\n",
    "foo = big_df['cafe_count_5000'           ].copy()\n",
    "bar = big_df['cafe_count_5000_price_high'].copy()\n",
    "# Drop everyhing else\n",
    "big_df = big_df.drop( big_df.columns[ big_df.columns.str.contains('cafe') ], axis=1 )\n",
    "big_df['cafe_count_5000']            = foo.copy()\n",
    "big_df['cafe_count_5000_price_high'] = bar.copy()"
   ]
  },
  {
   "cell_type": "code",
   "execution_count": 58,
   "metadata": {
    "collapsed": false
   },
   "outputs": [
    {
     "name": "stdout",
     "output_type": "stream",
     "text": [
      "(38133, 166)\n",
      "id\n",
      "timestamp\n",
      "full_sq\n",
      "life_sq\n",
      "floor\n",
      "max_floor\n",
      "material\n",
      "build_year\n",
      "num_room\n",
      "kitch_sq\n",
      "state\n",
      "product_type\n",
      "sub_area\n",
      "area_m\n",
      "green_zone_part\n",
      "indust_part\n",
      "children_school\n",
      "school_education_centers_raion\n",
      "hospital_beds_raion\n",
      "healthcare_centers_raion\n",
      "university_top_20_raion\n",
      "sport_objects_raion\n",
      "additional_education_raion\n",
      "culture_objects_top_25\n",
      "culture_objects_top_25_raion\n",
      "shopping_centers_raion\n",
      "office_raion\n",
      "thermal_power_plant_raion\n",
      "incineration_raion\n",
      "oil_chemistry_raion\n",
      "radiation_raion\n",
      "big_market_raion\n",
      "nuclear_reactor_raion\n",
      "detention_facility_raion\n",
      "raion_build_count_with_material_info\n",
      "raion_build_count_with_builddate_info\n",
      "ID_metro\n",
      "metro_min_avto\n",
      "metro_km_avto\n",
      "metro_min_walk\n",
      "metro_km_walk\n",
      "kindergarten_km\n",
      "school_km\n",
      "park_km\n",
      "green_zone_km\n",
      "industrial_km\n",
      "water_treatment_km\n",
      "cemetery_km\n",
      "incineration_km\n",
      "railroad_station_avto_min\n",
      "public_transport_station_km\n",
      "public_transport_station_min_walk\n",
      "water_km\n",
      "water_1line\n",
      "mkad_km\n",
      "ttk_km\n",
      "sadovoe_km\n",
      "bulvar_ring_km\n",
      "kremlin_km\n",
      "big_road1_km\n",
      "ID_big_road1\n",
      "big_road1_1line\n",
      "big_road2_km\n",
      "ID_big_road2\n",
      "railroad_km\n",
      "zd_vokzaly_avto_km\n",
      "bus_terminal_avto_km\n",
      "ID_bus_terminal\n",
      "oil_chemistry_km\n",
      "nuclear_reactor_km\n",
      "radiation_km\n",
      "power_transmission_line_km\n",
      "thermal_power_plant_km\n",
      "ts_km\n",
      "big_market_km\n",
      "market_shop_km\n",
      "fitness_km\n",
      "swim_pool_km\n",
      "ice_rink_km\n",
      "stadium_km\n",
      "basketball_km\n",
      "hospice_morgue_km\n",
      "detention_facility_km\n",
      "public_healthcare_km\n",
      "university_km\n",
      "workplaces_km\n",
      "shopping_centers_km\n",
      "office_km\n",
      "additional_education_km\n",
      "big_church_km\n",
      "church_synagogue_km\n",
      "mosque_km\n",
      "theater_km\n",
      "museum_km\n",
      "exhibition_km\n",
      "catering_km\n",
      "ecology\n",
      "prom_part_500\n",
      "office_count_500\n",
      "office_sqm_500\n",
      "trc_count_500\n",
      "trc_sqm_500\n",
      "big_church_count_500\n",
      "church_count_500\n",
      "mosque_count_500\n",
      "leisure_count_500\n",
      "sport_count_500\n",
      "market_count_500\n",
      "prom_part_1000\n",
      "office_count_1000\n",
      "office_sqm_1000\n",
      "trc_count_1000\n",
      "trc_sqm_1000\n",
      "big_church_count_1000\n",
      "church_count_1000\n",
      "mosque_count_1000\n",
      "leisure_count_1000\n",
      "sport_count_1000\n",
      "market_count_1000\n",
      "prom_part_1500\n",
      "office_count_1500\n",
      "office_sqm_1500\n",
      "trc_count_1500\n",
      "trc_sqm_1500\n",
      "big_church_count_1500\n",
      "church_count_1500\n",
      "mosque_count_1500\n",
      "leisure_count_1500\n",
      "sport_count_1500\n",
      "market_count_1500\n",
      "prom_part_2000\n",
      "office_count_2000\n",
      "office_sqm_2000\n",
      "trc_count_2000\n",
      "trc_sqm_2000\n",
      "big_church_count_2000\n",
      "church_count_2000\n",
      "mosque_count_2000\n",
      "leisure_count_2000\n",
      "sport_count_2000\n",
      "market_count_2000\n",
      "prom_part_3000\n",
      "office_count_3000\n",
      "office_sqm_3000\n",
      "trc_count_3000\n",
      "trc_sqm_3000\n",
      "big_church_count_3000\n",
      "church_count_3000\n",
      "mosque_count_3000\n",
      "leisure_count_3000\n",
      "sport_count_3000\n",
      "market_count_3000\n",
      "green_part_5000\n",
      "prom_part_5000\n",
      "office_count_5000\n",
      "office_sqm_5000\n",
      "trc_count_5000\n",
      "trc_sqm_5000\n",
      "big_church_count_5000\n",
      "church_count_5000\n",
      "mosque_count_5000\n",
      "leisure_count_5000\n",
      "sport_count_5000\n",
      "market_count_5000\n",
      "cafe_count_5000\n",
      "cafe_count_5000_price_high\n"
     ]
    }
   ],
   "source": [
    "print big_df.shape\n",
    "for col in big_df.columns.values:\n",
    "    print col"
   ]
  },
  {
   "cell_type": "code",
   "execution_count": 73,
   "metadata": {
    "collapsed": false
   },
   "outputs": [
    {
     "data": {
      "text/plain": [
       "array(['no', 'yes'], dtype=object)"
      ]
     },
     "execution_count": 73,
     "metadata": {},
     "output_type": "execute_result"
    }
   ],
   "source": [
    "foo['thermal_power_plant_raion'].unique()"
   ]
  },
  {
   "cell_type": "code",
   "execution_count": 72,
   "metadata": {
    "collapsed": false
   },
   "outputs": [
    {
     "name": "stdout",
     "output_type": "stream",
     "text": [
      "['thermal_power_plant_raion' 'power_transmission_line_km'\n",
      " 'thermal_power_plant_km']\n"
     ]
    },
    {
     "ename": "TypeError",
     "evalue": "(\"unsupported operand type(s) for /: 'str' and 'int'\", u'occurred at index thermal_power_plant_raion')",
     "output_type": "error",
     "traceback": [
      "\u001b[0;31m---------------------------------------------------------------------------\u001b[0m",
      "\u001b[0;31mTypeError\u001b[0m                                 Traceback (most recent call last)",
      "\u001b[0;32m<ipython-input-72-ddfaaffa2a0f>\u001b[0m in \u001b[0;36m<module>\u001b[0;34m()\u001b[0m\n\u001b[1;32m     10\u001b[0m \u001b[0;34m\u001b[0m\u001b[0m\n\u001b[1;32m     11\u001b[0m \u001b[0;34m\u001b[0m\u001b[0m\n\u001b[0;32m---> 12\u001b[0;31m \u001b[0;32mprint\u001b[0m \u001b[0mfoo\u001b[0m\u001b[0;34m.\u001b[0m\u001b[0mcorrwith\u001b[0m\u001b[0;34m(\u001b[0m \u001b[0mtarget_price\u001b[0m \u001b[0;34m)\u001b[0m\u001b[0;34m.\u001b[0m\u001b[0msort_values\u001b[0m\u001b[0;34m(\u001b[0m\u001b[0;34m)\u001b[0m\u001b[0;34m\u001b[0m\u001b[0m\n\u001b[0m\u001b[1;32m     13\u001b[0m \u001b[0;31m#print foo[build_material+['N_build','Price']].head()\u001b[0m\u001b[0;34m\u001b[0m\u001b[0;34m\u001b[0m\u001b[0m\n\u001b[1;32m     14\u001b[0m \u001b[0;31m#print foo.corr()\u001b[0m\u001b[0;34m\u001b[0m\u001b[0;34m\u001b[0m\u001b[0m\n",
      "\u001b[0;32m/home/sean/anaconda/lib/python2.7/site-packages/pandas/core/frame.pyc\u001b[0m in \u001b[0;36mcorrwith\u001b[0;34m(self, other, axis, drop)\u001b[0m\n\u001b[1;32m   4810\u001b[0m         \u001b[0maxis\u001b[0m \u001b[0;34m=\u001b[0m \u001b[0mself\u001b[0m\u001b[0;34m.\u001b[0m\u001b[0m_get_axis_number\u001b[0m\u001b[0;34m(\u001b[0m\u001b[0maxis\u001b[0m\u001b[0;34m)\u001b[0m\u001b[0;34m\u001b[0m\u001b[0m\n\u001b[1;32m   4811\u001b[0m         \u001b[0;32mif\u001b[0m \u001b[0misinstance\u001b[0m\u001b[0;34m(\u001b[0m\u001b[0mother\u001b[0m\u001b[0;34m,\u001b[0m \u001b[0mSeries\u001b[0m\u001b[0;34m)\u001b[0m\u001b[0;34m:\u001b[0m\u001b[0;34m\u001b[0m\u001b[0m\n\u001b[0;32m-> 4812\u001b[0;31m             \u001b[0;32mreturn\u001b[0m \u001b[0mself\u001b[0m\u001b[0;34m.\u001b[0m\u001b[0mapply\u001b[0m\u001b[0;34m(\u001b[0m\u001b[0mother\u001b[0m\u001b[0;34m.\u001b[0m\u001b[0mcorr\u001b[0m\u001b[0;34m,\u001b[0m \u001b[0maxis\u001b[0m\u001b[0;34m=\u001b[0m\u001b[0maxis\u001b[0m\u001b[0;34m)\u001b[0m\u001b[0;34m\u001b[0m\u001b[0m\n\u001b[0m\u001b[1;32m   4813\u001b[0m \u001b[0;34m\u001b[0m\u001b[0m\n\u001b[1;32m   4814\u001b[0m         \u001b[0mthis\u001b[0m \u001b[0;34m=\u001b[0m \u001b[0mself\u001b[0m\u001b[0;34m.\u001b[0m\u001b[0m_get_numeric_data\u001b[0m\u001b[0;34m(\u001b[0m\u001b[0;34m)\u001b[0m\u001b[0;34m\u001b[0m\u001b[0m\n",
      "\u001b[0;32m/home/sean/anaconda/lib/python2.7/site-packages/pandas/core/frame.pyc\u001b[0m in \u001b[0;36mapply\u001b[0;34m(self, func, axis, broadcast, raw, reduce, args, **kwds)\u001b[0m\n\u001b[1;32m   4150\u001b[0m                     \u001b[0;32mif\u001b[0m \u001b[0mreduce\u001b[0m \u001b[0;32mis\u001b[0m \u001b[0mNone\u001b[0m\u001b[0;34m:\u001b[0m\u001b[0;34m\u001b[0m\u001b[0m\n\u001b[1;32m   4151\u001b[0m                         \u001b[0mreduce\u001b[0m \u001b[0;34m=\u001b[0m \u001b[0mTrue\u001b[0m\u001b[0;34m\u001b[0m\u001b[0m\n\u001b[0;32m-> 4152\u001b[0;31m                     \u001b[0;32mreturn\u001b[0m \u001b[0mself\u001b[0m\u001b[0;34m.\u001b[0m\u001b[0m_apply_standard\u001b[0m\u001b[0;34m(\u001b[0m\u001b[0mf\u001b[0m\u001b[0;34m,\u001b[0m \u001b[0maxis\u001b[0m\u001b[0;34m,\u001b[0m \u001b[0mreduce\u001b[0m\u001b[0;34m=\u001b[0m\u001b[0mreduce\u001b[0m\u001b[0;34m)\u001b[0m\u001b[0;34m\u001b[0m\u001b[0m\n\u001b[0m\u001b[1;32m   4153\u001b[0m             \u001b[0;32melse\u001b[0m\u001b[0;34m:\u001b[0m\u001b[0;34m\u001b[0m\u001b[0m\n\u001b[1;32m   4154\u001b[0m                 \u001b[0;32mreturn\u001b[0m \u001b[0mself\u001b[0m\u001b[0;34m.\u001b[0m\u001b[0m_apply_broadcast\u001b[0m\u001b[0;34m(\u001b[0m\u001b[0mf\u001b[0m\u001b[0;34m,\u001b[0m \u001b[0maxis\u001b[0m\u001b[0;34m)\u001b[0m\u001b[0;34m\u001b[0m\u001b[0m\n",
      "\u001b[0;32m/home/sean/anaconda/lib/python2.7/site-packages/pandas/core/frame.pyc\u001b[0m in \u001b[0;36m_apply_standard\u001b[0;34m(self, func, axis, ignore_failures, reduce)\u001b[0m\n\u001b[1;32m   4246\u001b[0m             \u001b[0;32mtry\u001b[0m\u001b[0;34m:\u001b[0m\u001b[0;34m\u001b[0m\u001b[0m\n\u001b[1;32m   4247\u001b[0m                 \u001b[0;32mfor\u001b[0m \u001b[0mi\u001b[0m\u001b[0;34m,\u001b[0m \u001b[0mv\u001b[0m \u001b[0;32min\u001b[0m \u001b[0menumerate\u001b[0m\u001b[0;34m(\u001b[0m\u001b[0mseries_gen\u001b[0m\u001b[0;34m)\u001b[0m\u001b[0;34m:\u001b[0m\u001b[0;34m\u001b[0m\u001b[0m\n\u001b[0;32m-> 4248\u001b[0;31m                     \u001b[0mresults\u001b[0m\u001b[0;34m[\u001b[0m\u001b[0mi\u001b[0m\u001b[0;34m]\u001b[0m \u001b[0;34m=\u001b[0m \u001b[0mfunc\u001b[0m\u001b[0;34m(\u001b[0m\u001b[0mv\u001b[0m\u001b[0;34m)\u001b[0m\u001b[0;34m\u001b[0m\u001b[0m\n\u001b[0m\u001b[1;32m   4249\u001b[0m                     \u001b[0mkeys\u001b[0m\u001b[0;34m.\u001b[0m\u001b[0mappend\u001b[0m\u001b[0;34m(\u001b[0m\u001b[0mv\u001b[0m\u001b[0;34m.\u001b[0m\u001b[0mname\u001b[0m\u001b[0;34m)\u001b[0m\u001b[0;34m\u001b[0m\u001b[0m\n\u001b[1;32m   4250\u001b[0m             \u001b[0;32mexcept\u001b[0m \u001b[0mException\u001b[0m \u001b[0;32mas\u001b[0m \u001b[0me\u001b[0m\u001b[0;34m:\u001b[0m\u001b[0;34m\u001b[0m\u001b[0m\n",
      "\u001b[0;32m/home/sean/anaconda/lib/python2.7/site-packages/pandas/core/series.pyc\u001b[0m in \u001b[0;36mcorr\u001b[0;34m(self, other, method, min_periods)\u001b[0m\n\u001b[1;32m   1420\u001b[0m             \u001b[0;32mreturn\u001b[0m \u001b[0mnp\u001b[0m\u001b[0;34m.\u001b[0m\u001b[0mnan\u001b[0m\u001b[0;34m\u001b[0m\u001b[0m\n\u001b[1;32m   1421\u001b[0m         return nanops.nancorr(this.values, other.values, method=method,\n\u001b[0;32m-> 1422\u001b[0;31m                               min_periods=min_periods)\n\u001b[0m\u001b[1;32m   1423\u001b[0m \u001b[0;34m\u001b[0m\u001b[0m\n\u001b[1;32m   1424\u001b[0m     \u001b[0;32mdef\u001b[0m \u001b[0mcov\u001b[0m\u001b[0;34m(\u001b[0m\u001b[0mself\u001b[0m\u001b[0;34m,\u001b[0m \u001b[0mother\u001b[0m\u001b[0;34m,\u001b[0m \u001b[0mmin_periods\u001b[0m\u001b[0;34m=\u001b[0m\u001b[0mNone\u001b[0m\u001b[0;34m)\u001b[0m\u001b[0;34m:\u001b[0m\u001b[0;34m\u001b[0m\u001b[0m\n",
      "\u001b[0;32m/home/sean/anaconda/lib/python2.7/site-packages/pandas/core/nanops.pyc\u001b[0m in \u001b[0;36m_f\u001b[0;34m(*args, **kwargs)\u001b[0m\n\u001b[1;32m     48\u001b[0m             \u001b[0;32mtry\u001b[0m\u001b[0;34m:\u001b[0m\u001b[0;34m\u001b[0m\u001b[0m\n\u001b[1;32m     49\u001b[0m                 \u001b[0;32mwith\u001b[0m \u001b[0mnp\u001b[0m\u001b[0;34m.\u001b[0m\u001b[0merrstate\u001b[0m\u001b[0;34m(\u001b[0m\u001b[0minvalid\u001b[0m\u001b[0;34m=\u001b[0m\u001b[0;34m'ignore'\u001b[0m\u001b[0;34m)\u001b[0m\u001b[0;34m:\u001b[0m\u001b[0;34m\u001b[0m\u001b[0m\n\u001b[0;32m---> 50\u001b[0;31m                     \u001b[0;32mreturn\u001b[0m \u001b[0mf\u001b[0m\u001b[0;34m(\u001b[0m\u001b[0;34m*\u001b[0m\u001b[0margs\u001b[0m\u001b[0;34m,\u001b[0m \u001b[0;34m**\u001b[0m\u001b[0mkwargs\u001b[0m\u001b[0;34m)\u001b[0m\u001b[0;34m\u001b[0m\u001b[0m\n\u001b[0m\u001b[1;32m     51\u001b[0m             \u001b[0;32mexcept\u001b[0m \u001b[0mValueError\u001b[0m \u001b[0;32mas\u001b[0m \u001b[0me\u001b[0m\u001b[0;34m:\u001b[0m\u001b[0;34m\u001b[0m\u001b[0m\n\u001b[1;32m     52\u001b[0m                 \u001b[0;31m# we want to transform an object array\u001b[0m\u001b[0;34m\u001b[0m\u001b[0;34m\u001b[0m\u001b[0m\n",
      "\u001b[0;32m/home/sean/anaconda/lib/python2.7/site-packages/pandas/core/nanops.pyc\u001b[0m in \u001b[0;36mnancorr\u001b[0;34m(a, b, method, min_periods)\u001b[0m\n\u001b[1;32m    690\u001b[0m \u001b[0;34m\u001b[0m\u001b[0m\n\u001b[1;32m    691\u001b[0m     \u001b[0mf\u001b[0m \u001b[0;34m=\u001b[0m \u001b[0mget_corr_func\u001b[0m\u001b[0;34m(\u001b[0m\u001b[0mmethod\u001b[0m\u001b[0;34m)\u001b[0m\u001b[0;34m\u001b[0m\u001b[0m\n\u001b[0;32m--> 692\u001b[0;31m     \u001b[0;32mreturn\u001b[0m \u001b[0mf\u001b[0m\u001b[0;34m(\u001b[0m\u001b[0ma\u001b[0m\u001b[0;34m,\u001b[0m \u001b[0mb\u001b[0m\u001b[0;34m)\u001b[0m\u001b[0;34m\u001b[0m\u001b[0m\n\u001b[0m\u001b[1;32m    693\u001b[0m \u001b[0;34m\u001b[0m\u001b[0m\n\u001b[1;32m    694\u001b[0m \u001b[0;34m\u001b[0m\u001b[0m\n",
      "\u001b[0;32m/home/sean/anaconda/lib/python2.7/site-packages/pandas/core/nanops.pyc\u001b[0m in \u001b[0;36m_pearson\u001b[0;34m(a, b)\u001b[0m\n\u001b[1;32m    698\u001b[0m \u001b[0;34m\u001b[0m\u001b[0m\n\u001b[1;32m    699\u001b[0m     \u001b[0;32mdef\u001b[0m \u001b[0m_pearson\u001b[0m\u001b[0;34m(\u001b[0m\u001b[0ma\u001b[0m\u001b[0;34m,\u001b[0m \u001b[0mb\u001b[0m\u001b[0;34m)\u001b[0m\u001b[0;34m:\u001b[0m\u001b[0;34m\u001b[0m\u001b[0m\n\u001b[0;32m--> 700\u001b[0;31m         \u001b[0;32mreturn\u001b[0m \u001b[0mnp\u001b[0m\u001b[0;34m.\u001b[0m\u001b[0mcorrcoef\u001b[0m\u001b[0;34m(\u001b[0m\u001b[0ma\u001b[0m\u001b[0;34m,\u001b[0m \u001b[0mb\u001b[0m\u001b[0;34m)\u001b[0m\u001b[0;34m[\u001b[0m\u001b[0;36m0\u001b[0m\u001b[0;34m,\u001b[0m \u001b[0;36m1\u001b[0m\u001b[0;34m]\u001b[0m\u001b[0;34m\u001b[0m\u001b[0m\n\u001b[0m\u001b[1;32m    701\u001b[0m \u001b[0;34m\u001b[0m\u001b[0m\n\u001b[1;32m    702\u001b[0m     \u001b[0;32mdef\u001b[0m \u001b[0m_kendall\u001b[0m\u001b[0;34m(\u001b[0m\u001b[0ma\u001b[0m\u001b[0;34m,\u001b[0m \u001b[0mb\u001b[0m\u001b[0;34m)\u001b[0m\u001b[0;34m:\u001b[0m\u001b[0;34m\u001b[0m\u001b[0m\n",
      "\u001b[0;32m/home/sean/anaconda/lib/python2.7/site-packages/numpy/lib/function_base.pyc\u001b[0m in \u001b[0;36mcorrcoef\u001b[0;34m(x, y, rowvar, bias, ddof)\u001b[0m\n\u001b[1;32m   2993\u001b[0m         warnings.warn('bias and ddof have no effect and are deprecated',\n\u001b[1;32m   2994\u001b[0m                       DeprecationWarning, stacklevel=2)\n\u001b[0;32m-> 2995\u001b[0;31m     \u001b[0mc\u001b[0m \u001b[0;34m=\u001b[0m \u001b[0mcov\u001b[0m\u001b[0;34m(\u001b[0m\u001b[0mx\u001b[0m\u001b[0;34m,\u001b[0m \u001b[0my\u001b[0m\u001b[0;34m,\u001b[0m \u001b[0mrowvar\u001b[0m\u001b[0;34m)\u001b[0m\u001b[0;34m\u001b[0m\u001b[0m\n\u001b[0m\u001b[1;32m   2996\u001b[0m     \u001b[0;32mtry\u001b[0m\u001b[0;34m:\u001b[0m\u001b[0;34m\u001b[0m\u001b[0m\n\u001b[1;32m   2997\u001b[0m         \u001b[0md\u001b[0m \u001b[0;34m=\u001b[0m \u001b[0mdiag\u001b[0m\u001b[0;34m(\u001b[0m\u001b[0mc\u001b[0m\u001b[0;34m)\u001b[0m\u001b[0;34m\u001b[0m\u001b[0m\n",
      "\u001b[0;32m/home/sean/anaconda/lib/python2.7/site-packages/numpy/lib/function_base.pyc\u001b[0m in \u001b[0;36mcov\u001b[0;34m(m, y, rowvar, bias, ddof, fweights, aweights)\u001b[0m\n\u001b[1;32m   2904\u001b[0m             \u001b[0mw\u001b[0m \u001b[0;34m*=\u001b[0m \u001b[0maweights\u001b[0m\u001b[0;34m\u001b[0m\u001b[0m\n\u001b[1;32m   2905\u001b[0m \u001b[0;34m\u001b[0m\u001b[0m\n\u001b[0;32m-> 2906\u001b[0;31m     \u001b[0mavg\u001b[0m\u001b[0;34m,\u001b[0m \u001b[0mw_sum\u001b[0m \u001b[0;34m=\u001b[0m \u001b[0maverage\u001b[0m\u001b[0;34m(\u001b[0m\u001b[0mX\u001b[0m\u001b[0;34m,\u001b[0m \u001b[0maxis\u001b[0m\u001b[0;34m=\u001b[0m\u001b[0;36m1\u001b[0m\u001b[0;34m,\u001b[0m \u001b[0mweights\u001b[0m\u001b[0;34m=\u001b[0m\u001b[0mw\u001b[0m\u001b[0;34m,\u001b[0m \u001b[0mreturned\u001b[0m\u001b[0;34m=\u001b[0m\u001b[0mTrue\u001b[0m\u001b[0;34m)\u001b[0m\u001b[0;34m\u001b[0m\u001b[0m\n\u001b[0m\u001b[1;32m   2907\u001b[0m     \u001b[0mw_sum\u001b[0m \u001b[0;34m=\u001b[0m \u001b[0mw_sum\u001b[0m\u001b[0;34m[\u001b[0m\u001b[0;36m0\u001b[0m\u001b[0;34m]\u001b[0m\u001b[0;34m\u001b[0m\u001b[0m\n\u001b[1;32m   2908\u001b[0m \u001b[0;34m\u001b[0m\u001b[0m\n",
      "\u001b[0;32m/home/sean/anaconda/lib/python2.7/site-packages/numpy/lib/function_base.pyc\u001b[0m in \u001b[0;36maverage\u001b[0;34m(a, axis, weights, returned)\u001b[0m\n\u001b[1;32m   1108\u001b[0m \u001b[0;34m\u001b[0m\u001b[0m\n\u001b[1;32m   1109\u001b[0m     \u001b[0;32mif\u001b[0m \u001b[0mweights\u001b[0m \u001b[0;32mis\u001b[0m \u001b[0mNone\u001b[0m\u001b[0;34m:\u001b[0m\u001b[0;34m\u001b[0m\u001b[0m\n\u001b[0;32m-> 1110\u001b[0;31m         \u001b[0mavg\u001b[0m \u001b[0;34m=\u001b[0m \u001b[0ma\u001b[0m\u001b[0;34m.\u001b[0m\u001b[0mmean\u001b[0m\u001b[0;34m(\u001b[0m\u001b[0maxis\u001b[0m\u001b[0;34m)\u001b[0m\u001b[0;34m\u001b[0m\u001b[0m\n\u001b[0m\u001b[1;32m   1111\u001b[0m         \u001b[0mscl\u001b[0m \u001b[0;34m=\u001b[0m \u001b[0mavg\u001b[0m\u001b[0;34m.\u001b[0m\u001b[0mdtype\u001b[0m\u001b[0;34m.\u001b[0m\u001b[0mtype\u001b[0m\u001b[0;34m(\u001b[0m\u001b[0ma\u001b[0m\u001b[0;34m.\u001b[0m\u001b[0msize\u001b[0m\u001b[0;34m/\u001b[0m\u001b[0mavg\u001b[0m\u001b[0;34m.\u001b[0m\u001b[0msize\u001b[0m\u001b[0;34m)\u001b[0m\u001b[0;34m\u001b[0m\u001b[0m\n\u001b[1;32m   1112\u001b[0m     \u001b[0;32melse\u001b[0m\u001b[0;34m:\u001b[0m\u001b[0;34m\u001b[0m\u001b[0m\n",
      "\u001b[0;32m/home/sean/anaconda/lib/python2.7/site-packages/numpy/core/_methods.pyc\u001b[0m in \u001b[0;36m_mean\u001b[0;34m(a, axis, dtype, out, keepdims)\u001b[0m\n\u001b[1;32m     71\u001b[0m     \u001b[0;32mif\u001b[0m \u001b[0misinstance\u001b[0m\u001b[0;34m(\u001b[0m\u001b[0mret\u001b[0m\u001b[0;34m,\u001b[0m \u001b[0mmu\u001b[0m\u001b[0;34m.\u001b[0m\u001b[0mndarray\u001b[0m\u001b[0;34m)\u001b[0m\u001b[0;34m:\u001b[0m\u001b[0;34m\u001b[0m\u001b[0m\n\u001b[1;32m     72\u001b[0m         ret = um.true_divide(\n\u001b[0;32m---> 73\u001b[0;31m                 ret, rcount, out=ret, casting='unsafe', subok=False)\n\u001b[0m\u001b[1;32m     74\u001b[0m         \u001b[0;32mif\u001b[0m \u001b[0mis_float16_result\u001b[0m \u001b[0;32mand\u001b[0m \u001b[0mout\u001b[0m \u001b[0;32mis\u001b[0m \u001b[0mNone\u001b[0m\u001b[0;34m:\u001b[0m\u001b[0;34m\u001b[0m\u001b[0m\n\u001b[1;32m     75\u001b[0m             \u001b[0mret\u001b[0m \u001b[0;34m=\u001b[0m \u001b[0ma\u001b[0m\u001b[0;34m.\u001b[0m\u001b[0mdtype\u001b[0m\u001b[0;34m.\u001b[0m\u001b[0mtype\u001b[0m\u001b[0;34m(\u001b[0m\u001b[0mret\u001b[0m\u001b[0;34m)\u001b[0m\u001b[0;34m\u001b[0m\u001b[0m\n",
      "\u001b[0;31mTypeError\u001b[0m: (\"unsupported operand type(s) for /: 'str' and 'int'\", u'occurred at index thermal_power_plant_raion')"
     ]
    }
   ],
   "source": [
    "foo = big_df.ix[:, big_df.columns.str.contains('power') ].copy()#/big_df.ix[].copy()\n",
    "#foo =    foo.ix[:,    foo.columns.str.contains('count')].copy()\n",
    "#foo = big_df[ ['raion_popul','green_zone_part','indust_part'] ].copy()\n",
    "#print foo.head()\n",
    "print foo.columns.values\n",
    "\n",
    "\n",
    "foo['Price']      = target_price.copy()\n",
    "\n",
    "\n",
    "\n",
    "print foo.corrwith( target_price ).sort_values()\n",
    "#print foo[build_material+['N_build','Price']].head()\n",
    "#print foo.corr()\n",
    "# railroad_station_avto_min\n",
    "# 'railroad_station_avto_km', 'railroad_station_walk_min', 'railroad_station_walk_km', 'ID_railroad_station_avto', 'ID_railroad_station_walk', 'railroad_1line','railroad_terminal_raion','ID_railroad_terminal'] \n",
    "\n",
    "#dv.corr_plot( foo['','','','','','','','','','',''] )\n",
    "#dv.corr_plot( foo[['office_km', 'office_count_5000', 'office_sqm_5000','Price']] ,focus='Price' )"
   ]
  },
  {
   "cell_type": "code",
   "execution_count": 22,
   "metadata": {
    "collapsed": false
   },
   "outputs": [],
   "source": [
    "(big_df['0_6_male']/big_df['0_6_all']).hist( bins=20 )\n",
    "plt.show()"
   ]
  },
  {
   "cell_type": "code",
   "execution_count": 15,
   "metadata": {
    "collapsed": false
   },
   "outputs": [],
   "source": [
    "'''\n",
    "timestamp: date of transaction\n",
    "full_sq: total area in square meters, including loggias, balconies and other non-residential areas\n",
    "life_sq: living area in square meters, excluding loggias, balconies and other non-residential areas\n",
    "floor: for apartments, floor of the building\n",
    "max_floor: number of floors in the building\n",
    "material: wall material\n",
    "build_year: year built\n",
    "num_room: number of living rooms\n",
    "kitch_sq: kitchen area\n",
    "state: apartment condition\n",
    "product_type: owner-occupier purchase or investment\n",
    "'''\n",
    "home_cols = ['full_sq', 'life_sq', 'kitch_sq', 'num_room',\n",
    "             'floor', 'max_floor', \n",
    "             'material', 'build_year', 'state', \n",
    "             'product_type']"
   ]
  },
  {
   "cell_type": "code",
   "execution_count": 16,
   "metadata": {
    "collapsed": false
   },
   "outputs": [
    {
     "data": {
      "text/plain": [
       "'\\nsub_area: name of the district\\nfull_all: subarea population\\nmale_f, female_f: subarea population by gender\\nyoung_*: population younger than working age\\nwork_*: working-age population\\nekder_*: retirement-age population\\nn_m_{all|male|female}: population between n and m years old\\nbuild_count_*: buildings in the subarea by construction type or year\\nx_count_500: the number of x within 500m of the property\\nx_part_500: the share of x within 500m of the property\\n_sqm_: square meters\\ncafe_count_d_price_p: number of cafes within d meters of the property that have an average bill under p RUB\\ntrc_: shopping malls\\nprom_: industrial zones\\ngreen_: green zones\\nmetro_: subway\\n_avto_: distances by car\\nmkad_: Moscow Circle Auto Road\\nttk_: Third Transport Ring\\nsadovoe_: Garden Ring\\nbulvar_ring_: Boulevard Ring\\nkremlin_: City center\\nzd_vokzaly_: Train station\\noil_chemistry_: Dirty industry\\nts_: Power plant\\n'"
      ]
     },
     "execution_count": 16,
     "metadata": {},
     "output_type": "execute_result"
    }
   ],
   "source": [
    "'''\n",
    "raion=sub_area\n",
    "sub_area: name of the district\n",
    "full_all: subarea population\n",
    "male_f, female_f: subarea population by gender\n",
    "young_*: population younger than working age\n",
    "work_*: working-age population\n",
    "ekder_*: retirement-age population\n",
    "n_m_{all|male|female}: population between n and m years old\n",
    "build_count_*: buildings in the subarea by construction type or year\n",
    "x_count_500: the number of x within 500m of the property\n",
    "x_part_500: the share of x within 500m of the property\n",
    "_sqm_: square meters\n",
    "cafe_count_d_price_p: number of cafes within d meters of the property that have an average bill under p RUB\n",
    "trc_: shopping malls\n",
    "prom_: industrial zones\n",
    "green_: green zones\n",
    "metro_: subway\n",
    "_avto_: distances by car\n",
    "mkad_: Moscow Circle Auto Road\n",
    "ttk_: Third Transport Ring\n",
    "sadovoe_: Garden Ring\n",
    "bulvar_ring_: Boulevard Ring\n",
    "kremlin_: City center\n",
    "zd_vokzaly_: Train station\n",
    "oil_chemistry_: Dirty industry\n",
    "ts_: Power plant\n",
    "'''"
   ]
  },
  {
   "cell_type": "code",
   "execution_count": null,
   "metadata": {
    "collapsed": true
   },
   "outputs": [],
   "source": []
  }
 ],
 "metadata": {
  "kernelspec": {
   "display_name": "Python 2",
   "language": "python",
   "name": "python2"
  },
  "language_info": {
   "codemirror_mode": {
    "name": "ipython",
    "version": 2
   },
   "file_extension": ".py",
   "mimetype": "text/x-python",
   "name": "python",
   "nbconvert_exporter": "python",
   "pygments_lexer": "ipython2",
   "version": "2.7.13"
  }
 },
 "nbformat": 4,
 "nbformat_minor": 2
}
