{
 "cells": [
  {
   "cell_type": "code",
   "execution_count": 1,
   "metadata": {
    "collapsed": true
   },
   "outputs": [],
   "source": [
    "import numpy  as np\n",
    "import pandas as pd\n",
    "\n",
    "import matplotlib.pyplot as plt\n",
    "\n",
    "import remap_values      as rv\n",
    "import df_visualizations as dv"
   ]
  },
  {
   "cell_type": "code",
   "execution_count": 6,
   "metadata": {
    "collapsed": true
   },
   "outputs": [],
   "source": [
    "# price_doc new sale price"
   ]
  },
  {
   "cell_type": "code",
   "execution_count": 2,
   "metadata": {
    "collapsed": true
   },
   "outputs": [],
   "source": [
    "train_df = pd.read_csv( 'inp_data/train.csv' )\n",
    "test_df  = pd.read_csv( 'inp_data/test.csv'  )\n",
    "\n",
    "target_price = np.log10( train_df       ['price_doc'] .copy() )\n",
    "train_df     =           train_df.drop( ['price_doc'] , axis=1 )\n",
    "\n",
    "big_df = train_df.append( test_df ).copy()"
   ]
  },
  {
   "cell_type": "code",
   "execution_count": null,
   "metadata": {
    "collapsed": true
   },
   "outputs": [],
   "source": []
  },
  {
   "cell_type": "code",
   "execution_count": 3,
   "metadata": {
    "collapsed": false
   },
   "outputs": [],
   "source": [
    "big_df['N_build']    = big_df[ ['build_count_wood','build_count_frame','build_count_mix',\n",
    "                                'build_count_slag','build_count_foam','build_count_block',\n",
    "                                'build_count_panel','build_count_monolith','build_count_brick'] ].sum( axis=1 )\n",
    "\n",
    "big_df['Good_build'] = (big_df['build_count_wood'] + big_df['build_count_frame'] + big_df['build_count_mix'] + \n",
    "                        big_df['build_count_slag'] + big_df['build_count_foam']) / big_df['N_build']\n",
    "\n",
    "big_df['Bad_build' ] = (big_df['build_count_block']+ big_df['build_count_panel'] + big_df['build_count_monolith'] + \n",
    "                        big_df['build_count_brick'] ) / big_df['N_build']\n",
    "\n",
    "big_df['Good_build'] = big_df['Good_build'].fillna( big_df['Good_build'].median() )\n",
    "big_df['Bad_build' ] = big_df['Bad_build' ].fillna( big_df['Bad_build' ].median() )\n",
    "\n",
    "\n",
    "# Do the above replace for these, make list of those prob\n",
    "power_plants = ['thermal_power_plant_raion','nuclear_reactor_raion']\n",
    "ruin_list    = ['incineration_raion','oil_chemistry_raion','radiation_raion']\n",
    "misc_list    = ['culture_objects_top_25','big_market_raion','detention_facility_raion','big_road1_1line']\n",
    "\n",
    "big_list = power_plants+ruin_list+misc_list\n",
    "\n",
    "for item in big_list:\n",
    "    big_df[item] = big_df[item].replace( {'no':0,'yes':1} ).fillna(0)\n",
    "    \n",
    "big_df['product_type'] = big_df['product_type'].replace( {'Investment':0, 'OwnerOccupier':1} ).fillna(0)\n",
    "big_df['state'       ] = big_df['state'       ].replace( {33.:3.}).fillna(0.)\n",
    "big_df['material'    ] = big_df['material'    ].replace( {3:0})\n",
    "big_df['material'    ] = big_df['material'    ].replace( {6:3}).fillna(0)\n",
    "\n",
    "\n",
    "big_df['floor'    ] = big_df['floor'    ].fillna( 0 )\n",
    "big_df['state'    ] = big_df['state'    ].fillna( 0 )\n",
    "big_df['max_floor'] = big_df['max_floor'].fillna( 0 )\n",
    "\n",
    "\n",
    "adj = 'prom_part_5000'\n",
    "big_df[adj] = big_df[adj].fillna( big_df[adj].median() )\n",
    "\n",
    "adj = 'life_sq'\n",
    "big_df[adj] = big_df[adj].fillna( big_df[adj].median() )\n",
    "\n",
    "adj = 'num_room'\n",
    "big_df[adj] = big_df[adj].fillna( big_df[adj].median() )\n",
    "\n",
    "adj = 'kitch_sq'\n",
    "big_df[adj] = big_df[adj].fillna( big_df[adj].median() )\n",
    "\n",
    "big_df[]2.00520090e+07\n",
    "\n",
    "\n",
    "#'timestamp','sub_area','ecology'"
   ]
  },
  {
   "cell_type": "code",
   "execution_count": 4,
   "metadata": {
    "collapsed": false
   },
   "outputs": [],
   "source": [
    "# This stuff had near 0 correlation to final price\n",
    "drop_list_age      = ['0_6_all','0_6_male','0_6_female','7_14_all','7_14_male','7_14_female','0_17_all','0_17_male','0_17_female','16_29_all','16_29_male','16_29_female','0_13_all','0_13_male','0_13_female']\n",
    "drop_list_aGroup   = ['young_all', 'young_male', 'young_female', 'work_all', 'work_male', 'work_female', 'ekder_all', 'ekder_male', 'ekder_female']\n",
    "drop_list_pop      = ['full_all','male_f','female_f']\n",
    "drop_list_neigh    = ['raion_popul']\n",
    "drop_list_green    = ['green_part_3000','green_part_2000','green_part_1500','green_part_1000','green_part_500']\n",
    "drop_list_school   = ['preschool_km','school_education_centers_top_20_raion','school_quota','preschool_quota','school_quota','children_preschool','preschool_education_centers_raion']\n",
    "drop_list_build    = ['build_count_wood','build_count_frame','build_count_mix','build_count_slag','build_count_foam','build_count_block','build_count_panel','build_count_monolith','build_count_brick','build_count_before_1920','build_count_1921-1945','build_count_1946-1970','build_count_1971-1995','build_count_after_1995']\n",
    "drop_list_auto     = ['metro_km_avto','metro_min_walk','metro_km_walk','ID_metro']\n",
    "drop_list_railroad = ['railroad_station_avto_km', 'railroad_station_walk_min', 'railroad_station_walk_km', 'ID_railroad_station_avto', 'ID_railroad_station_walk', 'railroad_1line','railroad_terminal_raion','ID_railroad_terminal'] \n",
    "drop_list_metro    = ['ID_metro', 'metro_km_avto', 'metro_min_walk', 'metro_km_walk']\n",
    "drop_list_sport    = ['sport_objects_raion', 'public_transport_station_min_walk', 'sport_count_500', 'sport_count_1000', 'sport_count_1500', 'sport_count_2000', 'sport_count_3000']\n",
    "drop_list_office   = ['office_raion',  'office_count_500', 'office_count_5000', 'office_sqm_500', 'office_count_1000', 'office_sqm_1000', 'office_count_1500', 'office_sqm_1500', 'office_count_2000', 'office_sqm_2000', 'office_count_3000', 'office_sqm_3000' ]\n",
    "\n",
    "\n",
    "drop_list_misc   = ['hospital_beds_raion','university_top_20_raion','public_transport_station_min_walk','additional_education_raion',\n",
    "                    'culture_objects_top_25_raion','shopping_centers_raion','water_1line','ID_bus_terminal']\n",
    "# Undropped\n",
    "drop_list_power  = ['thermal_power_plant_raion']\n",
    "drop_list_ruin   = ['incineration_raion','oil_chemistry_raion','radiation_raion']\n",
    "drop_list_market = ['market_count_500','market_count_1000','market_count_1500','market_count_2000','market_count_3000']\n",
    "drop_list_info   = ['raion_build_count_with_material_info','raion_build_count_with_builddate_info']\n",
    "drop_list_road   = ['ID_big_road1', 'ID_big_road2']\n",
    "drop_list_indus  = ['prom_part_500', 'prom_part_1000', 'prom_part_1500', 'prom_part_2000', 'prom_part_3000']\n",
    "drop_list_mall   = ['trc_count_500', 'trc_sqm_500', 'trc_count_1000', 'trc_sqm_1000', 'trc_count_1500', 'trc_sqm_1500', 'trc_count_2000', 'trc_sqm_2000', 'trc_count_3000', 'trc_sqm_3000']\n",
    "\n",
    "drop_list_church     = ['church_count_500', 'church_count_1000', 'church_count_1500', 'church_count_2000', 'church_count_3000']\n",
    "drop_list_mosque     = ['mosque_count_500', 'mosque_count_1000', 'mosque_count_1500', 'mosque_count_2000', 'mosque_count_3000']\n",
    "drop_list_leisure    = ['leisure_count_500', 'leisure_count_1000', 'leisure_count_1500', 'leisure_count_2000', 'leisure_count_3000']\n",
    "drop_list_big_church = ['big_church_count_500', 'big_church_count_1000', 'big_church_count_1500', 'big_church_count_2000', 'big_church_count_3000']\n",
    "\n",
    "\n",
    "super_list = drop_list_age    + drop_list_aGroup  + drop_list_pop        + drop_list_neigh    + drop_list_green  + \\\n",
    "             drop_list_school + drop_list_build   + drop_list_auto       + drop_list_railroad + drop_list_metro  + \\\n",
    "             drop_list_sport  + drop_list_office  + drop_list_power      + drop_list_ruin     + drop_list_market + \\\n",
    "             drop_list_info   + drop_list_road    + drop_list_indus      + drop_list_mall     + drop_list_church + \\\n",
    "             drop_list_mosque + drop_list_leisure + drop_list_big_church + \\\n",
    "             drop_list_misc\n",
    "\n",
    "big_df = big_df.drop( super_list, axis=1 )\n",
    "\n",
    "# First to do:\n",
    "foo = big_df['cafe_count_5000'           ].copy()\n",
    "bar = big_df['cafe_count_5000_price_high'].copy()\n",
    "# Drop everyhing else\n",
    "big_df = big_df.drop( big_df.columns[ big_df.columns.str.contains('cafe') ], axis=1 )\n",
    "big_df['cafe_count_5000']            = foo.copy()\n",
    "big_df['cafe_count_5000_price_high'] = bar.copy()"
   ]
  },
  {
   "cell_type": "code",
   "execution_count": 6,
   "metadata": {
    "collapsed": true
   },
   "outputs": [
    {
     "name": "stdout",
     "output_type": "stream",
     "text": [
      "(38133, 91)\n",
      "id\n",
      "timestamp\n",
      "full_sq\n",
      "life_sq\n",
      "floor\n",
      "max_floor\n",
      "material\n",
      "build_year\n",
      "num_room\n",
      "kitch_sq\n",
      "state\n",
      "product_type\n",
      "sub_area\n",
      "area_m\n",
      "green_zone_part\n",
      "indust_part\n",
      "children_school\n",
      "school_education_centers_raion\n",
      "healthcare_centers_raion\n",
      "culture_objects_top_25\n",
      "big_market_raion\n",
      "nuclear_reactor_raion\n",
      "detention_facility_raion\n",
      "metro_min_avto\n",
      "kindergarten_km\n",
      "school_km\n",
      "park_km\n",
      "green_zone_km\n",
      "industrial_km\n",
      "water_treatment_km\n",
      "cemetery_km\n",
      "incineration_km\n",
      "railroad_station_avto_min\n",
      "public_transport_station_km\n",
      "water_km\n",
      "mkad_km\n",
      "ttk_km\n",
      "sadovoe_km\n",
      "bulvar_ring_km\n",
      "kremlin_km\n",
      "big_road1_km\n",
      "big_road1_1line\n",
      "big_road2_km\n",
      "railroad_km\n",
      "zd_vokzaly_avto_km\n",
      "bus_terminal_avto_km\n",
      "oil_chemistry_km\n",
      "nuclear_reactor_km\n",
      "radiation_km\n",
      "power_transmission_line_km\n",
      "thermal_power_plant_km\n",
      "ts_km\n",
      "big_market_km\n",
      "market_shop_km\n",
      "fitness_km\n",
      "swim_pool_km\n",
      "ice_rink_km\n",
      "stadium_km\n",
      "basketball_km\n",
      "hospice_morgue_km\n",
      "detention_facility_km\n",
      "public_healthcare_km\n",
      "university_km\n",
      "workplaces_km\n",
      "shopping_centers_km\n",
      "office_km\n",
      "additional_education_km\n",
      "big_church_km\n",
      "church_synagogue_km\n",
      "mosque_km\n",
      "theater_km\n",
      "museum_km\n",
      "exhibition_km\n",
      "catering_km\n",
      "ecology\n",
      "green_part_5000\n",
      "prom_part_5000\n",
      "office_sqm_5000\n",
      "trc_count_5000\n",
      "trc_sqm_5000\n",
      "big_church_count_5000\n",
      "church_count_5000\n",
      "mosque_count_5000\n",
      "leisure_count_5000\n",
      "sport_count_5000\n",
      "market_count_5000\n",
      "N_build\n",
      "Good_build\n",
      "Bad_build\n",
      "cafe_count_5000\n",
      "cafe_count_5000_price_high\n"
     ]
    }
   ],
   "source": [
    "print big_df.shape\n",
    "for col in big_df.columns.values:\n",
    "    print col"
   ]
  },
  {
   "cell_type": "code",
   "execution_count": 12,
   "metadata": {
    "collapsed": false
   },
   "outputs": [
    {
     "name": "stdout",
     "output_type": "stream",
     "text": [
      "['Investment' 'OwnerOccupier' nan]\n"
     ]
    },
    {
     "data": {
      "text/plain": [
       "33"
      ]
     },
     "execution_count": 12,
     "metadata": {},
     "output_type": "execute_result"
    }
   ],
   "source": [
    "print big_df['product_type'].unique()\n",
    "\n",
    "big_df['product_type'].isnull().sum()\n",
    "#dv.hist_plot( big_df, 'product_type' )\n",
    "#dv.avg_plot( big_df, 'product_type' )"
   ]
  },
  {
   "cell_type": "code",
   "execution_count": 39,
   "metadata": {
    "collapsed": true
   },
   "outputs": [],
   "source": [
    "dv.hist_plot( foo, 'state' )"
   ]
  },
  {
   "cell_type": "code",
   "execution_count": 19,
   "metadata": {
    "collapsed": false
   },
   "outputs": [
    {
     "name": "stdout",
     "output_type": "stream",
     "text": [
      "[ nan   3.   1.   2.   4.  33.]\n"
     ]
    }
   ],
   "source": [
    "print foo['state'].unique()"
   ]
  },
  {
   "cell_type": "code",
   "execution_count": 5,
   "metadata": {
    "collapsed": false
   },
   "outputs": [],
   "source": [
    "null_cols = big_df.ix[:,big_df.isnull().sum() > 0 ]"
   ]
  },
  {
   "cell_type": "code",
   "execution_count": 26,
   "metadata": {
    "collapsed": false
   },
   "outputs": [
    {
     "name": "stdout",
     "output_type": "stream",
     "text": [
      "(38133, 1)\n",
      "build_year    14654\n",
      "dtype: int64\n",
      "build_year    14654\n",
      "dtype: int64\n"
     ]
    }
   ],
   "source": [
    "print null_cols.shape\n",
    "print null_cols.isnull().sum()\n",
    "\n",
    "new_cols     = null_cols.copy()\n",
    "new_cols['build_year'] = new_cols['build_year'].replace( {2.00520090e+07:2005} )\n",
    "\n",
    "new_cols[ new_cols['build_year'] < 1000 ] = new_cols['build_year'].mean()\n",
    "new_cols[ new_cols['build_year'] > 2020 ] = new_cols['build_year'].mean()\n",
    "\n",
    "\n",
    "\n",
    "print new_cols.isnull().sum()"
   ]
  },
  {
   "cell_type": "code",
   "execution_count": 27,
   "metadata": {
    "collapsed": false
   },
   "outputs": [
    {
     "data": {
      "text/plain": [
       "array([ 1907.        ,  1980.        ,  2014.        ,  1970.        ,\n",
       "        1982.        ,  2013.        ,  2004.        ,  2003.        ,\n",
       "        1957.        ,  1986.        ,  1960.        ,  1995.        ,\n",
       "        1979.        ,  1975.        ,  1987.        ,  1962.        ,\n",
       "        1969.        ,  1993.        ,  1996.        ,  1972.        ,\n",
       "        2011.        ,  1965.        ,  2010.        ,  1985.        ,\n",
       "        2006.        ,  1961.        ,  1971.        ,  1978.        ,\n",
       "        1966.        ,  1967.        ,  2000.        ,  1964.        ,\n",
       "        1977.        ,  1983.        ,  1968.        ,  1974.        ,\n",
       "        2008.        ,  1959.        ,  2007.        ,  1984.        ,\n",
       "        1976.        ,  1997.        ,  1989.        ,  1958.        ,\n",
       "        1988.        ,  2012.        ,  1990.        ,  1946.        ,\n",
       "        1917.        ,  2002.        ,  2005.        ,  2001.        ,\n",
       "        1963.        ,  1954.        ,  1951.        ,  1981.        ,\n",
       "        1955.        ,  1999.        ,  2009.        ,  1973.        ,\n",
       "        1994.        ,  1998.        ,  1992.        ,  1950.        ,\n",
       "        1956.        ,  2015.        ,  1862.82976277,  1932.        ,\n",
       "        1937.        ,  1938.        ,  1939.        ,  1991.        ,\n",
       "        1934.        ,  1935.        ,  1947.        ,  1953.        ,\n",
       "        1933.        ,  2016.        ,  1930.        ,  1912.        ,\n",
       "        1929.        ,  1928.        ,  1915.        ,  1936.        ,\n",
       "        1925.        ,  1940.        ,  1943.        ,  1927.        ,\n",
       "        1896.        ,  1911.        ,  1924.        ,  1952.        ,\n",
       "        2017.        ,  1926.        ,  1931.        ,  1860.        ,\n",
       "        1949.        ,  1914.        ,  1978.69970115,  1910.        ,\n",
       "        1895.        ,  1948.        ,  1876.        ,  1900.        ,\n",
       "        1890.        ,  1920.        ,  1904.        ,  1906.        ,\n",
       "        1941.        ,  1691.        ,  1905.        ,  1886.        ,\n",
       "        2018.        ,  1945.        ,  2019.        ,  1902.        ,\n",
       "        1875.        ,  1908.        ,  1942.        ,  1898.        ])"
      ]
     },
     "execution_count": 27,
     "metadata": {},
     "output_type": "execute_result"
    }
   ],
   "source": [
    "new_cols[  new_cols['build_year']<3000 ]['build_year'].unique()"
   ]
  },
  {
   "cell_type": "code",
   "execution_count": 33,
   "metadata": {
    "collapsed": false
   },
   "outputs": [],
   "source": [
    "new_cols['build_year'].hist( bins=50 )\n",
    "plt.show()\n",
    "#dv.hist_plot( null_cols, 'build_year' )\n",
    "#dv.plot_avg( null_cols, 'material', 'life_sq')"
   ]
  },
  {
   "cell_type": "code",
   "execution_count": null,
   "metadata": {
    "collapsed": true
   },
   "outputs": [],
   "source": []
  },
  {
   "cell_type": "code",
   "execution_count": null,
   "metadata": {
    "collapsed": true
   },
   "outputs": [],
   "source": []
  },
  {
   "cell_type": "code",
   "execution_count": 18,
   "metadata": {
    "collapsed": false
   },
   "outputs": [
    {
     "name": "stdout",
     "output_type": "stream",
     "text": [
      "product_type                      1.000000\n",
      "workplaces_km                     0.468294\n",
      "detention_facility_km             0.463551\n",
      "university_km                     0.455659\n",
      "zd_vokzaly_avto_km                0.447242\n",
      "market_shop_km                    0.430649\n",
      "museum_km                         0.425267\n",
      "area_m                            0.421861\n",
      "basketball_km                     0.420804\n",
      "office_km                         0.418978\n",
      "nuclear_reactor_km                0.418613\n",
      "ttk_km                            0.415553\n",
      "fitness_km                        0.406343\n",
      "sadovoe_km                        0.401508\n",
      "bulvar_ring_km                    0.393121\n",
      "stadium_km                        0.389909\n",
      "catering_km                       0.382903\n",
      "kremlin_km                        0.380495\n",
      "swim_pool_km                      0.379068\n",
      "theater_km                        0.373133\n",
      "oil_chemistry_km                  0.371542\n",
      "thermal_power_plant_km            0.371112\n",
      "public_healthcare_km              0.359304\n",
      "hospice_morgue_km                 0.350624\n",
      "radiation_km                      0.347223\n",
      "kindergarten_km                   0.336499\n",
      "big_church_km                     0.335538\n",
      "shopping_centers_km               0.335368\n",
      "ice_rink_km                       0.328851\n",
      "railroad_station_avto_min         0.308842\n",
      "                                    ...   \n",
      "id                                0.021500\n",
      "cafe_count_5000_price_high        0.007213\n",
      "build_year                       -0.004997\n",
      "industrial_km                    -0.012496\n",
      "big_road1_1line                  -0.018322\n",
      "material                         -0.025990\n",
      "leisure_count_5000               -0.035478\n",
      "water_km                         -0.058500\n",
      "big_church_count_5000            -0.062718\n",
      "cafe_count_5000                  -0.067513\n",
      "church_count_5000                -0.069399\n",
      "detention_facility_raion         -0.072205\n",
      "water_treatment_km               -0.080358\n",
      "kitch_sq                         -0.087732\n",
      "mosque_count_5000                -0.102469\n",
      "num_room                         -0.105964\n",
      "indust_part                      -0.117222\n",
      "nuclear_reactor_raion            -0.118341\n",
      "office_sqm_5000                  -0.122127\n",
      "Bad_build                        -0.301762\n",
      "prom_part_5000                   -0.332865\n",
      "sport_count_5000                 -0.333136\n",
      "healthcare_centers_raion         -0.346185\n",
      "N_build                          -0.350715\n",
      "trc_count_5000                   -0.372076\n",
      "trc_sqm_5000                     -0.372503\n",
      "market_count_5000                -0.433611\n",
      "children_school                  -0.456217\n",
      "school_education_centers_raion   -0.465926\n",
      "state                            -0.711742\n",
      "dtype: float64\n"
     ]
    }
   ],
   "source": [
    "foo = big_df.drop(['timestamp','sub_area','ecology'],axis=1).copy()\n",
    "foo['product_type'] = big_df['product_type'].replace( {'Investment':0, 'OwnerOccupier':1} ).fillna(-1)\n",
    "\n",
    "print foo.corrwith( foo['product_type'] ).sort_values(ascending=False)"
   ]
  },
  {
   "cell_type": "code",
   "execution_count": 8,
   "metadata": {
    "collapsed": false
   },
   "outputs": [
    {
     "ename": "TypeError",
     "evalue": "(\"unsupported operand type(s) for /: 'str' and 'int'\", u'occurred at index product_type')",
     "output_type": "error",
     "traceback": [
      "\u001b[0;31m---------------------------------------------------------------------------\u001b[0m",
      "\u001b[0;31mTypeError\u001b[0m                                 Traceback (most recent call last)",
      "\u001b[0;32m<ipython-input-8-08b1af14481a>\u001b[0m in \u001b[0;36m<module>\u001b[0;34m()\u001b[0m\n\u001b[0;32m----> 1\u001b[0;31m \u001b[0;32mprint\u001b[0m \u001b[0mbig_df\u001b[0m\u001b[0;34m.\u001b[0m\u001b[0mdrop\u001b[0m\u001b[0;34m(\u001b[0m\u001b[0;34m'timestamp'\u001b[0m\u001b[0;34m,\u001b[0m\u001b[0maxis\u001b[0m\u001b[0;34m=\u001b[0m\u001b[0;36m1\u001b[0m\u001b[0;34m)\u001b[0m\u001b[0;34m.\u001b[0m\u001b[0mcorrwith\u001b[0m\u001b[0;34m(\u001b[0m \u001b[0mtarget_price\u001b[0m \u001b[0;34m)\u001b[0m\u001b[0;34m\u001b[0m\u001b[0m\n\u001b[0m",
      "\u001b[0;32m/home/sean/anaconda/lib/python2.7/site-packages/pandas/core/frame.pyc\u001b[0m in \u001b[0;36mcorrwith\u001b[0;34m(self, other, axis, drop)\u001b[0m\n\u001b[1;32m   4810\u001b[0m         \u001b[0maxis\u001b[0m \u001b[0;34m=\u001b[0m \u001b[0mself\u001b[0m\u001b[0;34m.\u001b[0m\u001b[0m_get_axis_number\u001b[0m\u001b[0;34m(\u001b[0m\u001b[0maxis\u001b[0m\u001b[0;34m)\u001b[0m\u001b[0;34m\u001b[0m\u001b[0m\n\u001b[1;32m   4811\u001b[0m         \u001b[0;32mif\u001b[0m \u001b[0misinstance\u001b[0m\u001b[0;34m(\u001b[0m\u001b[0mother\u001b[0m\u001b[0;34m,\u001b[0m \u001b[0mSeries\u001b[0m\u001b[0;34m)\u001b[0m\u001b[0;34m:\u001b[0m\u001b[0;34m\u001b[0m\u001b[0m\n\u001b[0;32m-> 4812\u001b[0;31m             \u001b[0;32mreturn\u001b[0m \u001b[0mself\u001b[0m\u001b[0;34m.\u001b[0m\u001b[0mapply\u001b[0m\u001b[0;34m(\u001b[0m\u001b[0mother\u001b[0m\u001b[0;34m.\u001b[0m\u001b[0mcorr\u001b[0m\u001b[0;34m,\u001b[0m \u001b[0maxis\u001b[0m\u001b[0;34m=\u001b[0m\u001b[0maxis\u001b[0m\u001b[0;34m)\u001b[0m\u001b[0;34m\u001b[0m\u001b[0m\n\u001b[0m\u001b[1;32m   4813\u001b[0m \u001b[0;34m\u001b[0m\u001b[0m\n\u001b[1;32m   4814\u001b[0m         \u001b[0mthis\u001b[0m \u001b[0;34m=\u001b[0m \u001b[0mself\u001b[0m\u001b[0;34m.\u001b[0m\u001b[0m_get_numeric_data\u001b[0m\u001b[0;34m(\u001b[0m\u001b[0;34m)\u001b[0m\u001b[0;34m\u001b[0m\u001b[0m\n",
      "\u001b[0;32m/home/sean/anaconda/lib/python2.7/site-packages/pandas/core/frame.pyc\u001b[0m in \u001b[0;36mapply\u001b[0;34m(self, func, axis, broadcast, raw, reduce, args, **kwds)\u001b[0m\n\u001b[1;32m   4150\u001b[0m                     \u001b[0;32mif\u001b[0m \u001b[0mreduce\u001b[0m \u001b[0;32mis\u001b[0m \u001b[0mNone\u001b[0m\u001b[0;34m:\u001b[0m\u001b[0;34m\u001b[0m\u001b[0m\n\u001b[1;32m   4151\u001b[0m                         \u001b[0mreduce\u001b[0m \u001b[0;34m=\u001b[0m \u001b[0mTrue\u001b[0m\u001b[0;34m\u001b[0m\u001b[0m\n\u001b[0;32m-> 4152\u001b[0;31m                     \u001b[0;32mreturn\u001b[0m \u001b[0mself\u001b[0m\u001b[0;34m.\u001b[0m\u001b[0m_apply_standard\u001b[0m\u001b[0;34m(\u001b[0m\u001b[0mf\u001b[0m\u001b[0;34m,\u001b[0m \u001b[0maxis\u001b[0m\u001b[0;34m,\u001b[0m \u001b[0mreduce\u001b[0m\u001b[0;34m=\u001b[0m\u001b[0mreduce\u001b[0m\u001b[0;34m)\u001b[0m\u001b[0;34m\u001b[0m\u001b[0m\n\u001b[0m\u001b[1;32m   4153\u001b[0m             \u001b[0;32melse\u001b[0m\u001b[0;34m:\u001b[0m\u001b[0;34m\u001b[0m\u001b[0m\n\u001b[1;32m   4154\u001b[0m                 \u001b[0;32mreturn\u001b[0m \u001b[0mself\u001b[0m\u001b[0;34m.\u001b[0m\u001b[0m_apply_broadcast\u001b[0m\u001b[0;34m(\u001b[0m\u001b[0mf\u001b[0m\u001b[0;34m,\u001b[0m \u001b[0maxis\u001b[0m\u001b[0;34m)\u001b[0m\u001b[0;34m\u001b[0m\u001b[0m\n",
      "\u001b[0;32m/home/sean/anaconda/lib/python2.7/site-packages/pandas/core/frame.pyc\u001b[0m in \u001b[0;36m_apply_standard\u001b[0;34m(self, func, axis, ignore_failures, reduce)\u001b[0m\n\u001b[1;32m   4246\u001b[0m             \u001b[0;32mtry\u001b[0m\u001b[0;34m:\u001b[0m\u001b[0;34m\u001b[0m\u001b[0m\n\u001b[1;32m   4247\u001b[0m                 \u001b[0;32mfor\u001b[0m \u001b[0mi\u001b[0m\u001b[0;34m,\u001b[0m \u001b[0mv\u001b[0m \u001b[0;32min\u001b[0m \u001b[0menumerate\u001b[0m\u001b[0;34m(\u001b[0m\u001b[0mseries_gen\u001b[0m\u001b[0;34m)\u001b[0m\u001b[0;34m:\u001b[0m\u001b[0;34m\u001b[0m\u001b[0m\n\u001b[0;32m-> 4248\u001b[0;31m                     \u001b[0mresults\u001b[0m\u001b[0;34m[\u001b[0m\u001b[0mi\u001b[0m\u001b[0;34m]\u001b[0m \u001b[0;34m=\u001b[0m \u001b[0mfunc\u001b[0m\u001b[0;34m(\u001b[0m\u001b[0mv\u001b[0m\u001b[0;34m)\u001b[0m\u001b[0;34m\u001b[0m\u001b[0m\n\u001b[0m\u001b[1;32m   4249\u001b[0m                     \u001b[0mkeys\u001b[0m\u001b[0;34m.\u001b[0m\u001b[0mappend\u001b[0m\u001b[0;34m(\u001b[0m\u001b[0mv\u001b[0m\u001b[0;34m.\u001b[0m\u001b[0mname\u001b[0m\u001b[0;34m)\u001b[0m\u001b[0;34m\u001b[0m\u001b[0m\n\u001b[1;32m   4250\u001b[0m             \u001b[0;32mexcept\u001b[0m \u001b[0mException\u001b[0m \u001b[0;32mas\u001b[0m \u001b[0me\u001b[0m\u001b[0;34m:\u001b[0m\u001b[0;34m\u001b[0m\u001b[0m\n",
      "\u001b[0;32m/home/sean/anaconda/lib/python2.7/site-packages/pandas/core/series.pyc\u001b[0m in \u001b[0;36mcorr\u001b[0;34m(self, other, method, min_periods)\u001b[0m\n\u001b[1;32m   1420\u001b[0m             \u001b[0;32mreturn\u001b[0m \u001b[0mnp\u001b[0m\u001b[0;34m.\u001b[0m\u001b[0mnan\u001b[0m\u001b[0;34m\u001b[0m\u001b[0m\n\u001b[1;32m   1421\u001b[0m         return nanops.nancorr(this.values, other.values, method=method,\n\u001b[0;32m-> 1422\u001b[0;31m                               min_periods=min_periods)\n\u001b[0m\u001b[1;32m   1423\u001b[0m \u001b[0;34m\u001b[0m\u001b[0m\n\u001b[1;32m   1424\u001b[0m     \u001b[0;32mdef\u001b[0m \u001b[0mcov\u001b[0m\u001b[0;34m(\u001b[0m\u001b[0mself\u001b[0m\u001b[0;34m,\u001b[0m \u001b[0mother\u001b[0m\u001b[0;34m,\u001b[0m \u001b[0mmin_periods\u001b[0m\u001b[0;34m=\u001b[0m\u001b[0mNone\u001b[0m\u001b[0;34m)\u001b[0m\u001b[0;34m:\u001b[0m\u001b[0;34m\u001b[0m\u001b[0m\n",
      "\u001b[0;32m/home/sean/anaconda/lib/python2.7/site-packages/pandas/core/nanops.pyc\u001b[0m in \u001b[0;36m_f\u001b[0;34m(*args, **kwargs)\u001b[0m\n\u001b[1;32m     48\u001b[0m             \u001b[0;32mtry\u001b[0m\u001b[0;34m:\u001b[0m\u001b[0;34m\u001b[0m\u001b[0m\n\u001b[1;32m     49\u001b[0m                 \u001b[0;32mwith\u001b[0m \u001b[0mnp\u001b[0m\u001b[0;34m.\u001b[0m\u001b[0merrstate\u001b[0m\u001b[0;34m(\u001b[0m\u001b[0minvalid\u001b[0m\u001b[0;34m=\u001b[0m\u001b[0;34m'ignore'\u001b[0m\u001b[0;34m)\u001b[0m\u001b[0;34m:\u001b[0m\u001b[0;34m\u001b[0m\u001b[0m\n\u001b[0;32m---> 50\u001b[0;31m                     \u001b[0;32mreturn\u001b[0m \u001b[0mf\u001b[0m\u001b[0;34m(\u001b[0m\u001b[0;34m*\u001b[0m\u001b[0margs\u001b[0m\u001b[0;34m,\u001b[0m \u001b[0;34m**\u001b[0m\u001b[0mkwargs\u001b[0m\u001b[0;34m)\u001b[0m\u001b[0;34m\u001b[0m\u001b[0m\n\u001b[0m\u001b[1;32m     51\u001b[0m             \u001b[0;32mexcept\u001b[0m \u001b[0mValueError\u001b[0m \u001b[0;32mas\u001b[0m \u001b[0me\u001b[0m\u001b[0;34m:\u001b[0m\u001b[0;34m\u001b[0m\u001b[0m\n\u001b[1;32m     52\u001b[0m                 \u001b[0;31m# we want to transform an object array\u001b[0m\u001b[0;34m\u001b[0m\u001b[0;34m\u001b[0m\u001b[0m\n",
      "\u001b[0;32m/home/sean/anaconda/lib/python2.7/site-packages/pandas/core/nanops.pyc\u001b[0m in \u001b[0;36mnancorr\u001b[0;34m(a, b, method, min_periods)\u001b[0m\n\u001b[1;32m    690\u001b[0m \u001b[0;34m\u001b[0m\u001b[0m\n\u001b[1;32m    691\u001b[0m     \u001b[0mf\u001b[0m \u001b[0;34m=\u001b[0m \u001b[0mget_corr_func\u001b[0m\u001b[0;34m(\u001b[0m\u001b[0mmethod\u001b[0m\u001b[0;34m)\u001b[0m\u001b[0;34m\u001b[0m\u001b[0m\n\u001b[0;32m--> 692\u001b[0;31m     \u001b[0;32mreturn\u001b[0m \u001b[0mf\u001b[0m\u001b[0;34m(\u001b[0m\u001b[0ma\u001b[0m\u001b[0;34m,\u001b[0m \u001b[0mb\u001b[0m\u001b[0;34m)\u001b[0m\u001b[0;34m\u001b[0m\u001b[0m\n\u001b[0m\u001b[1;32m    693\u001b[0m \u001b[0;34m\u001b[0m\u001b[0m\n\u001b[1;32m    694\u001b[0m \u001b[0;34m\u001b[0m\u001b[0m\n",
      "\u001b[0;32m/home/sean/anaconda/lib/python2.7/site-packages/pandas/core/nanops.pyc\u001b[0m in \u001b[0;36m_pearson\u001b[0;34m(a, b)\u001b[0m\n\u001b[1;32m    698\u001b[0m \u001b[0;34m\u001b[0m\u001b[0m\n\u001b[1;32m    699\u001b[0m     \u001b[0;32mdef\u001b[0m \u001b[0m_pearson\u001b[0m\u001b[0;34m(\u001b[0m\u001b[0ma\u001b[0m\u001b[0;34m,\u001b[0m \u001b[0mb\u001b[0m\u001b[0;34m)\u001b[0m\u001b[0;34m:\u001b[0m\u001b[0;34m\u001b[0m\u001b[0m\n\u001b[0;32m--> 700\u001b[0;31m         \u001b[0;32mreturn\u001b[0m \u001b[0mnp\u001b[0m\u001b[0;34m.\u001b[0m\u001b[0mcorrcoef\u001b[0m\u001b[0;34m(\u001b[0m\u001b[0ma\u001b[0m\u001b[0;34m,\u001b[0m \u001b[0mb\u001b[0m\u001b[0;34m)\u001b[0m\u001b[0;34m[\u001b[0m\u001b[0;36m0\u001b[0m\u001b[0;34m,\u001b[0m \u001b[0;36m1\u001b[0m\u001b[0;34m]\u001b[0m\u001b[0;34m\u001b[0m\u001b[0m\n\u001b[0m\u001b[1;32m    701\u001b[0m \u001b[0;34m\u001b[0m\u001b[0m\n\u001b[1;32m    702\u001b[0m     \u001b[0;32mdef\u001b[0m \u001b[0m_kendall\u001b[0m\u001b[0;34m(\u001b[0m\u001b[0ma\u001b[0m\u001b[0;34m,\u001b[0m \u001b[0mb\u001b[0m\u001b[0;34m)\u001b[0m\u001b[0;34m:\u001b[0m\u001b[0;34m\u001b[0m\u001b[0m\n",
      "\u001b[0;32m/home/sean/anaconda/lib/python2.7/site-packages/numpy/lib/function_base.pyc\u001b[0m in \u001b[0;36mcorrcoef\u001b[0;34m(x, y, rowvar, bias, ddof)\u001b[0m\n\u001b[1;32m   2993\u001b[0m         warnings.warn('bias and ddof have no effect and are deprecated',\n\u001b[1;32m   2994\u001b[0m                       DeprecationWarning, stacklevel=2)\n\u001b[0;32m-> 2995\u001b[0;31m     \u001b[0mc\u001b[0m \u001b[0;34m=\u001b[0m \u001b[0mcov\u001b[0m\u001b[0;34m(\u001b[0m\u001b[0mx\u001b[0m\u001b[0;34m,\u001b[0m \u001b[0my\u001b[0m\u001b[0;34m,\u001b[0m \u001b[0mrowvar\u001b[0m\u001b[0;34m)\u001b[0m\u001b[0;34m\u001b[0m\u001b[0m\n\u001b[0m\u001b[1;32m   2996\u001b[0m     \u001b[0;32mtry\u001b[0m\u001b[0;34m:\u001b[0m\u001b[0;34m\u001b[0m\u001b[0m\n\u001b[1;32m   2997\u001b[0m         \u001b[0md\u001b[0m \u001b[0;34m=\u001b[0m \u001b[0mdiag\u001b[0m\u001b[0;34m(\u001b[0m\u001b[0mc\u001b[0m\u001b[0;34m)\u001b[0m\u001b[0;34m\u001b[0m\u001b[0m\n",
      "\u001b[0;32m/home/sean/anaconda/lib/python2.7/site-packages/numpy/lib/function_base.pyc\u001b[0m in \u001b[0;36mcov\u001b[0;34m(m, y, rowvar, bias, ddof, fweights, aweights)\u001b[0m\n\u001b[1;32m   2904\u001b[0m             \u001b[0mw\u001b[0m \u001b[0;34m*=\u001b[0m \u001b[0maweights\u001b[0m\u001b[0;34m\u001b[0m\u001b[0m\n\u001b[1;32m   2905\u001b[0m \u001b[0;34m\u001b[0m\u001b[0m\n\u001b[0;32m-> 2906\u001b[0;31m     \u001b[0mavg\u001b[0m\u001b[0;34m,\u001b[0m \u001b[0mw_sum\u001b[0m \u001b[0;34m=\u001b[0m \u001b[0maverage\u001b[0m\u001b[0;34m(\u001b[0m\u001b[0mX\u001b[0m\u001b[0;34m,\u001b[0m \u001b[0maxis\u001b[0m\u001b[0;34m=\u001b[0m\u001b[0;36m1\u001b[0m\u001b[0;34m,\u001b[0m \u001b[0mweights\u001b[0m\u001b[0;34m=\u001b[0m\u001b[0mw\u001b[0m\u001b[0;34m,\u001b[0m \u001b[0mreturned\u001b[0m\u001b[0;34m=\u001b[0m\u001b[0mTrue\u001b[0m\u001b[0;34m)\u001b[0m\u001b[0;34m\u001b[0m\u001b[0m\n\u001b[0m\u001b[1;32m   2907\u001b[0m     \u001b[0mw_sum\u001b[0m \u001b[0;34m=\u001b[0m \u001b[0mw_sum\u001b[0m\u001b[0;34m[\u001b[0m\u001b[0;36m0\u001b[0m\u001b[0;34m]\u001b[0m\u001b[0;34m\u001b[0m\u001b[0m\n\u001b[1;32m   2908\u001b[0m \u001b[0;34m\u001b[0m\u001b[0m\n",
      "\u001b[0;32m/home/sean/anaconda/lib/python2.7/site-packages/numpy/lib/function_base.pyc\u001b[0m in \u001b[0;36maverage\u001b[0;34m(a, axis, weights, returned)\u001b[0m\n\u001b[1;32m   1108\u001b[0m \u001b[0;34m\u001b[0m\u001b[0m\n\u001b[1;32m   1109\u001b[0m     \u001b[0;32mif\u001b[0m \u001b[0mweights\u001b[0m \u001b[0;32mis\u001b[0m \u001b[0mNone\u001b[0m\u001b[0;34m:\u001b[0m\u001b[0;34m\u001b[0m\u001b[0m\n\u001b[0;32m-> 1110\u001b[0;31m         \u001b[0mavg\u001b[0m \u001b[0;34m=\u001b[0m \u001b[0ma\u001b[0m\u001b[0;34m.\u001b[0m\u001b[0mmean\u001b[0m\u001b[0;34m(\u001b[0m\u001b[0maxis\u001b[0m\u001b[0;34m)\u001b[0m\u001b[0;34m\u001b[0m\u001b[0m\n\u001b[0m\u001b[1;32m   1111\u001b[0m         \u001b[0mscl\u001b[0m \u001b[0;34m=\u001b[0m \u001b[0mavg\u001b[0m\u001b[0;34m.\u001b[0m\u001b[0mdtype\u001b[0m\u001b[0;34m.\u001b[0m\u001b[0mtype\u001b[0m\u001b[0;34m(\u001b[0m\u001b[0ma\u001b[0m\u001b[0;34m.\u001b[0m\u001b[0msize\u001b[0m\u001b[0;34m/\u001b[0m\u001b[0mavg\u001b[0m\u001b[0;34m.\u001b[0m\u001b[0msize\u001b[0m\u001b[0;34m)\u001b[0m\u001b[0;34m\u001b[0m\u001b[0m\n\u001b[1;32m   1112\u001b[0m     \u001b[0;32melse\u001b[0m\u001b[0;34m:\u001b[0m\u001b[0;34m\u001b[0m\u001b[0m\n",
      "\u001b[0;32m/home/sean/anaconda/lib/python2.7/site-packages/numpy/core/_methods.pyc\u001b[0m in \u001b[0;36m_mean\u001b[0;34m(a, axis, dtype, out, keepdims)\u001b[0m\n\u001b[1;32m     71\u001b[0m     \u001b[0;32mif\u001b[0m \u001b[0misinstance\u001b[0m\u001b[0;34m(\u001b[0m\u001b[0mret\u001b[0m\u001b[0;34m,\u001b[0m \u001b[0mmu\u001b[0m\u001b[0;34m.\u001b[0m\u001b[0mndarray\u001b[0m\u001b[0;34m)\u001b[0m\u001b[0;34m:\u001b[0m\u001b[0;34m\u001b[0m\u001b[0m\n\u001b[1;32m     72\u001b[0m         ret = um.true_divide(\n\u001b[0;32m---> 73\u001b[0;31m                 ret, rcount, out=ret, casting='unsafe', subok=False)\n\u001b[0m\u001b[1;32m     74\u001b[0m         \u001b[0;32mif\u001b[0m \u001b[0mis_float16_result\u001b[0m \u001b[0;32mand\u001b[0m \u001b[0mout\u001b[0m \u001b[0;32mis\u001b[0m \u001b[0mNone\u001b[0m\u001b[0;34m:\u001b[0m\u001b[0;34m\u001b[0m\u001b[0m\n\u001b[1;32m     75\u001b[0m             \u001b[0mret\u001b[0m \u001b[0;34m=\u001b[0m \u001b[0ma\u001b[0m\u001b[0;34m.\u001b[0m\u001b[0mdtype\u001b[0m\u001b[0;34m.\u001b[0m\u001b[0mtype\u001b[0m\u001b[0;34m(\u001b[0m\u001b[0mret\u001b[0m\u001b[0;34m)\u001b[0m\u001b[0;34m\u001b[0m\u001b[0m\n",
      "\u001b[0;31mTypeError\u001b[0m: (\"unsupported operand type(s) for /: 'str' and 'int'\", u'occurred at index product_type')"
     ]
    }
   ],
   "source": [
    "print big_df.drop('timestamp',axis=1).corrwith( target_price )"
   ]
  },
  {
   "cell_type": "code",
   "execution_count": 57,
   "metadata": {
    "collapsed": false
   },
   "outputs": [
    {
     "data": {
      "text/plain": [
       "array(['good', 'excellent', 'poor', 'satisfactory', 'no data'], dtype=object)"
      ]
     },
     "execution_count": 57,
     "metadata": {},
     "output_type": "execute_result"
    }
   ],
   "source": [
    "big_df['ecology'].unique()"
   ]
  },
  {
   "cell_type": "code",
   "execution_count": 58,
   "metadata": {
    "collapsed": true
   },
   "outputs": [],
   "source": [
    "dv.hist_plot( big_df, 'ecology' )"
   ]
  },
  {
   "cell_type": "code",
   "execution_count": 63,
   "metadata": {
    "collapsed": false
   },
   "outputs": [],
   "source": [
    "foo = big_df[['ecology','theater_km']].copy()\n",
    "foo['Price'] = target_price.copy()\n",
    "dv.plot_avg( foo, 'ecology', 'Price' )"
   ]
  },
  {
   "cell_type": "code",
   "execution_count": 69,
   "metadata": {
    "collapsed": false,
    "scrolled": true
   },
   "outputs": [
    {
     "name": "stdout",
     "output_type": "stream",
     "text": [
      "['raion_build_count_with_material_info'\n",
      " 'raion_build_count_with_builddate_info' 'trc_count_500'\n",
      " 'big_church_count_500' 'church_count_500' 'mosque_count_500'\n",
      " 'leisure_count_500' 'market_count_500' 'trc_count_1000'\n",
      " 'big_church_count_1000' 'church_count_1000' 'mosque_count_1000'\n",
      " 'leisure_count_1000' 'market_count_1000' 'trc_count_1500'\n",
      " 'big_church_count_1500' 'church_count_1500' 'mosque_count_1500'\n",
      " 'leisure_count_1500' 'market_count_1500' 'trc_count_2000'\n",
      " 'big_church_count_2000' 'church_count_2000' 'mosque_count_2000'\n",
      " 'leisure_count_2000' 'market_count_2000' 'trc_count_3000'\n",
      " 'big_church_count_3000' 'church_count_3000' 'mosque_count_3000'\n",
      " 'leisure_count_3000' 'market_count_3000' 'trc_count_5000'\n",
      " 'big_church_count_5000' 'church_count_5000' 'mosque_count_5000'\n",
      " 'leisure_count_5000' 'sport_count_5000' 'market_count_5000'\n",
      " 'cafe_count_5000' 'cafe_count_5000_price_high']\n",
      "church_count_500                         0.008802\n",
      "mosque_count_500                         0.013499\n",
      "big_church_count_500                     0.017039\n",
      "church_count_1000                        0.030595\n",
      "market_count_500                         0.030700\n",
      "raion_build_count_with_material_info     0.030888\n",
      "raion_build_count_with_builddate_info    0.030889\n",
      "big_church_count_1500                    0.035669\n",
      "leisure_count_2000                       0.039104\n",
      "church_count_1500                        0.040689\n",
      "big_church_count_2000                    0.041177\n",
      "leisure_count_1000                       0.044655\n",
      "market_count_1000                        0.045254\n",
      "big_church_count_1000                    0.047232\n",
      "church_count_2000                        0.047455\n",
      "mosque_count_1000                        0.050921\n",
      "trc_count_500                            0.053397\n",
      "leisure_count_3000                       0.055466\n",
      "leisure_count_1500                       0.055962\n",
      "mosque_count_3000                        0.057551\n",
      "mosque_count_2000                        0.058148\n",
      "market_count_1500                        0.059371\n",
      "trc_count_1000                           0.059650\n",
      "mosque_count_1500                        0.065284\n",
      "big_church_count_3000                    0.069192\n",
      "church_count_3000                        0.072088\n",
      "leisure_count_500                        0.076191\n",
      "market_count_2000                        0.078266\n",
      "market_count_3000                        0.104424\n",
      "trc_count_1500                           0.104891\n",
      "leisure_count_5000                       0.105654\n",
      "mosque_count_5000                        0.105873\n",
      "big_church_count_5000                    0.106692\n",
      "church_count_5000                        0.115571\n",
      "cafe_count_5000_price_high               0.116103\n",
      "market_count_5000                        0.123772\n",
      "trc_count_2000                           0.124755\n",
      "cafe_count_5000                          0.126244\n",
      "trc_count_3000                           0.151683\n",
      "sport_count_5000                         0.171558\n",
      "trc_count_5000                           0.175752\n",
      "Price                                    1.000000\n",
      "dtype: float64\n"
     ]
    }
   ],
   "source": [
    "foo = big_df.ix[:, big_df.columns.str.contains('count') ].copy()#/big_df.ix[].copy()\n",
    "#foo =    foo.ix[:,    foo.columns.str.contains('count')].copy()\n",
    "#foo = big_df[ ['raion_popul','green_zone_part','indust_part'] ].copy()\n",
    "#print foo.head()\n",
    "print foo.columns.values\n",
    "\n",
    "\n",
    "foo['Price']      = target_price.copy()\n",
    "\n",
    "\n",
    "#foo['ecology'] = foo['ecology'].replace( {'no data':0,'poor':1,'satisfactory':2,'good':3,'excellent':4} ).fillna(0)\n",
    "\n",
    "\n",
    "print foo.corrwith( target_price ).sort_values()\n",
    "#print foo.corr()\n",
    "\n",
    "\n",
    "#dv.corr_plot( foo, focus='Price' )\n",
    "#dv.corr_plot( foo[['office_km', 'office_count_5000', 'office_sqm_5000','Price']] ,focus='Price' )"
   ]
  },
  {
   "cell_type": "code",
   "execution_count": 22,
   "metadata": {
    "collapsed": false
   },
   "outputs": [],
   "source": [
    "(big_df['0_6_male']/big_df['0_6_all']).hist( bins=20 )\n",
    "plt.show()"
   ]
  },
  {
   "cell_type": "code",
   "execution_count": 15,
   "metadata": {
    "collapsed": false
   },
   "outputs": [],
   "source": [
    "'''\n",
    "timestamp: date of transaction\n",
    "full_sq: total area in square meters, including loggias, balconies and other non-residential areas\n",
    "life_sq: living area in square meters, excluding loggias, balconies and other non-residential areas\n",
    "floor: for apartments, floor of the building\n",
    "max_floor: number of floors in the building\n",
    "material: wall material\n",
    "build_year: year built\n",
    "num_room: number of living rooms\n",
    "kitch_sq: kitchen area\n",
    "state: apartment condition\n",
    "product_type: owner-occupier purchase or investment\n",
    "'''\n",
    "home_cols = ['full_sq', 'life_sq', 'kitch_sq', 'num_room',\n",
    "             'floor', 'max_floor', \n",
    "             'material', 'build_year', 'state', \n",
    "             'product_type']"
   ]
  },
  {
   "cell_type": "code",
   "execution_count": 16,
   "metadata": {
    "collapsed": false
   },
   "outputs": [
    {
     "data": {
      "text/plain": [
       "'\\nsub_area: name of the district\\nfull_all: subarea population\\nmale_f, female_f: subarea population by gender\\nyoung_*: population younger than working age\\nwork_*: working-age population\\nekder_*: retirement-age population\\nn_m_{all|male|female}: population between n and m years old\\nbuild_count_*: buildings in the subarea by construction type or year\\nx_count_500: the number of x within 500m of the property\\nx_part_500: the share of x within 500m of the property\\n_sqm_: square meters\\ncafe_count_d_price_p: number of cafes within d meters of the property that have an average bill under p RUB\\ntrc_: shopping malls\\nprom_: industrial zones\\ngreen_: green zones\\nmetro_: subway\\n_avto_: distances by car\\nmkad_: Moscow Circle Auto Road\\nttk_: Third Transport Ring\\nsadovoe_: Garden Ring\\nbulvar_ring_: Boulevard Ring\\nkremlin_: City center\\nzd_vokzaly_: Train station\\noil_chemistry_: Dirty industry\\nts_: Power plant\\n'"
      ]
     },
     "execution_count": 16,
     "metadata": {},
     "output_type": "execute_result"
    }
   ],
   "source": [
    "'''\n",
    "raion=sub_area\n",
    "sub_area: name of the district\n",
    "full_all: subarea population\n",
    "male_f, female_f: subarea population by gender\n",
    "young_*: population younger than working age\n",
    "work_*: working-age population\n",
    "ekder_*: retirement-age population\n",
    "n_m_{all|male|female}: population between n and m years old\n",
    "build_count_*: buildings in the subarea by construction type or year\n",
    "x_count_500: the number of x within 500m of the property\n",
    "x_part_500: the share of x within 500m of the property\n",
    "_sqm_: square meters\n",
    "cafe_count_d_price_p: number of cafes within d meters of the property that have an average bill under p RUB\n",
    "trc_: shopping malls\n",
    "prom_: industrial zones\n",
    "green_: green zones\n",
    "metro_: subway\n",
    "_avto_: distances by car\n",
    "mkad_: Moscow Circle Auto Road\n",
    "ttk_: Third Transport Ring\n",
    "sadovoe_: Garden Ring\n",
    "bulvar_ring_: Boulevard Ring\n",
    "kremlin_: City center\n",
    "zd_vokzaly_: Train station\n",
    "oil_chemistry_: Dirty industry\n",
    "ts_: Power plant\n",
    "'''"
   ]
  },
  {
   "cell_type": "code",
   "execution_count": null,
   "metadata": {
    "collapsed": true
   },
   "outputs": [],
   "source": []
  }
 ],
 "metadata": {
  "kernelspec": {
   "display_name": "Python 2",
   "language": "python",
   "name": "python2"
  },
  "language_info": {
   "codemirror_mode": {
    "name": "ipython",
    "version": 2
   },
   "file_extension": ".py",
   "mimetype": "text/x-python",
   "name": "python",
   "nbconvert_exporter": "python",
   "pygments_lexer": "ipython2",
   "version": "2.7.13"
  }
 },
 "nbformat": 4,
 "nbformat_minor": 2
}
