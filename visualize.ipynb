{
 "cells": [
  {
   "cell_type": "code",
   "execution_count": 1,
   "metadata": {
    "collapsed": true
   },
   "outputs": [],
   "source": [
    "import numpy  as np\n",
    "import pandas as pd\n",
    "\n",
    "import matplotlib.pyplot as plt\n",
    "\n",
    "import remap_values      as rv\n",
    "import df_visualizations as dv"
   ]
  },
  {
   "cell_type": "code",
   "execution_count": 6,
   "metadata": {
    "collapsed": true
   },
   "outputs": [],
   "source": [
    "# price_doc new sale price"
   ]
  },
  {
   "cell_type": "code",
   "execution_count": 2,
   "metadata": {
    "collapsed": true
   },
   "outputs": [],
   "source": [
    "train_df = pd.read_csv( 'inp_data/train.csv' )\n",
    "test_df  = pd.read_csv( 'inp_data/test.csv'  )\n",
    "\n",
    "target_price = np.log10( train_df       ['price_doc'] .copy() )\n",
    "train_df     =           train_df.drop( ['price_doc'] , axis=1 )\n",
    "\n",
    "big_df = train_df.append( test_df ).copy()"
   ]
  },
  {
   "cell_type": "code",
   "execution_count": 3,
   "metadata": {
    "collapsed": false
   },
   "outputs": [
    {
     "name": "stdout",
     "output_type": "stream",
     "text": [
      "(30471, 291)\n",
      "(7662, 291)\n"
     ]
    }
   ],
   "source": [
    "print train_df.shape\n",
    "print test_df.shape"
   ]
  },
  {
   "cell_type": "code",
   "execution_count": 4,
   "metadata": {
    "collapsed": true
   },
   "outputs": [],
   "source": [
    "# Combine some values that contain similar info\n",
    "big_df['N_build']    = big_df[ ['build_count_wood' ,'build_count_frame'   ,'build_count_mix'  ,\n",
    "                                'build_count_slag' ,'build_count_foam'    ,'build_count_block',\n",
    "                                'build_count_panel','build_count_monolith','build_count_brick'] ].sum( axis=1 )\n",
    "\n",
    "big_df['Good_build'] = (big_df['build_count_wood'] + big_df['build_count_frame'] + big_df['build_count_mix'] + \n",
    "                        big_df['build_count_slag'] + big_df['build_count_foam']) / big_df['N_build']\n",
    "\n",
    "big_df['Bad_build' ] = (big_df['build_count_block']+ big_df['build_count_panel'] + big_df['build_count_monolith'] + \n",
    "                        big_df['build_count_brick'] ) / big_df['N_build']\n",
    "\n",
    "big_df['Good_build'] = big_df['Good_build'].fillna( big_df['Good_build'].median() )\n",
    "big_df['Bad_build' ] = big_df['Bad_build' ].fillna( big_df['Bad_build' ].median() )\n",
    "\n",
    "big_df.ix[ big_df['Good_build'] > 1.0 , 'Good_build' ] = big_df['Good_build'].median()\n",
    "big_df.ix[ big_df['Bad_build' ] > 1.0 , 'Bad_build'  ] = big_df['Bad_build' ].median()"
   ]
  },
  {
   "cell_type": "code",
   "execution_count": 5,
   "metadata": {
    "collapsed": true
   },
   "outputs": [],
   "source": [
    "# Cleaning/Binarize some yes/no\n",
    "power_plants = ['thermal_power_plant_raion','nuclear_reactor_raion']\n",
    "ruin_list    = ['incineration_raion','oil_chemistry_raion','radiation_raion']\n",
    "misc_list    = ['culture_objects_top_25','big_market_raion','detention_facility_raion','big_road1_1line']\n",
    "\n",
    "big_list = power_plants+ruin_list+misc_list\n",
    "\n",
    "for item in big_list:\n",
    "    big_df[item] = big_df[item].replace( {'no':0,'yes':1} ).fillna(0)\n",
    "    \n",
    "big_df['big_market_raion'     ] = big_df['big_market_raion'     ].fillna(0)\n",
    "big_df['nuclear_reactor_raion'] = big_df['nuclear_reactor_raion'].fillna(0) \n",
    "    \n",
    "# Do some data cleaning    \n",
    "big_df['product_type'] = big_df['product_type'].replace( {'Investment':0, 'OwnerOccupier':1} ).fillna(0)\n",
    "big_df['state'       ] = big_df['state'       ].replace( {33.:3.}).fillna(0.)\n",
    "big_df['material'    ] = big_df['material'    ].replace( {3:0})\n",
    "big_df['material'    ] = big_df['material'    ].replace( {6:3}).fillna(0)\n",
    "\n",
    "big_df['floor'    ] = big_df['floor'    ].fillna( 0 )\n",
    "big_df['state'    ] = big_df['state'    ].fillna( 0 )\n",
    "big_df['max_floor'] = big_df['max_floor'].fillna( 0 )\n",
    "\n",
    "\n",
    "# Fill nulls with medians\n",
    "for adj in ['prom_part_5000','life_sq','num_room','kitch_sq']:\n",
    "    big_df[adj] = big_df[adj].fillna( big_df[adj].median() )"
   ]
  },
  {
   "cell_type": "code",
   "execution_count": 6,
   "metadata": {
    "collapsed": true
   },
   "outputs": [],
   "source": [
    "# Fill build year oddballs, far outside range-fill in median\n",
    "# Otherwise, use material to estimate a year\n",
    "# Still outlying? Toss in the new mean\n",
    "big_df   [                              'build_year' ] = big_df['build_year'].replace( {2.00520090e+07:2007} )\n",
    "big_df.ix[ big_df['build_year'] < 1000, 'build_year' ] = big_df['build_year'].mean()\n",
    "big_df.ix[ big_df['build_year'] > 2020, 'build_year' ] = big_df['build_year'].mean()\n",
    "\n",
    "for floor in big_df['max_floor'].unique():\n",
    "    mean = big_df.ix[ big_df['max_floor'] == floor, 'build_year' ].mean()\n",
    "    big_df.ix[ big_df['max_floor'] == floor, 'build_year' ] = big_df.ix[ big_df['max_floor'] == floor, 'build_year' ].fillna( mean )\n",
    "big_df['build_year'] = big_df['build_year'].fillna( big_df['build_year'].mean() )"
   ]
  },
  {
   "cell_type": "code",
   "execution_count": 7,
   "metadata": {
    "collapsed": true
   },
   "outputs": [],
   "source": [
    "# Put floors in categorical range\n",
    "for flr in ['floor','max_floor']:\n",
    "    big_df.ix[ (big_df[flr] >  2) & (big_df[flr] <=  5), flr ] = 3\n",
    "    big_df.ix[ (big_df[flr] >  5) & (big_df[flr] <= 10), flr ] = 4\n",
    "    big_df.ix[ (big_df[flr] > 10) & (big_df[flr] <= 30), flr ] = 5\n",
    "    big_df.ix[ (big_df[flr] > 30) & (big_df[flr] <= 50), flr ] = 6\n",
    "    big_df.ix[ (big_df[flr] > 50)                      , flr ] = 7\n",
    "big_df.ix[ big_df['floor'] > big_df['max_floor'], 'max_floor' ] = big_df.ix[ big_df['floor'] > big_df['max_floor'], 'floor'] \n",
    "\n",
    "big_df['sub_area'] = rv.numerize_col( big_df, 'sub_area' )"
   ]
  },
  {
   "cell_type": "code",
   "execution_count": 8,
   "metadata": {
    "collapsed": true
   },
   "outputs": [],
   "source": [
    "# Take the material, and break it into binary classification\n",
    "foo = rv.binary_classification( big_df[ ['material'] ] )\n",
    "for col in foo.columns.values:\n",
    "    big_df[col] = foo[col]\n",
    "big_df = big_df.drop( 'material', axis = 1 )\n",
    "\n",
    "\n",
    "# Take the ecology, set up binary classifiction\n",
    "big_df['ecology'] = big_df['ecology'].replace( {'no data':0, 'poor':1, 'satisfactory':2, 'good':3, 'excellent':4} )\n",
    "foo = rv.binary_classification( big_df[ ['ecology'] ] )\n",
    "for col in foo.columns.values:\n",
    "    big_df[col] = foo[col]\n",
    "big_df = big_df.drop( 'ecology', axis = 1 )"
   ]
  },
  {
   "cell_type": "code",
   "execution_count": 9,
   "metadata": {
    "collapsed": false
   },
   "outputs": [],
   "source": [
    "# Drop less useful raion things\n",
    "big_df = big_df.drop( ['raion_popul','school_education_centers_top_20_raion','sport_objects_raion','office_raion',\n",
    "'hospital_beds_raion','university_top_20_raion','additional_education_raion','culture_objects_top_25_raion',\n",
    "'shopping_centers_raion','thermal_power_plant_raion','incineration_raion','oil_chemistry_raion','radiation_raion',\n",
    "'raion_build_count_with_material_info','raion_build_count_with_builddate_info','railroad_terminal_raion'], axis=1 )\n",
    "\n",
    "\n",
    "# Clean _km stuff\n",
    "for col in big_df.columns[ big_df.columns.str.contains('_km') ]:\n",
    "    big_df[col] = big_df[col].fillna( big_df[col].mean() )\n",
    "\n",
    "\n",
    "    \n",
    "# First to do:\n",
    "foo = big_df['cafe_count_5000'           ].copy()\n",
    "bar = big_df['cafe_count_5000_price_high'].copy()\n",
    "# Drop everyhing else\n",
    "big_df = big_df.drop( big_df.columns[ big_df.columns.str.contains('cafe') ], axis=1 )\n",
    "big_df['cafe_count_5000']            = foo.copy()\n",
    "big_df['cafe_count_5000_price_high'] = bar.copy()\n",
    "\n",
    "\n",
    "\n",
    "foo = big_df.ix[:, big_df.columns.str.contains('raion') ].copy()\n",
    "\n",
    "\n",
    "foo['healthcare_centers_raion'      ] = rv.normalize_column_sigma( foo, 'healthcare_centers_raion'      , lower_bound = False )\n",
    "foo['school_education_centers_raion'] = rv.normalize_column_sigma( foo, 'school_education_centers_raion', lower_bound = False )\n",
    "\n",
    "rain_pca  = rv.generate_reduced_PCA(    foo, 1, contain_str='raion', corr_df=target_price )\n",
    "km_pca    = rv.generate_reduced_PCA( big_df, 1, contain_str='_km'  , corr_df=target_price, sigma_normalize=True, \n",
    "                                                                      lower_bound = False, col_names='km' )\n",
    "count_pca = rv.generate_reduced_PCA( big_df, 1, ['cafe_count_5000','cafe_count_5000_price_high'], \n",
    "                                                                     corr_df=target_price, sigma_normalize=True,\n",
    "                                                                                           col_names='count')\n",
    "\n",
    "big_df = big_df.drop( big_df.columns.values[ big_df.columns.str.contains('raion') ], axis=1 )\n",
    "big_df = big_df.drop( big_df.columns.values[ big_df.columns.str.contains(  '_km') ], axis=1 )\n",
    "big_df = big_df.drop( big_df.columns.values[ big_df.columns.str.contains('count') ], axis=1 )\n",
    "\n",
    "big_df[  rain_pca.columns.values[0] ] =  rain_pca\n",
    "big_df[    km_pca.columns.values[0] ] =    km_pca\n",
    "big_df[ count_pca.columns.values[0] ] = count_pca"
   ]
  },
  {
   "cell_type": "code",
   "execution_count": 10,
   "metadata": {
    "collapsed": true
   },
   "outputs": [],
   "source": [
    "# Tweak some outliers and log some wide range variables\n",
    "big_df['area_m'] = np.log10( big_df['area_m'] )\n",
    "\n",
    "big_df.ix[ big_df['N_build' ] >  800, 'N_build' ] =  800\n",
    "big_df.ix[ big_df['full_sq' ] >  700, 'full_sq' ] =  700\n",
    "big_df.ix[ big_df['life_sq' ] >  100, 'life_sq' ] =  100\n",
    "big_df.ix[ big_df['kitch_sq'] >   20, 'kitch_sq'] =   20\n",
    "big_df.ix[ big_df['num_room'] >    6, 'num_room'] =    6\n",
    "\n",
    "log_list         = [ 'full_sq','life_sq','kitch_sq','N_build','children_school']\n",
    "norm_sigma_upper = [ 'area_m' ]\n",
    "\n",
    "for col in log_list:\n",
    "    big_df[col] = np.log10( big_df[col] + 1 )\n",
    "    big_df[col] = rv.scale_column_sigma( big_df, col, n_sigma=3.0 )\n",
    "    \n",
    "for col in norm_sigma_upper:\n",
    "    big_df[col] = rv.scale_column_sigma( big_df, col, n_sigma=3.0 )"
   ]
  },
  {
   "cell_type": "code",
   "execution_count": 11,
   "metadata": {
    "collapsed": false
   },
   "outputs": [],
   "source": [
    "# Create order of things to use and keep\n",
    "\n",
    "ordered_list = ['id', 'timestamp', 'full_sq', 'life_sq', 'floor', 'max_floor', 'build_year', 'num_room', 'kitch_sq', 'product_type',\n",
    "                'state', 'area_m', 'children_school', 'culture_objects_top_25', 'N_build', 'Good_build', \n",
    "                'raion_pca_0', 'km_pca_0', 'count_pca_0',\n",
    "                'material_0.0', 'material_1.0', 'material_2.0', 'material_3.0', 'material_4.0', 'material_5.0',\n",
    "                'ecology_0', 'ecology_1', 'ecology_2', 'ecology_3', 'ecology_4']\n",
    "\n",
    "binarize_list = ['state','sub_area']\n",
    "\n",
    "foo = big_df[binarize_list].copy()\n",
    "bar = rv.binary_classification( foo, ignore='state', upperLim=200 )\n",
    "\n",
    "big_df = big_df[ordered_list]\n",
    "\n",
    "for i in range( 0, 146 ):\n",
    "    col = 'sub_area_'+str(i)    \n",
    "    big_df[col] = bar[col]    "
   ]
  },
  {
   "cell_type": "code",
   "execution_count": 35,
   "metadata": {
    "collapsed": false
   },
   "outputs": [],
   "source": []
  },
  {
   "cell_type": "code",
   "execution_count": 12,
   "metadata": {
    "collapsed": false
   },
   "outputs": [
    {
     "data": {
      "text/plain": [
       "array(['id', 'timestamp', 'full_sq', 'life_sq', 'floor', 'max_floor',\n",
       "       'build_year', 'num_room', 'kitch_sq', 'product_type', 'state',\n",
       "       'area_m', 'children_school', 'culture_objects_top_25', 'N_build',\n",
       "       'Good_build', 'raion_pca_0', 'km_pca_0', 'count_pca_0',\n",
       "       'material_0.0', 'material_1.0', 'material_2.0', 'material_3.0',\n",
       "       'material_4.0', 'material_5.0', 'ecology_0', 'ecology_1',\n",
       "       'ecology_2', 'ecology_3', 'ecology_4', 'sub_area_0', 'sub_area_1',\n",
       "       'sub_area_2', 'sub_area_3', 'sub_area_4', 'sub_area_5',\n",
       "       'sub_area_6', 'sub_area_7', 'sub_area_8', 'sub_area_9',\n",
       "       'sub_area_10', 'sub_area_11', 'sub_area_12', 'sub_area_13',\n",
       "       'sub_area_14', 'sub_area_15', 'sub_area_16', 'sub_area_17',\n",
       "       'sub_area_18', 'sub_area_19', 'sub_area_20', 'sub_area_21',\n",
       "       'sub_area_22', 'sub_area_23', 'sub_area_24', 'sub_area_25',\n",
       "       'sub_area_26', 'sub_area_27', 'sub_area_28', 'sub_area_29',\n",
       "       'sub_area_30', 'sub_area_31', 'sub_area_32', 'sub_area_33',\n",
       "       'sub_area_34', 'sub_area_35', 'sub_area_36', 'sub_area_37',\n",
       "       'sub_area_38', 'sub_area_39', 'sub_area_40', 'sub_area_41',\n",
       "       'sub_area_42', 'sub_area_43', 'sub_area_44', 'sub_area_45',\n",
       "       'sub_area_46', 'sub_area_47', 'sub_area_48', 'sub_area_49',\n",
       "       'sub_area_50', 'sub_area_51', 'sub_area_52', 'sub_area_53',\n",
       "       'sub_area_54', 'sub_area_55', 'sub_area_56', 'sub_area_57',\n",
       "       'sub_area_58', 'sub_area_59', 'sub_area_60', 'sub_area_61',\n",
       "       'sub_area_62', 'sub_area_63', 'sub_area_64', 'sub_area_65',\n",
       "       'sub_area_66', 'sub_area_67', 'sub_area_68', 'sub_area_69',\n",
       "       'sub_area_70', 'sub_area_71', 'sub_area_72', 'sub_area_73',\n",
       "       'sub_area_74', 'sub_area_75', 'sub_area_76', 'sub_area_77',\n",
       "       'sub_area_78', 'sub_area_79', 'sub_area_80', 'sub_area_81',\n",
       "       'sub_area_82', 'sub_area_83', 'sub_area_84', 'sub_area_85',\n",
       "       'sub_area_86', 'sub_area_87', 'sub_area_88', 'sub_area_89',\n",
       "       'sub_area_90', 'sub_area_91', 'sub_area_92', 'sub_area_93',\n",
       "       'sub_area_94', 'sub_area_95', 'sub_area_96', 'sub_area_97',\n",
       "       'sub_area_98', 'sub_area_99', 'sub_area_100', 'sub_area_101',\n",
       "       'sub_area_102', 'sub_area_103', 'sub_area_104', 'sub_area_105',\n",
       "       'sub_area_106', 'sub_area_107', 'sub_area_108', 'sub_area_109',\n",
       "       'sub_area_110', 'sub_area_111', 'sub_area_112', 'sub_area_113',\n",
       "       'sub_area_114', 'sub_area_115', 'sub_area_116', 'sub_area_117',\n",
       "       'sub_area_118', 'sub_area_119', 'sub_area_120', 'sub_area_121',\n",
       "       'sub_area_122', 'sub_area_123', 'sub_area_124', 'sub_area_125',\n",
       "       'sub_area_126', 'sub_area_127', 'sub_area_128', 'sub_area_129',\n",
       "       'sub_area_130', 'sub_area_131', 'sub_area_132', 'sub_area_133',\n",
       "       'sub_area_134', 'sub_area_135', 'sub_area_136', 'sub_area_137',\n",
       "       'sub_area_138', 'sub_area_139', 'sub_area_140', 'sub_area_141',\n",
       "       'sub_area_142', 'sub_area_143', 'sub_area_144', 'sub_area_145'], dtype=object)"
      ]
     },
     "execution_count": 12,
     "metadata": {},
     "output_type": "execute_result"
    }
   ],
   "source": [
    "big_df.columns.values"
   ]
  },
  {
   "cell_type": "code",
   "execution_count": 20,
   "metadata": {
    "collapsed": true
   },
   "outputs": [],
   "source": [
    "cont_list = ['full_sq', 'life_sq', 'floor', 'max_floor', 'build_year', 'num_room', 'kitch_sq', 'state',\n",
    "       'area_m', 'children_school', 'N_build', 'Good_build', 'raion_pca_0', 'km_pca_0', 'count_pca_0']"
   ]
  },
  {
   "cell_type": "code",
   "execution_count": 14,
   "metadata": {
    "collapsed": true
   },
   "outputs": [],
   "source": [
    "for col in cont_list:\n",
    "    big_df[ col ].hist()\n",
    "    plt.title( col )\n",
    "    plt.show()"
   ]
  },
  {
   "cell_type": "code",
   "execution_count": 21,
   "metadata": {
    "collapsed": true
   },
   "outputs": [],
   "source": [
    "foo = big_df[cont_list].copy()\n",
    "foo['target_price'] = target_price"
   ]
  },
  {
   "cell_type": "code",
   "execution_count": 22,
   "metadata": {
    "collapsed": false
   },
   "outputs": [
    {
     "data": {
      "text/html": [
       "<div>\n",
       "<table border=\"1\" class=\"dataframe\">\n",
       "  <thead>\n",
       "    <tr style=\"text-align: right;\">\n",
       "      <th></th>\n",
       "      <th>full_sq</th>\n",
       "      <th>life_sq</th>\n",
       "      <th>floor</th>\n",
       "      <th>max_floor</th>\n",
       "      <th>build_year</th>\n",
       "      <th>num_room</th>\n",
       "      <th>kitch_sq</th>\n",
       "      <th>state</th>\n",
       "      <th>area_m</th>\n",
       "      <th>children_school</th>\n",
       "      <th>N_build</th>\n",
       "      <th>Good_build</th>\n",
       "      <th>raion_pca_0</th>\n",
       "      <th>km_pca_0</th>\n",
       "      <th>count_pca_0</th>\n",
       "      <th>target_price</th>\n",
       "    </tr>\n",
       "  </thead>\n",
       "  <tbody>\n",
       "    <tr>\n",
       "      <th>0</th>\n",
       "      <td>-0.478974</td>\n",
       "      <td>-0.230602</td>\n",
       "      <td>3.0</td>\n",
       "      <td>3.0</td>\n",
       "      <td>1890.542762</td>\n",
       "      <td>2.0</td>\n",
       "      <td>0.262875</td>\n",
       "      <td>0.0</td>\n",
       "      <td>-0.778320</td>\n",
       "      <td>0.955549</td>\n",
       "      <td>0.389385</td>\n",
       "      <td>0.000000</td>\n",
       "      <td>0.917588</td>\n",
       "      <td>-1.993079</td>\n",
       "      <td>-0.412594</td>\n",
       "      <td>6.767156</td>\n",
       "    </tr>\n",
       "    <tr>\n",
       "      <th>1</th>\n",
       "      <td>-1.164398</td>\n",
       "      <td>-1.019313</td>\n",
       "      <td>3.0</td>\n",
       "      <td>3.0</td>\n",
       "      <td>1890.542762</td>\n",
       "      <td>2.0</td>\n",
       "      <td>0.262875</td>\n",
       "      <td>0.0</td>\n",
       "      <td>-0.273679</td>\n",
       "      <td>0.703619</td>\n",
       "      <td>0.453524</td>\n",
       "      <td>0.004082</td>\n",
       "      <td>0.984308</td>\n",
       "      <td>-3.694572</td>\n",
       "      <td>-0.370825</td>\n",
       "      <td>6.778151</td>\n",
       "    </tr>\n",
       "    <tr>\n",
       "      <th>2</th>\n",
       "      <td>-0.478974</td>\n",
       "      <td>-0.068879</td>\n",
       "      <td>2.0</td>\n",
       "      <td>2.0</td>\n",
       "      <td>1890.542762</td>\n",
       "      <td>2.0</td>\n",
       "      <td>0.262875</td>\n",
       "      <td>0.0</td>\n",
       "      <td>-1.137734</td>\n",
       "      <td>0.505764</td>\n",
       "      <td>0.581501</td>\n",
       "      <td>0.003030</td>\n",
       "      <td>-0.020653</td>\n",
       "      <td>-3.955684</td>\n",
       "      <td>-0.462717</td>\n",
       "      <td>6.755875</td>\n",
       "    </tr>\n",
       "    <tr>\n",
       "      <th>3</th>\n",
       "      <td>1.664444</td>\n",
       "      <td>1.174946</td>\n",
       "      <td>4.0</td>\n",
       "      <td>4.0</td>\n",
       "      <td>1890.542762</td>\n",
       "      <td>2.0</td>\n",
       "      <td>0.262875</td>\n",
       "      <td>0.0</td>\n",
       "      <td>0.066451</td>\n",
       "      <td>1.205734</td>\n",
       "      <td>0.722476</td>\n",
       "      <td>0.161572</td>\n",
       "      <td>4.959672</td>\n",
       "      <td>-0.153778</td>\n",
       "      <td>-0.398660</td>\n",
       "      <td>7.117271</td>\n",
       "    </tr>\n",
       "    <tr>\n",
       "      <th>4</th>\n",
       "      <td>1.235829</td>\n",
       "      <td>2.170898</td>\n",
       "      <td>3.0</td>\n",
       "      <td>3.0</td>\n",
       "      <td>1890.542762</td>\n",
       "      <td>2.0</td>\n",
       "      <td>0.262875</td>\n",
       "      <td>0.0</td>\n",
       "      <td>-0.439656</td>\n",
       "      <td>0.579850</td>\n",
       "      <td>0.932480</td>\n",
       "      <td>0.005362</td>\n",
       "      <td>3.085282</td>\n",
       "      <td>-5.120265</td>\n",
       "      <td>5.207476</td>\n",
       "      <td>7.213025</td>\n",
       "    </tr>\n",
       "  </tbody>\n",
       "</table>\n",
       "</div>"
      ],
      "text/plain": [
       "    full_sq   life_sq  floor  max_floor   build_year  num_room  kitch_sq  \\\n",
       "0 -0.478974 -0.230602    3.0        3.0  1890.542762       2.0  0.262875   \n",
       "1 -1.164398 -1.019313    3.0        3.0  1890.542762       2.0  0.262875   \n",
       "2 -0.478974 -0.068879    2.0        2.0  1890.542762       2.0  0.262875   \n",
       "3  1.664444  1.174946    4.0        4.0  1890.542762       2.0  0.262875   \n",
       "4  1.235829  2.170898    3.0        3.0  1890.542762       2.0  0.262875   \n",
       "\n",
       "   state    area_m  children_school   N_build  Good_build  raion_pca_0  \\\n",
       "0    0.0 -0.778320         0.955549  0.389385    0.000000     0.917588   \n",
       "1    0.0 -0.273679         0.703619  0.453524    0.004082     0.984308   \n",
       "2    0.0 -1.137734         0.505764  0.581501    0.003030    -0.020653   \n",
       "3    0.0  0.066451         1.205734  0.722476    0.161572     4.959672   \n",
       "4    0.0 -0.439656         0.579850  0.932480    0.005362     3.085282   \n",
       "\n",
       "   km_pca_0  count_pca_0  target_price  \n",
       "0 -1.993079    -0.412594      6.767156  \n",
       "1 -3.694572    -0.370825      6.778151  \n",
       "2 -3.955684    -0.462717      6.755875  \n",
       "3 -0.153778    -0.398660      7.117271  \n",
       "4 -5.120265     5.207476      7.213025  "
      ]
     },
     "execution_count": 22,
     "metadata": {},
     "output_type": "execute_result"
    }
   ],
   "source": [
    "foo.head()"
   ]
  },
  {
   "cell_type": "code",
   "execution_count": 28,
   "metadata": {
    "collapsed": false
   },
   "outputs": [],
   "source": [
    "# 15\n",
    "dv.corr_plot( foo[ cont_list+['target_price'] ], focus='target_price' )"
   ]
  },
  {
   "cell_type": "code",
   "execution_count": 29,
   "metadata": {
    "collapsed": false
   },
   "outputs": [
    {
     "data": {
      "text/plain": [
       "km_pca_0          -0.230500\n",
       "area_m            -0.118341\n",
       "Good_build        -0.060685\n",
       "kitch_sq           0.060617\n",
       "build_year         0.076365\n",
       "floor              0.089569\n",
       "state              0.098849\n",
       "max_floor          0.107186\n",
       "children_school    0.138028\n",
       "raion_pca_0        0.142791\n",
       "N_build            0.148440\n",
       "count_pca_0        0.169617\n",
       "life_sq            0.245994\n",
       "num_room           0.266726\n",
       "full_sq            0.385930\n",
       "target_price       1.000000\n",
       "dtype: float64"
      ]
     },
     "execution_count": 29,
     "metadata": {},
     "output_type": "execute_result"
    }
   ],
   "source": [
    "foo.corrwith( target_price ).sort_values()"
   ]
  },
  {
   "cell_type": "code",
   "execution_count": null,
   "metadata": {
    "collapsed": true
   },
   "outputs": [],
   "source": []
  },
  {
   "cell_type": "code",
   "execution_count": null,
   "metadata": {
    "collapsed": true
   },
   "outputs": [],
   "source": []
  },
  {
   "cell_type": "code",
   "execution_count": 15,
   "metadata": {
    "collapsed": false
   },
   "outputs": [],
   "source": [
    "'''\n",
    "timestamp: date of transaction\n",
    "full_sq: total area in square meters, including loggias, balconies and other non-residential areas\n",
    "life_sq: living area in square meters, excluding loggias, balconies and other non-residential areas\n",
    "floor: for apartments, floor of the building\n",
    "max_floor: number of floors in the building\n",
    "material: wall material\n",
    "build_year: year built\n",
    "num_room: number of living rooms\n",
    "kitch_sq: kitchen area\n",
    "state: apartment condition\n",
    "product_type: owner-occupier purchase or investment\n",
    "'''"
   ]
  },
  {
   "cell_type": "code",
   "execution_count": 16,
   "metadata": {
    "collapsed": false
   },
   "outputs": [
    {
     "data": {
      "text/plain": [
       "'\\nsub_area: name of the district\\nfull_all: subarea population\\nmale_f, female_f: subarea population by gender\\nyoung_*: population younger than working age\\nwork_*: working-age population\\nekder_*: retirement-age population\\nn_m_{all|male|female}: population between n and m years old\\nbuild_count_*: buildings in the subarea by construction type or year\\nx_count_500: the number of x within 500m of the property\\nx_part_500: the share of x within 500m of the property\\n_sqm_: square meters\\ncafe_count_d_price_p: number of cafes within d meters of the property that have an average bill under p RUB\\ntrc_: shopping malls\\nprom_: industrial zones\\ngreen_: green zones\\nmetro_: subway\\n_avto_: distances by car\\nmkad_: Moscow Circle Auto Road\\nttk_: Third Transport Ring\\nsadovoe_: Garden Ring\\nbulvar_ring_: Boulevard Ring\\nkremlin_: City center\\nzd_vokzaly_: Train station\\noil_chemistry_: Dirty industry\\nts_: Power plant\\n'"
      ]
     },
     "execution_count": 16,
     "metadata": {},
     "output_type": "execute_result"
    }
   ],
   "source": [
    "'''\n",
    "raion=sub_area\n",
    "sub_area: name of the district\n",
    "full_all: subarea population\n",
    "male_f, female_f: subarea population by gender\n",
    "young_*: population younger than working age\n",
    "work_*: working-age population\n",
    "ekder_*: retirement-age population\n",
    "n_m_{all|male|female}: population between n and m years old\n",
    "build_count_*: buildings in the subarea by construction type or year\n",
    "x_count_500: the number of x within 500m of the property\n",
    "x_part_500: the share of x within 500m of the property\n",
    "_sqm_: square meters\n",
    "cafe_count_d_price_p: number of cafes within d meters of the property that have an average bill under p RUB\n",
    "trc_: shopping malls\n",
    "prom_: industrial zones\n",
    "green_: green zones\n",
    "metro_: subway\n",
    "_avto_: distances by car\n",
    "mkad_: Moscow Circle Auto Road\n",
    "ttk_: Third Transport Ring\n",
    "sadovoe_: Garden Ring\n",
    "bulvar_ring_: Boulevard Ring\n",
    "kremlin_: City center\n",
    "zd_vokzaly_: Train station\n",
    "oil_chemistry_: Dirty industry\n",
    "ts_: Power plant\n",
    "'''"
   ]
  },
  {
   "cell_type": "code",
   "execution_count": null,
   "metadata": {
    "collapsed": true
   },
   "outputs": [],
   "source": []
  }
 ],
 "metadata": {
  "kernelspec": {
   "display_name": "Python 2",
   "language": "python",
   "name": "python2"
  },
  "language_info": {
   "codemirror_mode": {
    "name": "ipython",
    "version": 2
   },
   "file_extension": ".py",
   "mimetype": "text/x-python",
   "name": "python",
   "nbconvert_exporter": "python",
   "pygments_lexer": "ipython2",
   "version": "2.7.13"
  }
 },
 "nbformat": 4,
 "nbformat_minor": 2
}
